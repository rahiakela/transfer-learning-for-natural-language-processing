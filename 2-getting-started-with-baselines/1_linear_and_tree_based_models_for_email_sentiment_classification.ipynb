{
  "nbformat": 4,
  "nbformat_minor": 0,
  "metadata": {
    "colab": {
      "name": "1-linear-and-tree-based-models-for-email-sentiment-classification.ipynb",
      "provenance": [],
      "authorship_tag": "ABX9TyPDk0JuF/kkB64JK8Ht78+T",
      "include_colab_link": true
    },
    "kernelspec": {
      "name": "python3",
      "display_name": "Python 3"
    }
  },
  "cells": [
    {
      "cell_type": "markdown",
      "metadata": {
        "id": "view-in-github",
        "colab_type": "text"
      },
      "source": [
        "<a href=\"https://colab.research.google.com/github/rahiakela/transfer-learning-for-natural-language-processing/blob/main/2-getting-started-with-baselines/1_linear_and_tree_based_models_for_email_sentiment_classification.ipynb\" target=\"_parent\"><img src=\"https://colab.research.google.com/assets/colab-badge.svg\" alt=\"Open In Colab\"/></a>"
      ]
    },
    {
      "cell_type": "markdown",
      "metadata": {
        "id": "0syenf2nUMgZ"
      },
      "source": [
        "# Linear & Tree-based models for Email Sentiment Classification"
      ]
    },
    {
      "cell_type": "markdown",
      "metadata": {
        "id": "0Tvj1R7TUOC2"
      },
      "source": [
        ""
      ]
    }
  ]
}