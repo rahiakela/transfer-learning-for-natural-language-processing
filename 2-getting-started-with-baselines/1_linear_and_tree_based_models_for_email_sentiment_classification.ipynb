{
  "nbformat": 4,
  "nbformat_minor": 0,
  "metadata": {
    "colab": {
      "name": "1-linear-and-tree-based-models-for-email-sentiment-classification.ipynb",
      "provenance": [],
      "toc_visible": true,
      "authorship_tag": "ABX9TyPyoS88xF0Oei1/3astFIfv",
      "include_colab_link": true
    },
    "kernelspec": {
      "name": "python3",
      "display_name": "Python 3"
    }
  },
  "cells": [
    {
      "cell_type": "markdown",
      "metadata": {
        "id": "view-in-github",
        "colab_type": "text"
      },
      "source": [
        "<a href=\"https://colab.research.google.com/github/rahiakela/transfer-learning-for-natural-language-processing/blob/main/2-getting-started-with-baselines/1_linear_and_tree_based_models_for_email_sentiment_classification.ipynb\" target=\"_parent\"><img src=\"https://colab.research.google.com/assets/colab-badge.svg\" alt=\"Open In Colab\"/></a>"
      ]
    },
    {
      "cell_type": "markdown",
      "metadata": {
        "id": "0syenf2nUMgZ"
      },
      "source": [
        "# Linear & Tree-based models for Email Sentiment Classification"
      ]
    },
    {
      "cell_type": "markdown",
      "metadata": {
        "id": "0Tvj1R7TUOC2"
      },
      "source": [
        "Our goal is to establish a set of baselines for a pair of concrete NLP problems, which we will later be able to use to measure progressive improvements gained from leveraging increasingly sophisticated transfer learning\r\n",
        "approaches. In the process of doing this, we aim to advance your general NLP instincts and refresh your understanding of typical procedures involved in setting up problem-solving pipelines for such problems. You will review techniques ranging from tokenization to data structure and model selection. We first train some traditional machine learning models from scratch to establish some preliminary baselines for these problems.\r\n",
        "\r\n",
        "We will focus on a pair of important representative example NLP problems – spam\r\n",
        "classification of email, and sentiment classification of movie reviews. This exercise will arm you with a number of important skills, including some tips for obtaining, visualizing and preprocessing data. \r\n",
        "\r\n",
        "Three major model classes will be covered, namely linear models such as logistic regression, decision-tree-based models such as random forests, and neural-network-based models such as ELMo. These classes are additionally represented by support vector machines (SVMs) with linear kernels, gradient-boosting machines (GBMs) and BERT respectively. \r\n",
        "\r\n",
        "<img src='https://github.com/rahiakela/img-repo/blob/master/transfer-learning-for-natural-language-processing/content-classification-supervised-models.png?raw=1' width='800'/>\r\n",
        "\r\n"
      ]
    },
    {
      "cell_type": "markdown",
      "metadata": {
        "id": "inPFIdfP7n4K"
      },
      "source": [
        "## Setup"
      ]
    },
    {
      "cell_type": "code",
      "metadata": {
        "id": "Xlt8No657pZ_",
        "outputId": "d52c6d05-21af-4cc6-c008-2341d0ccae75",
        "colab": {
          "base_uri": "https://localhost:8080/"
        }
      },
      "source": [
        "import numpy as np  # linear algebra\r\n",
        "import pandas as pd # data processing, CSV file I/O (e.g. pd.read_csv)\r\n",
        "import email        # email package for processing email messages\r\n",
        "import random\r\n",
        "import re\r\n",
        "import time\r\n",
        "\r\n",
        "\r\n",
        "from sklearn.linear_model import LogisticRegression\r\n",
        "from sklearn.metrics import accuracy_score\r\n",
        "from sklearn.svm import SVC                              # Support Vector Classification model\r\n",
        "from sklearn.ensemble import RandomForestClassifier      # random forest classifier library\r\n",
        "from sklearn.model_selection import GridSearchCV         # for tune parameters systematically\r\n",
        "from sklearn.ensemble import GradientBoostingClassifier  # GBM algorithm\r\n",
        "from sklearn import metrics                              #Additional scklearn functions\r\n",
        "from sklearn.model_selection import cross_val_score\r\n",
        "\r\n",
        "import nltk\r\n",
        "nltk.download('stopwords')\r\n",
        "from nltk.corpus import stopwords"
      ],
      "execution_count": 1,
      "outputs": [
        {
          "output_type": "stream",
          "text": [
            "[nltk_data] Downloading package stopwords to /root/nltk_data...\n",
            "[nltk_data]   Package stopwords is already up-to-date!\n"
          ],
          "name": "stdout"
        }
      ]
    },
    {
      "cell_type": "code",
      "metadata": {
        "id": "JQ8un4hI7uw1",
        "outputId": "817dc905-ad0f-4594-d698-bd775e549ccd",
        "colab": {
          "resources": {
            "http://localhost:8080/nbextensions/google.colab/files.js": {
              "data": "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",
              "ok": true,
              "headers": [
                [
                  "content-type",
                  "application/javascript"
                ]
              ],
              "status": 200,
              "status_text": ""
            }
          },
          "base_uri": "https://localhost:8080/",
          "height": 91
        }
      },
      "source": [
        "from google.colab import files\r\n",
        "files.upload() # upload kaggle.json file"
      ],
      "execution_count": 2,
      "outputs": [
        {
          "output_type": "display_data",
          "data": {
            "text/html": [
              "\n",
              "     <input type=\"file\" id=\"files-b83c2960-ae7d-4ac0-91f0-2f1272629d0a\" name=\"files[]\" multiple disabled\n",
              "        style=\"border:none\" />\n",
              "     <output id=\"result-b83c2960-ae7d-4ac0-91f0-2f1272629d0a\">\n",
              "      Upload widget is only available when the cell has been executed in the\n",
              "      current browser session. Please rerun this cell to enable.\n",
              "      </output>\n",
              "      <script src=\"/nbextensions/google.colab/files.js\"></script> "
            ],
            "text/plain": [
              "<IPython.core.display.HTML object>"
            ]
          },
          "metadata": {
            "tags": []
          }
        },
        {
          "output_type": "stream",
          "text": [
            "Saving kaggle.json to kaggle.json\n"
          ],
          "name": "stdout"
        },
        {
          "output_type": "execute_result",
          "data": {
            "text/plain": [
              "{'kaggle.json': b'{\"username\":\"rahiakela\",\"key\":\"484f91b2ebc194b0bff8ab8777c1ebff\"}'}"
            ]
          },
          "metadata": {
            "tags": []
          },
          "execution_count": 2
        }
      ]
    },
    {
      "cell_type": "code",
      "metadata": {
        "id": "wJKVZMbo7va7",
        "outputId": "23756315-434d-454b-ccc5-03f4dfb709d0",
        "colab": {
          "base_uri": "https://localhost:8080/"
        }
      },
      "source": [
        "%%shell\r\n",
        "\r\n",
        "mkdir -p ~/.kaggle\r\n",
        "mv kaggle.json ~/.kaggle/\r\n",
        "ls ~/.kaggle\r\n",
        "chmod 600 /root/.kaggle/kaggle.json\r\n",
        "\r\n",
        "# download dataset from kaggle\r\n",
        "kaggle datasets download -d wcukierski/enron-email-dataset\r\n",
        "unzip -qq enron-email-dataset.zip\r\n",
        "\r\n",
        "kaggle datasets download -d rtatman/fraudulent-email-corpus\r\n",
        "unzip -qq fraudulent-email-corpus.zip\r\n",
        "\r\n",
        "rm -rf enron-email-dataset.zip fraudulent-email-corpus.zip"
      ],
      "execution_count": 3,
      "outputs": [
        {
          "output_type": "stream",
          "text": [
            "kaggle.json\n",
            "Downloading enron-email-dataset.zip to /content\n",
            " 96% 345M/358M [00:06<00:00, 36.2MB/s]\n",
            "100% 358M/358M [00:06<00:00, 54.1MB/s]\n",
            "Downloading fraudulent-email-corpus.zip to /content\n",
            " 91% 5.00M/5.52M [00:00<00:00, 14.9MB/s]\n",
            "100% 5.52M/5.52M [00:00<00:00, 15.9MB/s]\n"
          ],
          "name": "stdout"
        },
        {
          "output_type": "execute_result",
          "data": {
            "text/plain": [
              ""
            ]
          },
          "metadata": {
            "tags": []
          },
          "execution_count": 3
        }
      ]
    },
    {
      "cell_type": "markdown",
      "metadata": {
        "id": "zQbAbRM7Wtfs"
      },
      "source": [
        "## Preprocessing Email Spam Classification Example Data"
      ]
    },
    {
      "cell_type": "markdown",
      "metadata": {
        "id": "HplaHzeVWwfg"
      },
      "source": [
        "Here, we are interested in developing an algorithm that can detect whether any given email is spam or not, at scale. To do this, we will build a dataset from two separate sources – the popular Enron email corpus as a proxy for email that is not spam, and a collection of “419” fraudulent emails as a proxy for email that is spam.\r\n",
        "\r\n",
        "We will view this as a supervised classification task, where we will first train a classifier on a collection of emails labeled as either spam or not spam. \r\n",
        "\r\n",
        "In particular, we will sample the Enron Corpus – the largest public email collection, related to the notorious Enron financial scandal – as a proxy for email that are not spam, and sample “419” fraudulent emails, representing the best known type of spam, as a proxy for email that is spam. Both of these types of emails are openly available on [Kaggle](https://www.kaggle.com/wcukierski/enron-email-dataset).\r\n",
        "\r\n",
        "The Enron corpus contains about half a million emails written by employees of the Enron Corporation, as collected by the Federal Energy Commission for the purposes of investigating the collapse of the company. It has been used extensively in the literature to study machine learning methods for email applications and is often the first data source researchers working with emails look to for initial experimentation with algorithm prototypes. On Kaggle, it is\r\n",
        "available as a single-column .csv file with one email per row. Note that this data is still cleaner than one can expect to typically find in many practical applications in the wild.\r\n",
        "\r\n",
        "<img src='https://github.com/rahiakela/img-repo/blob/master/transfer-learning-for-natural-language-processing/spam-email-preprocessing.png?raw=1' width='800'/>\r\n",
        "\r\n",
        "The body of the email will first be separated from the headers of the email, some statistics about the dataset will be teased out to get a sense for the data, stopwords will be removed from the email, and it will then be classified as either spam or not spam."
      ]
    },
    {
      "cell_type": "markdown",
      "metadata": {
        "id": "Yl9EgWVOay5R"
      },
      "source": [
        "### Loading and Visualizing the Fraudulent Email Corpus"
      ]
    },
    {
      "cell_type": "markdown",
      "metadata": {
        "id": "U6g1Yz69a-w7"
      },
      "source": [
        "Having loaded the Enron emails, let’s do the same for the “419” fraudulent email corpus, so that we can have some example data in our training set representing the “spam” class.\r\n",
        "\r\n",
        "> Since this dataset comes as a .txt file, versus a .csv, the preprocessing steps are slightly different. First\r\n",
        "of all, we have to specify the encoding when reading the file as latin1, otherwise the default encoding option of\r\n",
        "utf-8 will fail. It is often the case in practice that one needs to experiment with a number of different encodings,\r\n",
        "with the aforementioned two being the most popular ones, to get some datasets to read correctly. Additionally,\r\n",
        "note that because this .txt file is one big column of emails (with headers) separated by line breaks and white\r\n",
        "space, and is not separated nicely into rows with one email per row – as was the case for the Enron corpus – we\r\n",
        "can’t use Pandas to neatly load it as was done before. We will read all the emails into a single string, and split\r\n",
        "the string on a code word that appears close to the beginning of each email’s header, i.e, “From r”."
      ]
    },
    {
      "cell_type": "code",
      "metadata": {
        "id": "KoaktA_bbB7e"
      },
      "source": [
        "filepath = \"./fradulent_emails.txt\"\r\n",
        "with open(filepath, \"r\", encoding=\"latin1\") as file:\r\n",
        "  data = file.read()"
      ],
      "execution_count": null,
      "outputs": []
    },
    {
      "cell_type": "markdown",
      "metadata": {
        "id": "1lXb0MfIbCdX"
      },
      "source": [
        "Print the first 20000 characters of read file string (this gives only a few emails), and notice the keyword From r close to the beginning of each email header"
      ]
    },
    {
      "cell_type": "code",
      "metadata": {
        "id": "IKTeDH1hbFJX"
      },
      "source": [
        "print(data[:2000])"
      ],
      "execution_count": null,
      "outputs": []
    },
    {
      "cell_type": "markdown",
      "metadata": {
        "id": "4bmdi9UxbHDo"
      },
      "source": [
        "Split on the code word From r appearing close to the beginning of each email"
      ]
    },
    {
      "cell_type": "code",
      "metadata": {
        "id": "DydgG-oQbJcL"
      },
      "source": [
        "fraud_emails = data.split(\"From r\")\r\n",
        "print(\"Successfully loaded {} spam emails!\".format(len(fraud_emails)))"
      ],
      "execution_count": null,
      "outputs": []
    },
    {
      "cell_type": "markdown",
      "metadata": {
        "id": "IqSaPXPlbLfb"
      },
      "source": [
        "Now that the fraudulent data is loaded as a list, we can convert it into a Pandas DataFrame."
      ]
    },
    {
      "cell_type": "code",
      "metadata": {
        "id": "boolbOhybOhv"
      },
      "source": [
        "fraud_bodies = extract_messages(pd.DataFrame(fraud_emails, columns=[\"message\"], dtype=str))\r\n",
        "fraud_bodies_df = pd.DataFrame(fraud_bodies[1:])\r\n",
        "\r\n",
        "fraud_bodies_df.head()"
      ],
      "execution_count": null,
      "outputs": []
    },
    {
      "cell_type": "markdown",
      "metadata": {
        "id": "ZFjsooY28CFg"
      },
      "source": [
        "### Loading and Visualizing the Enron Corpus"
      ]
    },
    {
      "cell_type": "markdown",
      "metadata": {
        "id": "K9JO_OyeelZC"
      },
      "source": [
        "The first thing we need to do is load the data with the popular Pandas library, and to take a peek at a slice of the data to make sure we have a good sense of what it looks like."
      ]
    },
    {
      "cell_type": "code",
      "metadata": {
        "id": "5qxnwX82fZAE",
        "colab": {
          "base_uri": "https://localhost:8080/"
        },
        "outputId": "801553c4-209d-4354-a552-4fa9e06e2d39"
      },
      "source": [
        "filepath = \"./emails.csv\"\r\n",
        "\r\n",
        "# Read the enron data into a pandas.DataFrame called emails\r\n",
        "emails = pd.read_csv(filepath)\r\n",
        "print(\"Successfully loaded {} rows and {} columns!\".format(emails.shape[0], emails.shape[1]))\r\n",
        "print(emails.head())"
      ],
      "execution_count": 11,
      "outputs": [
        {
          "output_type": "stream",
          "text": [
            "Successfully loaded 517401 rows and 2 columns!\n",
            "                       file                                            message\n",
            "0     allen-p/_sent_mail/1.  Message-ID: <18782981.1075855378110.JavaMail.e...\n",
            "1    allen-p/_sent_mail/10.  Message-ID: <15464986.1075855378456.JavaMail.e...\n",
            "2   allen-p/_sent_mail/100.  Message-ID: <24216240.1075855687451.JavaMail.e...\n",
            "3  allen-p/_sent_mail/1000.  Message-ID: <13505866.1075863688222.JavaMail.e...\n",
            "4  allen-p/_sent_mail/1001.  Message-ID: <30922949.1075863688243.JavaMail.e...\n"
          ],
          "name": "stdout"
        }
      ]
    },
    {
      "cell_type": "code",
      "metadata": {
        "id": "-rYJUDMShrGg"
      },
      "source": [
        "# take a closer look at the first email\r\n",
        "print(emails.loc[0][\"message\"])"
      ],
      "execution_count": null,
      "outputs": []
    },
    {
      "cell_type": "markdown",
      "metadata": {
        "id": "ZG5cG3UpiqNs"
      },
      "source": [
        "We see that the messages are contained within the message column of the resulting DataFrame, with the extra fields at the beginning of each message – including Message ID, To, From, etc.,– being referred to as the message’s header information or simply header.\r\n",
        "\r\n",
        "Traditional spam classification methods derive features from the header information for classifying the message as spam or not. Here, we would like to perform the same task based on the content of the message only. One possible motivation for this approach is the fact that email training data may often be de-identified in practice due to privacy concerns and regulations, thereby making header info unavailable. Thus, we need to separate the headers from the messages in our dataset."
      ]
    },
    {
      "cell_type": "code",
      "metadata": {
        "id": "th76UvPbiWPj"
      },
      "source": [
        "def extract_messages(df):\r\n",
        "  messages = []\r\n",
        "  for item in df[\"message\"]:\r\n",
        "    # Return a message object structure from a string\r\n",
        "    e = email.message_from_string(item)\r\n",
        "    # get message body\r\n",
        "    message_body = e.get_payload()\r\n",
        "    messages.append(message_body)\r\n",
        "  print(\"Successfully retrieved message body from e-mails!\")\r\n",
        "  return messages"
      ],
      "execution_count": 2,
      "outputs": []
    },
    {
      "cell_type": "code",
      "metadata": {
        "id": "m3t4cgehjw3t",
        "colab": {
          "base_uri": "https://localhost:8080/"
        },
        "outputId": "2be0a33d-216e-43e9-da8a-8cbafc99af84"
      },
      "source": [
        "bodies = extract_messages(emails)"
      ],
      "execution_count": 12,
      "outputs": [
        {
          "output_type": "stream",
          "text": [
            "Successfully retrieved message body from e-mails!\n"
          ],
          "name": "stdout"
        }
      ]
    },
    {
      "cell_type": "code",
      "metadata": {
        "id": "sp43leIyj6iB",
        "colab": {
          "base_uri": "https://localhost:8080/"
        },
        "outputId": "52a6b503-1e9a-426c-9688-5749c134b95c"
      },
      "source": [
        "# We then can display some processed emails\r\n",
        "bodies_df = pd.DataFrame(bodies)\r\n",
        "print(bodies_df.head())"
      ],
      "execution_count": 13,
      "outputs": [
        {
          "output_type": "stream",
          "text": [
            "                                                   0\n",
            "0                          Here is our forecast\\n\\n \n",
            "1  Traveling to have a business meeting takes the...\n",
            "2                     test successful.  way to go!!!\n",
            "3  Randy,\\n\\n Can you send me a schedule of the s...\n",
            "4                Let's shoot for Tuesday at 11:45.  \n"
          ],
          "name": "stdout"
        }
      ]
    },
    {
      "cell_type": "code",
      "metadata": {
        "id": "m8b-w2r3kbRK",
        "outputId": "9f655bd1-c1e2-43f0-f8b7-aa0a8dc55575",
        "colab": {
          "base_uri": "https://localhost:8080/",
          "height": 268
        }
      },
      "source": [
        "# extract random 10000 enron email bodies for building dataset\r\n",
        "bodies_df = pd.DataFrame(random.sample(bodies, 10000))\r\n",
        "\r\n",
        "# expand default pandas display options to make emails more clearly visible when printed\r\n",
        "pd.set_option(\"display.max_colwidth\", 300)\r\n",
        "# you could do print(bodies_df.head()), but Jupyter displays this nicer for pandas DataFrames\r\n",
        "bodies_df.head()"
      ],
      "execution_count": 14,
      "outputs": [
        {
          "output_type": "execute_result",
          "data": {
            "text/html": [
              "<div>\n",
              "<style scoped>\n",
              "    .dataframe tbody tr th:only-of-type {\n",
              "        vertical-align: middle;\n",
              "    }\n",
              "\n",
              "    .dataframe tbody tr th {\n",
              "        vertical-align: top;\n",
              "    }\n",
              "\n",
              "    .dataframe thead th {\n",
              "        text-align: right;\n",
              "    }\n",
              "</style>\n",
              "<table border=\"1\" class=\"dataframe\">\n",
              "  <thead>\n",
              "    <tr style=\"text-align: right;\">\n",
              "      <th></th>\n",
              "      <th>0</th>\n",
              "    </tr>\n",
              "  </thead>\n",
              "  <tbody>\n",
              "    <tr>\n",
              "      <th>0</th>\n",
              "      <td>Thanks for your suggestions.  I forgot about you leaving at 4:30.  By girls\\nhave both those movies.  At age 2, my girls could not sit down long enough\\nto watch a movie.  They would watch a few minutes at a time of Barney.\\n\\n-----Original Message-----\\nFrom: Michelle.Lokay@enron.com [mailto:Mi...</td>\n",
              "    </tr>\n",
              "    <tr>\n",
              "      <th>1</th>\n",
              "      <td>PLEASE NOTE THAT THE DATES WE WERE CONSIDERING, JANUARY 10 &amp; JANUARY 17, ARE NOT GOING TO WORK.\\n\\nPlease let me know your availability for the following date:\\n\\nJanuary 18 at 8:00 a.m. to approximately 1:00 p.m.\\n\\nThanks,\\n\\nRosie\\n\\n</td>\n",
              "    </tr>\n",
              "    <tr>\n",
              "      <th>2</th>\n",
              "      <td>some broker dinner.  it is just a freebie.</td>\n",
              "    </tr>\n",
              "    <tr>\n",
              "      <th>3</th>\n",
              "      <td>A copy of Dr. Oren's paper, Efficient Intrazonal Transmission Pricing, is\\nattached.  In addition, Judge Cooper issued Order No. 7 today.  A copy is\\nattached for your information.\\n\\nSee you in the Commission Workshop on February 15.\\n\\nParviz Adib, Ph. D.\\nDirector of Market Oversight Division...</td>\n",
              "    </tr>\n",
              "    <tr>\n",
              "      <th>4</th>\n",
              "      <td>Hi Harry,\\n?\\nJust thought of saying hi since it has been an long  time.? How's everything \\nin Houston?? Things in banking are slowing  down.? I'm just hoping that this \\nproject I'm staffed on will go live.?  There is a 90% chance.? Most activity \\nnow in Asia is M&amp;A related.?  You see cross-b...</td>\n",
              "    </tr>\n",
              "  </tbody>\n",
              "</table>\n",
              "</div>"
            ],
            "text/plain": [
              "                                                                                                                                                                                                                                                                                                             0\n",
              "0  Thanks for your suggestions.  I forgot about you leaving at 4:30.  By girls\\nhave both those movies.  At age 2, my girls could not sit down long enough\\nto watch a movie.  They would watch a few minutes at a time of Barney.\\n\\n-----Original Message-----\\nFrom: Michelle.Lokay@enron.com [mailto:Mi...\n",
              "1                                                                PLEASE NOTE THAT THE DATES WE WERE CONSIDERING, JANUARY 10 & JANUARY 17, ARE NOT GOING TO WORK.\\n\\nPlease let me know your availability for the following date:\\n\\nJanuary 18 at 8:00 a.m. to approximately 1:00 p.m.\\n\\nThanks,\\n\\nRosie\\n\\n\n",
              "2                                                                                                                                                                                                                                                                   some broker dinner.  it is just a freebie.\n",
              "3  A copy of Dr. Oren's paper, Efficient Intrazonal Transmission Pricing, is\\nattached.  In addition, Judge Cooper issued Order No. 7 today.  A copy is\\nattached for your information.\\n\\nSee you in the Commission Workshop on February 15.\\n\\nParviz Adib, Ph. D.\\nDirector of Market Oversight Division...\n",
              "4  Hi Harry,\\n?\\nJust thought of saying hi since it has been an long  time.? How's everything \\nin Houston?? Things in banking are slowing  down.? I'm just hoping that this \\nproject I'm staffed on will go live.?  There is a 90% chance.? Most activity \\nnow in Asia is M&A related.?  You see cross-b..."
            ]
          },
          "metadata": {
            "tags": []
          },
          "execution_count": 14
        }
      ]
    },
    {
      "cell_type": "markdown",
      "metadata": {
        "id": "HjzHW02yni9B"
      },
      "source": [
        "The following (commented out) code is arguably the more \"pythonic\" way of achieving the extraction of bodies from messages. It is only 2 lines long and achieves the same result."
      ]
    },
    {
      "cell_type": "code",
      "metadata": {
        "id": "3g87bYPnnjNe"
      },
      "source": [
        "#messages = emails[\"message\"].apply(email.message_from_string)\r\n",
        "#bodies_df = messages.apply(lambda x: x.get_payload()).sample(10000)"
      ],
      "execution_count": null,
      "outputs": []
    },
    {
      "cell_type": "markdown",
      "metadata": {
        "id": "rsXoqMRdwC65"
      },
      "source": [
        "### Email text preprocessing"
      ]
    },
    {
      "cell_type": "markdown",
      "metadata": {
        "id": "UeeYY2_OuxYw"
      },
      "source": [
        "Having loaded both datasets, we are now ready to sample emails from each one into a single DataFrame that will represent the overall dataset covering both classes of emails. Before doing this, we must decide how many samples to draw from each class. Ideally, the number of samples in each class will represent the natural distribution of emails in the wild, i.e, if we expect our classifier to encounter 60% spam emails and 40% nonspam emails when deployed, then a ratio such as 600 to 400 respectively might make sense.\r\n",
        "\r\n",
        "**Note that a severe imbalance in the data, such as 99% for nonspam and 1% for spam may overfit to predict nonspam most of the time, an issue than needs to be considered when building datasets.** Since this is an idealized experiment, and we do not have any information on natural distributions of classes, we will\r\n",
        "assume a 50/50 split. \r\n",
        "\r\n",
        "We also need to give some thought to how we are going to tokenize the emails, i.e., split emails into subunits of text - words, sentences, etc. To start off, we will tokenize into words, as this is the most common approach. \r\n",
        "\r\n",
        "We must also decide the maximum number of tokens per email, and the maximum length of each token, to ensure that the occasional “extremely long” email does not bog down the performance of our classifier. \r\n",
        "\r\n",
        "We do all these by specifying the following general hyperparameters, which will later be tuned experimentally to enhance performance as needed:"
      ]
    },
    {
      "cell_type": "code",
      "metadata": {
        "id": "7_qzNMcNsGh-"
      },
      "source": [
        "n_sample = 1000   # number of samples to generate in each class - 'spam', 'not spam'\r\n",
        "maxtokens = 50    # the maximum number of tokens per document\r\n",
        "maxtokenlen = 20  # the maximum length of each token"
      ],
      "execution_count": 7,
      "outputs": []
    },
    {
      "cell_type": "markdown",
      "metadata": {
        "id": "QRVD-qopxT2f"
      },
      "source": [
        "With these hyperparameters specified, we can now create a single DataFrame for the overarching training dataset. Let’s take the opportunity to also perform remaining preprocessing tasks, namely removing stop words, punctuations and tokenizing."
      ]
    },
    {
      "cell_type": "markdown",
      "metadata": {
        "id": "I2OTWZJ6w9-J"
      },
      "source": [
        "#### Tokenization"
      ]
    },
    {
      "cell_type": "markdown",
      "metadata": {
        "id": "A-dJjXYvxaK9"
      },
      "source": [
        "Let’s proceed by defining a function to tokenize emails by splitting them into words."
      ]
    },
    {
      "cell_type": "code",
      "metadata": {
        "id": "42b-458pwdRh"
      },
      "source": [
        "def tokenize(row):\r\n",
        "  if row is None or row is \"\":\r\n",
        "    tokens = \"\"\r\n",
        "  else:\r\n",
        "    tokens = str(row).split(\" \")[:maxtokens]\r\n",
        "  return tokens"
      ],
      "execution_count": 8,
      "outputs": []
    },
    {
      "cell_type": "markdown",
      "metadata": {
        "id": "5_viulZEyUNO"
      },
      "source": [
        "#### Remove punctuation and unnecessary characters"
      ]
    },
    {
      "cell_type": "markdown",
      "metadata": {
        "id": "4MOkUJbxyUeG"
      },
      "source": [
        "Taking another look at the emails on the previous pair of pages, we see that they contain a lot of punctuation characters, and the spam emails tend to be capitalized. \r\n",
        "\r\n",
        "**In order to ensure that classification is done based on language content only, we have to remove punctuation marks and other non-word characters from the emails.** We do this by employing regular expressions with the Python regex library. We also normalize words by turning them into lower case."
      ]
    },
    {
      "cell_type": "code",
      "metadata": {
        "id": "2n-aNOVNx3mC"
      },
      "source": [
        "def reg_expressions(row):\r\n",
        "  tokens = []\r\n",
        "  try:\r\n",
        "    for token in row:\r\n",
        "      token = token.lower()          # make all characters lower case\r\n",
        "      token = re.sub(r\"[\\W\\d]\", \"\", token)\r\n",
        "      token = token[:maxtokenlen]    # truncate all tokens to hyperparameter maxtokenlen\r\n",
        "      tokens.append(token)\r\n",
        "  except:\r\n",
        "    token = \"\"\r\n",
        "    tokens.append(token)\r\n",
        "  return tokens"
      ],
      "execution_count": 9,
      "outputs": []
    },
    {
      "cell_type": "markdown",
      "metadata": {
        "id": "Ubr6_29dzvyA"
      },
      "source": [
        "#### Stop-word removal"
      ]
    },
    {
      "cell_type": "markdown",
      "metadata": {
        "id": "VjpNoFWhzwqu"
      },
      "source": [
        "Finally, let’s define a function to remove stopwords - words that occur so frequently in language that they offer no useful information for classification. This includes words such as “the” and “are”, and the popular library NLTK provides a heavily used list that we will employ."
      ]
    },
    {
      "cell_type": "code",
      "metadata": {
        "id": "75fyCvyDzpFd"
      },
      "source": [
        "stop_words = stopwords.words(\"english\")\r\n",
        "\r\n",
        "def stop_word_removal(row):\r\n",
        "  token = [token for token in row if token not in stop_words]\r\n",
        "  token = filter(None, token)\r\n",
        "\r\n",
        "  return token"
      ],
      "execution_count": 10,
      "outputs": []
    },
    {
      "cell_type": "markdown",
      "metadata": {
        "id": "2A14TaVP2Rro"
      },
      "source": [
        "### Assemble both Datasets"
      ]
    },
    {
      "cell_type": "markdown",
      "metadata": {
        "id": "BwhmZaVb2VDS"
      },
      "source": [
        "We are now going to put all these functions together to build the single dataset representing both classes. Most methods expect this dataset to be a Numpy array in order to process it, so we convert it to that form after combining the emails.\r\n",
        "\r\n",
        "Now, putting all the preprocessing steps together we assemble our dataset..."
      ]
    },
    {
      "cell_type": "code",
      "metadata": {
        "id": "V2rjwJFC0i7U"
      },
      "source": [
        "# Convert everything to lower-case, truncate to maxtokens and truncate each token to maxtokenlen\r\n",
        "\r\n",
        "# Apply predefined processing functions\r\n",
        "enron_emails = bodies_df.iloc[:, 0].apply(tokenize)\r\n",
        "enron_emails = enron_emails.apply(stop_word_removal)\r\n",
        "enron_emails = enron_emails.apply(reg_expressions)\r\n",
        "# sample the right number of emails from each class.\r\n",
        "enron_emails = enron_emails.sample(n_sample)\r\n",
        "\r\n",
        "# Apply predefined processing functions\r\n",
        "spam_emails = fraud_bodies_df.iloc[:, 0].apply(tokenize)\r\n",
        "spam_emails = spam_emails.apply(stop_word_removal)\r\n",
        "spam_emails = spam_emails.apply(reg_expressions)\r\n",
        "# sample the right number of emails from each class.\r\n",
        "spam_emails = spam_emails.sample(n_sample)\r\n",
        "\r\n",
        "# convert to Numpy array\r\n",
        "raw_data = pd.concat([enron_emails, spam_emails], axis=0).values"
      ],
      "execution_count": 15,
      "outputs": []
    },
    {
      "cell_type": "markdown",
      "metadata": {
        "id": "siEiJQvp4Q29"
      },
      "source": [
        "Now, let’s take a peek at the result to make sure things are proceeding as expected:"
      ]
    },
    {
      "cell_type": "code",
      "metadata": {
        "id": "YSd-Yfri4KaB",
        "outputId": "89083bb4-b718-4e61-f604-1d388835bee3",
        "colab": {
          "base_uri": "https://localhost:8080/"
        }
      },
      "source": [
        "print(\"Shape of combined data is:\", raw_data.shape)\r\n",
        "print(\"Data is:\")\r\n",
        "print(raw_data)"
      ],
      "execution_count": 16,
      "outputs": [
        {
          "output_type": "stream",
          "text": [
            "Shape of combined data is: (2000,)\n",
            "Data is:\n",
            "[list(['start', 'date', '', 'hourahead', 'hour', '', 'hourahead', 'schedule', 'download', 'failed', 'manual', 'intervention', 'required'])\n",
            " list(['might', 'get', 'together', 'little', 'earlier', 'depending', 'time', 'texaslsu', 'gameand', 'margaritas', 'babeshanna', 'husserenron', '', 'amto', 'eric', 'basshouectect', 'timothy', 'blanchardhoueesees', 'matthew', 'lenharthouectect', 'chad', 'landryhouectect', 'mmmarcantelequivacom', 'valgeneresaccomcc', 'subject', 'hey', 'guys', 'christen', 'i', 'going', 'cookoutpool', 'gathering', 'saturday', 'around', ''])\n",
            " list(['the', 'main', 'list', 'bemichael', 'farmer', '', 'ceo', 'merchanting', 'michaelfarmermgmccco', 'boettcher', 'thomasboettchermgmcc', 'hutchinson', '', 'chairman', 'mg', 'ltd', 'michaelhutchinsonmgl', 'jones', '', 'md', 'mg', 'ltd', '', 'head', 'trading', 'timjonesmgltdcoukrus', 'plackett', '', 'head', 'options', 'trading', 'russellplackettmgltd', 'schirmeister', '', 'director', 'marketing', 'christianschirmeiste', 'heath', '', 'it', 'development', 'alexheathmgltdcoukph', 'bacon', '', 'head'])\n",
            " ...\n",
            " list(['attention', 'dear', 'friendyour', 'inheritance', 'claimthis', 'is', 'to', 'notify', 'you', 'that', 'your', 'over', 'due', 'inheritance', 'claim', 'with', 'a', 'commercial', 'bank', 'is', 'to', 'be', 'releasedvia', 'key', 'tested', 'transferktt', 'wire', 'transfer', 'to', 'you', 'through', 'our', 'affiliate', 'bank', 'in', 'europeit', 'is', 'pertinent', 'to', 'note', 'that', 'an', 'issue', 'of', 'this', 'magnitude', 'should', 'have', 'commenced', 'with'])\n",
            " list(['barristerjames', 'oniemailjamesoniredi', 'friendit', 'obvious', 'proposal', 'come', 'suprise', 'this', 'isbecause', 'met', 'inspired', 'sending', 'emailby', 'huge', 'fund', 'transfer', 'opportunity', 'mutual', 'benefit', 'tothe', 'two', 'ushowever', 'i', 'barrister'])\n",
            " list(['emailmessagemessage', 'object', 'xfdddbf', 'emailmessagemessage', 'object', 'xfdddd'])]\n"
          ],
          "name": "stdout"
        }
      ]
    },
    {
      "cell_type": "markdown",
      "metadata": {
        "id": "NXy7SLuV44Xw"
      },
      "source": [
        "We see that the resulting array has divided the text into word units, as we intended to.\r\n",
        "\r\n",
        "Let’s create the headers corresponding to these emails, consisting of n_sample=1000 of spam emails followed by n_sample=1000 of non-spam emails:"
      ]
    },
    {
      "cell_type": "code",
      "metadata": {
        "id": "o2hCPV3z4qXn"
      },
      "source": [
        "categories = [\"spam\", \"notspam\"]\r\n",
        "header = ([1] * n_sample)\r\n",
        "header.extend(([0] * n_sample)) "
      ],
      "execution_count": 17,
      "outputs": []
    },
    {
      "cell_type": "markdown",
      "metadata": {
        "id": "v9La125o61fZ"
      },
      "source": [
        "We are now ready to convert this Numpy array into numerical features that can actually be fed to the algorithms for classification."
      ]
    },
    {
      "cell_type": "markdown",
      "metadata": {
        "id": "sj0jsZ9W65Yo"
      },
      "source": [
        "### Converting the Email Text Into Numbers"
      ]
    },
    {
      "cell_type": "markdown",
      "metadata": {
        "id": "ALmmE6Wo7A-6"
      },
      "source": [
        "We start by employing what is often considered the simplest method for vectorizing words, i.e., converting them into numerical vectors – the bag-of-words model. This model simply counts the frequency of word tokens contained in each email and thereby represents it as a vector of such frequency counts.\r\n",
        "\r\n",
        "Please observe that in doing this, we only retain tokens that appear more than once, as captured by the variable “used_tokens”. This enables us to keep the vector dimensions significantly lower than they would be otherwise. Please also\r\n",
        "note that one can achieve this using various in-built vectorizers in the popular library scikitlearn.\r\n",
        "\r\n",
        "We also note the scikit-learn vectorization methods include counting occurrences of sequences of any n words, or n-grams, as well as the tf-idf approach – important fundamental concepts you should brush on if rusty. For the problems looked at here, we did not notice an improvement when using these vectorization methods over the bag-of words approach.\r\n",
        "\r\n",
        "The assemble_bag() function assembles a new dataframe containing all the unique words found in the text documents. It counts the word frequency and then returns the new dataframe."
      ]
    },
    {
      "cell_type": "code",
      "metadata": {
        "id": "ve_ovHA36tk2"
      },
      "source": [
        "def assemble_bag(data):\r\n",
        "  used_tokens = []\r\n",
        "  all_tokens = []\r\n",
        "\r\n",
        "  for item in data:\r\n",
        "    for token in item:\r\n",
        "      if token in all_tokens:\r\n",
        "        # If token has been seen before, append it to output list used_tokens\r\n",
        "        if token not in used_tokens:\r\n",
        "          used_tokens.append(token)\r\n",
        "      else:\r\n",
        "        all_tokens.append(token)\r\n",
        "\r\n",
        "  df = pd.DataFrame(0, index=np.arange(len(data)), columns=used_tokens)\r\n",
        "\r\n",
        "  # Create a Pandas DataFrame counting frequencies of vocabulary words – corresponding to columns, in each email – corresponding to rows\r\n",
        "  for i, item in enumerate(data):\r\n",
        "    for token in item:\r\n",
        "      if token in used_tokens:\r\n",
        "        df.iloc[i][token] += 1\r\n",
        "\r\n",
        "  return df"
      ],
      "execution_count": 20,
      "outputs": []
    },
    {
      "cell_type": "markdown",
      "metadata": {
        "id": "kCJpbAgNUChs"
      },
      "source": [
        "We are now ready to convert these into numerical vectors!!\r\n",
        "\r\n",
        "Having defined the assemble_bag function, let’s use it to actually carry out the vectorization and visualize it as follows:"
      ]
    },
    {
      "cell_type": "code",
      "metadata": {
        "id": "bPvtszzgTaz5",
        "outputId": "1f3f8503-e2b7-47c1-d06e-f367e9f00944",
        "colab": {
          "base_uri": "https://localhost:8080/"
        }
      },
      "source": [
        "# create bag-of-words model\r\n",
        "enron_spam_bag = assemble_bag(raw_data) \r\n",
        "\r\n",
        "# this is the list of words in our bag-of-words model\r\n",
        "predictors = [column for column in enron_spam_bag.columns]\r\n",
        "print(enron_spam_bag)"
      ],
      "execution_count": 21,
      "outputs": [
        {
          "output_type": "stream",
          "text": [
            "         hourahead  mg  ltd  ...  wire  europeit  commenced  inspired\n",
            "0     2          2   0    0  ...     0         0          0         0\n",
            "1     2          0   0    0  ...     0         0          0         0\n",
            "2     8          0   2    2  ...     0         0          0         0\n",
            "3     0          0   0    0  ...     0         0          0         0\n",
            "4     2          0   0    0  ...     0         0          0         0\n",
            "...  ..        ...  ..  ...  ...   ...       ...        ...       ...\n",
            "1995  5          0   0    0  ...     0         0          0         0\n",
            "1996  0          0   0    0  ...     0         0          0         0\n",
            "1997  0          0   0    0  ...     1         1          1         0\n",
            "1998  0          0   0    0  ...     0         0          0         1\n",
            "1999  0          0   0    0  ...     0         0          0         0\n",
            "\n",
            "[2000 rows x 4788 columns]\n"
          ],
          "name": "stdout"
        }
      ]
    },
    {
      "cell_type": "markdown",
      "metadata": {
        "id": "etyyQh-ZWWXf"
      },
      "source": [
        "The column labels indicate words in the vocabulary of the bag-of-words model, and the numerical entries in each row correspond to the frequency counts of each such word for each of the 2000 emails in our dataset. Notice that it is an extremely sparse DataFrame, i.e., it consists mostly of values of 0.\r\n",
        "\r\n",
        "\r\n",
        "Having fully vectorized the dataset, we must remember that it is not shuffled with respect to classes, i.e., it contains Nsamp = 1000 spam emails followed by an equal number of nonspam emails. Depending on how this dataset is split, in our case by picking the first 70% for training and the remainder for testing, this could lead to a training set composed of spam only, which would obviously lead to failure. In order to create a randomized ordering of class samples in the dataset, we will need to shuffle the data in unison with the header/list of labels.\r\n"
      ]
    },
    {
      "cell_type": "code",
      "metadata": {
        "id": "O1jUL1YnVBQN"
      },
      "source": [
        "# shuffle raw data first\r\n",
        "def unison_shuffle_data(data, header):\r\n",
        "  p = np.random.permutation(len(header))\r\n",
        "  data = data[p, :]\r\n",
        "  header = np.asarray(header)[p]\r\n",
        "\r\n",
        "  return data, list(header)"
      ],
      "execution_count": 22,
      "outputs": []
    },
    {
      "cell_type": "markdown",
      "metadata": {
        "id": "TIGDs4kZYCIr"
      },
      "source": [
        "As the very last step of preparing the email dataset for training by our baseline classifiers, we split it into independent training and testing or validation sets. This will allow us to evaluate the performance of the classifier on a set of data that was not used for training, an important thing\r\n",
        "to ensure in machine learning practice. We elect to use 70% of the data for training, and 30% for testing/validation afterwards."
      ]
    },
    {
      "cell_type": "code",
      "metadata": {
        "id": "h2bJ0TlTX3FW",
        "outputId": "76bb3a61-ce2e-4f8a-cb1d-61908fd4787a",
        "colab": {
          "base_uri": "https://localhost:8080/"
        }
      },
      "source": [
        "data, header = unison_shuffle_data(enron_spam_bag.values, header)\r\n",
        "\r\n",
        "# split into independent 70% training and 30% testing sets\r\n",
        "idx = int(0.7 * data.shape[0])  # get 70% index value\r\n",
        "\r\n",
        "# 70% of data for training\r\n",
        "train_x = data[:idx, :]\r\n",
        "train_y = header[:idx]\r\n",
        "\r\n",
        "# remaining 30% for testing\r\n",
        "test_x = data[idx:, :]\r\n",
        "test_y = header[idx:]\r\n",
        "\r\n",
        "print(\"train_x/train_y list details, to make sure they are of the right form:\")\r\n",
        "print(len(train_x))\r\n",
        "print(train_x)\r\n",
        "print(len(train_y))\r\n",
        "print(train_y[:5])"
      ],
      "execution_count": 23,
      "outputs": [
        {
          "output_type": "stream",
          "text": [
            "train_x/train_y list details, to make sure they are of the right form:\n",
            "1400\n",
            "[[ 8  0  0 ...  0  0  0]\n",
            " [11  0  0 ...  0  0  0]\n",
            " [ 6  1  0 ...  0  0  0]\n",
            " ...\n",
            " [ 3  0  0 ...  0  0  0]\n",
            " [ 1  0  0 ...  0  0  0]\n",
            " [ 0  0  0 ...  0  0  0]]\n",
            "1400\n",
            "[1, 1, 1, 0, 0]\n"
          ],
          "name": "stdout"
        }
      ]
    },
    {
      "cell_type": "markdown",
      "metadata": {
        "id": "7HQRPMa4Z8RB"
      },
      "source": [
        "Since 70% of 2000 is 1400, looks good! (for n_sample=1000)"
      ]
    },
    {
      "cell_type": "markdown",
      "metadata": {
        "id": "yAdf-aVkadDa"
      },
      "source": [
        "## Generalized Linear Models"
      ]
    },
    {
      "cell_type": "markdown",
      "metadata": {
        "id": "lyHf2bhnaeI8"
      },
      "source": [
        ""
      ]
    },
    {
      "cell_type": "code",
      "metadata": {
        "id": "LUorbYbDZw8b"
      },
      "source": [
        ""
      ],
      "execution_count": null,
      "outputs": []
    }
  ]
}