{
  "nbformat": 4,
  "nbformat_minor": 0,
  "metadata": {
    "colab": {
      "name": "1-linear-and-tree-based-models-for-email-sentiment-classification.ipynb",
      "provenance": [],
      "toc_visible": true,
      "authorship_tag": "ABX9TyNIjQn5IMctnkhki9k+dnwn",
      "include_colab_link": true
    },
    "kernelspec": {
      "name": "python3",
      "display_name": "Python 3"
    }
  },
  "cells": [
    {
      "cell_type": "markdown",
      "metadata": {
        "id": "view-in-github",
        "colab_type": "text"
      },
      "source": [
        "<a href=\"https://colab.research.google.com/github/rahiakela/transfer-learning-for-natural-language-processing/blob/main/2-getting-started-with-baselines/1_linear_and_tree_based_models_for_email_sentiment_classification.ipynb\" target=\"_parent\"><img src=\"https://colab.research.google.com/assets/colab-badge.svg\" alt=\"Open In Colab\"/></a>"
      ]
    },
    {
      "cell_type": "markdown",
      "metadata": {
        "id": "0syenf2nUMgZ"
      },
      "source": [
        "# Linear & Tree-based models for Email Sentiment Classification"
      ]
    },
    {
      "cell_type": "markdown",
      "metadata": {
        "id": "0Tvj1R7TUOC2"
      },
      "source": [
        "Our goal is to establish a set of baselines for a pair of concrete NLP problems, which we will later be able to use to measure progressive improvements gained from leveraging increasingly sophisticated transfer learning\r\n",
        "approaches. In the process of doing this, we aim to advance your general NLP instincts and refresh your understanding of typical procedures involved in setting up problem-solving pipelines for such problems. You will review techniques ranging from tokenization to data structure and model selection. We first train some traditional machine learning models from scratch to establish some preliminary baselines for these problems.\r\n",
        "\r\n",
        "We will focus on a pair of important representative example NLP problems – spam\r\n",
        "classification of email, and sentiment classification of movie reviews. This exercise will arm you with a number of important skills, including some tips for obtaining, visualizing and preprocessing data. \r\n",
        "\r\n",
        "Three major model classes will be covered, namely linear models such as logistic regression, decision-tree-based models such as random forests, and neural-network-based models such as ELMo. These classes are additionally represented by support vector machines (SVMs) with linear kernels, gradient-boosting machines (GBMs) and BERT respectively. \r\n",
        "\r\n",
        "<img src='https://github.com/rahiakela/img-repo/blob/master/transfer-learning-for-natural-language-processing/content-classification-supervised-models.png?raw=1' width='800'/>\r\n",
        "\r\n"
      ]
    },
    {
      "cell_type": "markdown",
      "metadata": {
        "id": "inPFIdfP7n4K"
      },
      "source": [
        "## Setup"
      ]
    },
    {
      "cell_type": "code",
      "metadata": {
        "id": "Xlt8No657pZ_"
      },
      "source": [
        "import numpy as np  # linear algebra\r\n",
        "import pandas as pd # data processing, CSV file I/O (e.g. pd.read_csv)\r\n",
        "import email        # email package for processing email messages\r\n",
        "import random\r\n",
        "import re\r\n",
        "import time\r\n",
        "\r\n",
        "\r\n",
        "from sklearn.linear_model import LogisticRegression\r\n",
        "from sklearn.metrics import accuracy_score\r\n",
        "from sklearn.svm import SVC                              # Support Vector Classification model\r\n",
        "from sklearn.ensemble import RandomForestClassifier      # random forest classifier library\r\n",
        "from sklearn.model_selection import GridSearchCV         # for tune parameters systematically\r\n",
        "from sklearn.ensemble import GradientBoostingClassifier  # GBM algorithm\r\n",
        "from sklearn import metrics                              #Additional scklearn functions\r\n",
        "from sklearn.model_selection import cross_val_score\r\n",
        "\r\n",
        "import nltk\r\n",
        "nltk.download('stopwords')\r\n",
        "from nltk.corpus import stopwords"
      ],
      "execution_count": null,
      "outputs": []
    },
    {
      "cell_type": "code",
      "metadata": {
        "id": "JQ8un4hI7uw1"
      },
      "source": [
        "from google.colab import files\r\n",
        "files.upload() # upload kaggle.json file"
      ],
      "execution_count": null,
      "outputs": []
    },
    {
      "cell_type": "code",
      "metadata": {
        "id": "wJKVZMbo7va7"
      },
      "source": [
        "%%shell\r\n",
        "\r\n",
        "mkdir -p ~/.kaggle\r\n",
        "mv kaggle.json ~/.kaggle/\r\n",
        "ls ~/.kaggle\r\n",
        "chmod 600 /root/.kaggle/kaggle.json\r\n",
        "\r\n",
        "# download dataset from kaggle\r\n",
        "kaggle datasets download -d wcukierski/enron-email-dataset\r\n",
        "unzip -qq enron-email-dataset.zip\r\n",
        "\r\n",
        "kaggle datasets download -d rtatman/fraudulent-email-corpus\r\n",
        "unzip -qq fraudulent-email-corpus.zip\r\n",
        "\r\n",
        "rm -rf enron-email-dataset.zip fraudulent-email-corpus.zip"
      ],
      "execution_count": null,
      "outputs": []
    },
    {
      "cell_type": "markdown",
      "metadata": {
        "id": "zQbAbRM7Wtfs"
      },
      "source": [
        "## Preprocessing Email Spam Classification Example Data"
      ]
    },
    {
      "cell_type": "markdown",
      "metadata": {
        "id": "HplaHzeVWwfg"
      },
      "source": [
        "Here, we are interested in developing an algorithm that can detect whether any given email is spam or not, at scale. To do this, we will build a dataset from two separate sources – the popular Enron email corpus as a proxy for email that is not spam, and a collection of “419” fraudulent emails as a proxy for email that is spam.\r\n",
        "\r\n",
        "We will view this as a supervised classification task, where we will first train a classifier on a collection of emails labeled as either spam or not spam. \r\n",
        "\r\n",
        "In particular, we will sample the Enron Corpus – the largest public email collection, related to the notorious Enron financial scandal – as a proxy for email that are not spam, and sample “419” fraudulent emails, representing the best known type of spam, as a proxy for email that is spam. Both of these types of emails are openly available on [Kaggle](https://www.kaggle.com/wcukierski/enron-email-dataset).\r\n",
        "\r\n",
        "The Enron corpus contains about half a million emails written by employees of the Enron Corporation, as collected by the Federal Energy Commission for the purposes of investigating the collapse of the company. It has been used extensively in the literature to study machine learning methods for email applications and is often the first data source researchers working with emails look to for initial experimentation with algorithm prototypes. On Kaggle, it is\r\n",
        "available as a single-column .csv file with one email per row. Note that this data is still cleaner than one can expect to typically find in many practical applications in the wild.\r\n",
        "\r\n",
        "<img src='https://github.com/rahiakela/img-repo/blob/master/transfer-learning-for-natural-language-processing/spam-email-preprocessing.png?raw=1' width='800'/>\r\n",
        "\r\n",
        "The body of the email will first be separated from the headers of the email, some statistics about the dataset will be teased out to get a sense for the data, stopwords will be removed from the email, and it will then be classified as either spam or not spam."
      ]
    },
    {
      "cell_type": "markdown",
      "metadata": {
        "id": "ZFjsooY28CFg"
      },
      "source": [
        "### Loading and Visualizing the Enron Corpus"
      ]
    },
    {
      "cell_type": "markdown",
      "metadata": {
        "id": "K9JO_OyeelZC"
      },
      "source": [
        "The first thing we need to do is load the data with the popular Pandas library, and to take a peek at a slice of the data to make sure we have a good sense of what it looks like."
      ]
    },
    {
      "cell_type": "code",
      "metadata": {
        "id": "5qxnwX82fZAE",
        "colab": {
          "base_uri": "https://localhost:8080/"
        },
        "outputId": "e5c61a95-a70c-46b8-abe6-0d248a7ff2b8"
      },
      "source": [
        "filepath = \"./emails.csv\"\r\n",
        "\r\n",
        "# Read the enron data into a pandas.DataFrame called emails\r\n",
        "emails = pd.read_csv(filepath)\r\n",
        "print(\"Successfully loaded {} rows and {} columns!\".format(emails.shape[0], emails.shape[1]))\r\n",
        "print(emails.head())"
      ],
      "execution_count": 13,
      "outputs": [
        {
          "output_type": "stream",
          "text": [
            "Successfully loaded 517401 rows and 2 columns!\n",
            "                       file                                            message\n",
            "0     allen-p/_sent_mail/1.  Message-ID: <18782981.1075855378110.JavaMail.e...\n",
            "1    allen-p/_sent_mail/10.  Message-ID: <15464986.1075855378456.JavaMail.e...\n",
            "2   allen-p/_sent_mail/100.  Message-ID: <24216240.1075855687451.JavaMail.e...\n",
            "3  allen-p/_sent_mail/1000.  Message-ID: <13505866.1075863688222.JavaMail.e...\n",
            "4  allen-p/_sent_mail/1001.  Message-ID: <30922949.1075863688243.JavaMail.e...\n"
          ],
          "name": "stdout"
        }
      ]
    },
    {
      "cell_type": "code",
      "metadata": {
        "id": "-rYJUDMShrGg"
      },
      "source": [
        "# take a closer look at the first email\r\n",
        "print(emails.loc[0][\"message\"])"
      ],
      "execution_count": null,
      "outputs": []
    },
    {
      "cell_type": "markdown",
      "metadata": {
        "id": "ZG5cG3UpiqNs"
      },
      "source": [
        "We see that the messages are contained within the message column of the resulting DataFrame, with the extra fields at the beginning of each message – including Message ID, To, From, etc.,– being referred to as the message’s header information or simply header.\r\n",
        "\r\n",
        "Traditional spam classification methods derive features from the header information for classifying the message as spam or not. Here, we would like to perform the same task based on the content of the message only. One possible motivation for this approach is the fact that email training data may often be de-identified in practice due to privacy concerns and regulations, thereby making header info unavailable. Thus, we need to separate the headers from the messages in our dataset."
      ]
    },
    {
      "cell_type": "code",
      "metadata": {
        "id": "th76UvPbiWPj"
      },
      "source": [
        "def extract_messages(df):\r\n",
        "  messages = []\r\n",
        "  for item in df[\"message\"]:\r\n",
        "    # Return a message object structure from a string\r\n",
        "    e = email.message_from_string(item)\r\n",
        "    # get message body\r\n",
        "    message_body = e.get_payload()\r\n",
        "    messages.append(message_body)\r\n",
        "  print(\"Successfully retrieved message body from e-mails!\")\r\n",
        "  return messages"
      ],
      "execution_count": 5,
      "outputs": []
    },
    {
      "cell_type": "code",
      "metadata": {
        "id": "m3t4cgehjw3t",
        "colab": {
          "base_uri": "https://localhost:8080/"
        },
        "outputId": "a6635955-87b0-404c-cf3e-5275d5b3d145"
      },
      "source": [
        "bodies = extract_messages(emails)"
      ],
      "execution_count": 15,
      "outputs": [
        {
          "output_type": "stream",
          "text": [
            "Successfully retrieved message body from e-mails!\n"
          ],
          "name": "stdout"
        }
      ]
    },
    {
      "cell_type": "code",
      "metadata": {
        "id": "sp43leIyj6iB",
        "colab": {
          "base_uri": "https://localhost:8080/"
        },
        "outputId": "8d66d60c-5e8a-43e7-c7ad-a0f9068d76ed"
      },
      "source": [
        "# We then can display some processed emails\r\n",
        "bodies_df = pd.DataFrame(bodies)\r\n",
        "print(bodies_df.head())"
      ],
      "execution_count": 16,
      "outputs": [
        {
          "output_type": "stream",
          "text": [
            "                                                   0\n",
            "0                          Here is our forecast\\n\\n \n",
            "1  Traveling to have a business meeting takes the...\n",
            "2                     test successful.  way to go!!!\n",
            "3  Randy,\\n\\n Can you send me a schedule of the s...\n",
            "4                Let's shoot for Tuesday at 11:45.  \n"
          ],
          "name": "stdout"
        }
      ]
    },
    {
      "cell_type": "code",
      "metadata": {
        "id": "m8b-w2r3kbRK"
      },
      "source": [
        "# extract random 10000 enron email bodies for building dataset\r\n",
        "bodies_df = pd.DataFrame(random.sample(bodies, 10000))\r\n",
        "\r\n",
        "# expand default pandas display options to make emails more clearly visible when printed\r\n",
        "pd.set_option(\"display.max_colwidth\", 300)\r\n",
        "# you could do print(bodies_df.head()), but Jupyter displays this nicer for pandas DataFrames\r\n",
        "bodies_df.head()"
      ],
      "execution_count": null,
      "outputs": []
    },
    {
      "cell_type": "markdown",
      "metadata": {
        "id": "HjzHW02yni9B"
      },
      "source": [
        "The following (commented out) code is arguably the more \"pythonic\" way of achieving the extraction of bodies from messages. It is only 2 lines long and achieves the same result."
      ]
    },
    {
      "cell_type": "code",
      "metadata": {
        "id": "3g87bYPnnjNe"
      },
      "source": [
        "#messages = emails[\"message\"].apply(email.message_from_string)\r\n",
        "#bodies_df = messages.apply(lambda x: x.get_payload()).sample(10000)"
      ],
      "execution_count": 10,
      "outputs": []
    },
    {
      "cell_type": "markdown",
      "metadata": {
        "id": "5kjx0tpinrhZ"
      },
      "source": [
        "### Loading and Visualizing the Fraudulent Email Corpus"
      ]
    },
    {
      "cell_type": "markdown",
      "metadata": {
        "id": "p3D5xEwVn29o"
      },
      "source": [
        "Having loaded the Enron emails, let’s do the same for the “419” fraudulent email corpus, so that we can have some example data in our training set representing the “spam” class.\r\n",
        "\r\n",
        "> Since this dataset comes as a .txt file, versus a .csv, the preprocessing steps are slightly different. First\r\n",
        "of all, we have to specify the encoding when reading the file as latin1, otherwise the default encoding option of\r\n",
        "utf-8 will fail. It is often the case in practice that one needs to experiment with a number of different encodings,\r\n",
        "with the aforementioned two being the most popular ones, to get some datasets to read correctly. Additionally,\r\n",
        "note that because this .txt file is one big column of emails (with headers) separated by line breaks and white\r\n",
        "space, and is not separated nicely into rows with one email per row – as was the case for the Enron corpus – we\r\n",
        "can’t use Pandas to neatly load it as was done before. We will read all the emails into a single string, and split\r\n",
        "the string on a code word that appears close to the beginning of each email’s header, i.e, “From r”."
      ]
    },
    {
      "cell_type": "code",
      "metadata": {
        "id": "kD_8B8J-qNXI"
      },
      "source": [
        "filepath = \"./fradulent_emails.txt\"\r\n",
        "with open(filepath, \"r\", encoding=\"latin1\") as file:\r\n",
        "  data = file.read()"
      ],
      "execution_count": 2,
      "outputs": []
    },
    {
      "cell_type": "markdown",
      "metadata": {
        "id": "LBrM827Qqmhm"
      },
      "source": [
        "Print the first 20000 characters of read file string (this gives only a few emails), and notice the keyword From r close to the beginning of each email header"
      ]
    },
    {
      "cell_type": "code",
      "metadata": {
        "id": "gChcLWF4ql6Q"
      },
      "source": [
        "print(data[:2000])"
      ],
      "execution_count": null,
      "outputs": []
    },
    {
      "cell_type": "markdown",
      "metadata": {
        "id": "ET6iUnW_rC_U"
      },
      "source": [
        "Split on the code word From r appearing close to the beginning of each email"
      ]
    },
    {
      "cell_type": "code",
      "metadata": {
        "id": "ZgZSbJB1qqLA",
        "outputId": "a0ab1da2-dd53-404e-d6d6-cd9ed6707974",
        "colab": {
          "base_uri": "https://localhost:8080/"
        }
      },
      "source": [
        "fraud_emails = data.split(\"From r\")\r\n",
        "print(\"Successfully loaded {} spam emails!\".format(len(fraud_emails)))"
      ],
      "execution_count": 4,
      "outputs": [
        {
          "output_type": "stream",
          "text": [
            "Successfully loaded 3978 spam emails!\n"
          ],
          "name": "stdout"
        }
      ]
    },
    {
      "cell_type": "markdown",
      "metadata": {
        "id": "a57IYS-orm4y"
      },
      "source": [
        "Now that the fraudulent data is loaded as a list, we can convert it into a Pandas DataFrame."
      ]
    },
    {
      "cell_type": "code",
      "metadata": {
        "id": "n3473JGZrOsu",
        "outputId": "17f83ebf-ef79-43a6-aa3c-0b364145780d",
        "colab": {
          "base_uri": "https://localhost:8080/",
          "height": 218
        }
      },
      "source": [
        "fraud_bodies = extract_messages(pd.DataFrame(fraud_emails, columns=[\"message\"], dtype=str))\r\n",
        "fraud_bodies_df = pd.DataFrame(fraud_bodies[1:])\r\n",
        "\r\n",
        "fraud_bodies_df.head()"
      ],
      "execution_count": 6,
      "outputs": [
        {
          "output_type": "stream",
          "text": [
            "Successfully retrieved message body from e-mails!\n"
          ],
          "name": "stdout"
        },
        {
          "output_type": "execute_result",
          "data": {
            "text/html": [
              "<div>\n",
              "<style scoped>\n",
              "    .dataframe tbody tr th:only-of-type {\n",
              "        vertical-align: middle;\n",
              "    }\n",
              "\n",
              "    .dataframe tbody tr th {\n",
              "        vertical-align: top;\n",
              "    }\n",
              "\n",
              "    .dataframe thead th {\n",
              "        text-align: right;\n",
              "    }\n",
              "</style>\n",
              "<table border=\"1\" class=\"dataframe\">\n",
              "  <thead>\n",
              "    <tr style=\"text-align: right;\">\n",
              "      <th></th>\n",
              "      <th>0</th>\n",
              "    </tr>\n",
              "  </thead>\n",
              "  <tbody>\n",
              "    <tr>\n",
              "      <th>0</th>\n",
              "      <td>FROM:MR. JAMES NGOLA.\\nCONFIDENTIAL TEL: 233-2...</td>\n",
              "    </tr>\n",
              "    <tr>\n",
              "      <th>1</th>\n",
              "      <td>Dear Friend,\\n\\nI am Mr. Ben Suleman a custom ...</td>\n",
              "    </tr>\n",
              "    <tr>\n",
              "      <th>2</th>\n",
              "      <td>FROM HIS ROYAL MAJESTY (HRM) CROWN RULER OF EL...</td>\n",
              "    </tr>\n",
              "    <tr>\n",
              "      <th>3</th>\n",
              "      <td>FROM HIS ROYAL MAJESTY (HRM) CROWN RULER OF EL...</td>\n",
              "    </tr>\n",
              "    <tr>\n",
              "      <th>4</th>\n",
              "      <td>Dear sir, \\n \\nIt is with a heart full of hope...</td>\n",
              "    </tr>\n",
              "  </tbody>\n",
              "</table>\n",
              "</div>"
            ],
            "text/plain": [
              "                                                   0\n",
              "0  FROM:MR. JAMES NGOLA.\\nCONFIDENTIAL TEL: 233-2...\n",
              "1  Dear Friend,\\n\\nI am Mr. Ben Suleman a custom ...\n",
              "2  FROM HIS ROYAL MAJESTY (HRM) CROWN RULER OF EL...\n",
              "3  FROM HIS ROYAL MAJESTY (HRM) CROWN RULER OF EL...\n",
              "4  Dear sir, \\n \\nIt is with a heart full of hope..."
            ]
          },
          "metadata": {
            "tags": []
          },
          "execution_count": 6
        }
      ]
    },
    {
      "cell_type": "markdown",
      "metadata": {
        "id": "rsXoqMRdwC65"
      },
      "source": [
        "### Email text preprocessing"
      ]
    },
    {
      "cell_type": "markdown",
      "metadata": {
        "id": "UeeYY2_OuxYw"
      },
      "source": [
        "Having loaded both datasets, we are now ready to sample emails from each one into a single DataFrame that will represent the overall dataset covering both classes of emails. Before doing this, we must decide how many samples to draw from each class. Ideally, the number of samples in each class will represent the natural distribution of emails in the wild, i.e, if we expect our classifier to encounter 60% spam emails and 40% nonspam emails when deployed, then a ratio such as 600 to 400 respectively might make sense.\r\n",
        "\r\n",
        "**Note that a severe imbalance in the data, such as 99% for nonspam and 1% for spam may overfit to predict nonspam most of the time, an issue than needs to be considered when building datasets.** Since this is an idealized experiment, and we do not have any information on natural distributions of classes, we will\r\n",
        "assume a 50/50 split. \r\n",
        "\r\n",
        "We also need to give some thought to how we are going to tokenize the emails, i.e., split emails into subunits of text - words, sentences, etc. To start off, we will tokenize into words, as this is the most common approach. \r\n",
        "\r\n",
        "We must also decide the maximum number of tokens per email, and the maximum length of each token, to ensure that the occasional “extremely long” email does not bog down the performance of our classifier. \r\n",
        "\r\n",
        "We do all these by specifying the following general hyperparameters, which will later be tuned experimentally to enhance performance as needed:"
      ]
    },
    {
      "cell_type": "code",
      "metadata": {
        "id": "7_qzNMcNsGh-"
      },
      "source": [
        "n_sample = 1000   # number of samples to generate in each class - 'spam', 'not spam'\r\n",
        "maxtokens = 50    # the maximum number of tokens per document\r\n",
        "maxtokenlen = 20  # the maximum length of each token"
      ],
      "execution_count": 25,
      "outputs": []
    },
    {
      "cell_type": "markdown",
      "metadata": {
        "id": "QRVD-qopxT2f"
      },
      "source": [
        "With these hyperparameters specified, we can now create a single DataFrame for the overarching training dataset. Let’s take the opportunity to also perform remaining preprocessing tasks, namely removing stop words, punctuations and tokenizing."
      ]
    },
    {
      "cell_type": "markdown",
      "metadata": {
        "id": "I2OTWZJ6w9-J"
      },
      "source": [
        "#### Tokenization"
      ]
    },
    {
      "cell_type": "markdown",
      "metadata": {
        "id": "A-dJjXYvxaK9"
      },
      "source": [
        "Let’s proceed by defining a function to tokenize emails by splitting them into words."
      ]
    },
    {
      "cell_type": "code",
      "metadata": {
        "id": "42b-458pwdRh"
      },
      "source": [
        "def tokenize(row):\r\n",
        "  if row is None or row is \"\":\r\n",
        "    tokens = \"\"\r\n",
        "  else:\r\n",
        "    tokens = str(row).split(\" \")[:maxtokens]\r\n",
        "  return tokens"
      ],
      "execution_count": 8,
      "outputs": []
    },
    {
      "cell_type": "markdown",
      "metadata": {
        "id": "5_viulZEyUNO"
      },
      "source": [
        "#### Remove punctuation and unnecessary characters"
      ]
    },
    {
      "cell_type": "markdown",
      "metadata": {
        "id": "4MOkUJbxyUeG"
      },
      "source": [
        "Taking another look at the emails on the previous pair of pages, we see that they contain a lot of punctuation characters, and the spam emails tend to be capitalized. \r\n",
        "\r\n",
        "**In order to ensure that classification is done based on language content only, we have to remove punctuation marks and other non-word characters from the emails.** We do this by employing regular expressions with the Python regex library. We also normalize words by turning them into lower case."
      ]
    },
    {
      "cell_type": "code",
      "metadata": {
        "id": "2n-aNOVNx3mC"
      },
      "source": [
        "def reg_expressions(row):\r\n",
        "  tokens = []\r\n",
        "  try:\r\n",
        "    for token in row:\r\n",
        "      token = token.lower()          # make all characters lower case\r\n",
        "      token = re.sub(r\"[\\W\\d]\", \"\", token)\r\n",
        "      token = token[:maxtokenlen]    # truncate all tokens to hyperparameter maxtokenlen\r\n",
        "      tokens.append(token)\r\n",
        "  except:\r\n",
        "    token = \"\"\r\n",
        "    tokens.append(token)\r\n",
        "  return tokens"
      ],
      "execution_count": 9,
      "outputs": []
    },
    {
      "cell_type": "markdown",
      "metadata": {
        "id": "Ubr6_29dzvyA"
      },
      "source": [
        "#### Stop-word removal"
      ]
    },
    {
      "cell_type": "markdown",
      "metadata": {
        "id": "VjpNoFWhzwqu"
      },
      "source": [
        "Finally, let’s define a function to remove stopwords - words that occur so frequently in language that they offer no useful information for classification. This includes words such as “the” and “are”, and the popular library NLTK provides a heavily used list that we will employ."
      ]
    },
    {
      "cell_type": "code",
      "metadata": {
        "id": "75fyCvyDzpFd"
      },
      "source": [
        "stop_words = stopwords.words(\"english\")\r\n",
        "\r\n",
        "def stop_word_removal(row):\r\n",
        "  token = [token for token in row if token not in stop_words]\r\n",
        "  token = filter(None, token)\r\n",
        "\r\n",
        "  return token"
      ],
      "execution_count": 24,
      "outputs": []
    },
    {
      "cell_type": "markdown",
      "metadata": {
        "id": "2A14TaVP2Rro"
      },
      "source": [
        "### Assemble both Datasets"
      ]
    },
    {
      "cell_type": "markdown",
      "metadata": {
        "id": "BwhmZaVb2VDS"
      },
      "source": [
        "We are now going to put all these functions together to build the single dataset representing both classes. Most methods expect this dataset to be a Numpy array in order to process it, so we convert it to that form after combining the emails.\r\n",
        "\r\n",
        "Now, putting all the preprocessing steps together we assemble our dataset..."
      ]
    },
    {
      "cell_type": "code",
      "metadata": {
        "id": "V2rjwJFC0i7U"
      },
      "source": [
        "# Convert everything to lower-case, truncate to maxtokens and truncate each token to maxtokenlen\r\n",
        "\r\n",
        "# Apply predefined processing functions\r\n",
        "enron_emails = bodies_df.iloc[:, 0].apply(tokenize)\r\n",
        "enron_emails = enron_emails.apply(stop_word_removal)\r\n",
        "enron_emails = enron_emails.apply(reg_expressions)\r\n",
        "# sample the right number of emails from each class.\r\n",
        "enron_emails = enron_emails.sample(n_sample)\r\n",
        "\r\n",
        "# Apply predefined processing functions\r\n",
        "spam_emails = fraud_bodies_df.iloc[:, 0].apply(tokenize)\r\n",
        "spam_emails = spam_emails.apply(stop_word_removal)\r\n",
        "spam_emails = spam_emails.apply(reg_expressions)\r\n",
        "# sample the right number of emails from each class.\r\n",
        "spam_emails = spam_emails.sample(n_sample)\r\n",
        "\r\n",
        "# convert to Numpy array\r\n",
        "raw_data = pd.concat([enron_emails, spam_emails], axis=0).values"
      ],
      "execution_count": 26,
      "outputs": []
    },
    {
      "cell_type": "markdown",
      "metadata": {
        "id": "siEiJQvp4Q29"
      },
      "source": [
        "Now, let’s take a peek at the result to make sure things are proceeding as expected:"
      ]
    },
    {
      "cell_type": "code",
      "metadata": {
        "id": "YSd-Yfri4KaB"
      },
      "source": [
        "print(\"Shape of combined data is:\", raw_data.shape)\r\n",
        "print(\"Data is:\")\r\n",
        "print(raw_data)"
      ],
      "execution_count": null,
      "outputs": []
    },
    {
      "cell_type": "markdown",
      "metadata": {
        "id": "NXy7SLuV44Xw"
      },
      "source": [
        "We see that the resulting array has divided the text into word units, as we intended to.\r\n",
        "\r\n",
        "Let’s create the headers corresponding to these emails, consisting of n_sample=1000 of spam emails followed by n_sample=1000 of non-spam emails:"
      ]
    },
    {
      "cell_type": "code",
      "metadata": {
        "id": "o2hCPV3z4qXn"
      },
      "source": [
        "categories = [\"spam\", \"notspam\"]\r\n",
        "header = ([1] * n_sample)\r\n",
        "header.extend(([0] * n_sample)) "
      ],
      "execution_count": 28,
      "outputs": []
    },
    {
      "cell_type": "markdown",
      "metadata": {
        "id": "v9La125o61fZ"
      },
      "source": [
        "We are now ready to convert this Numpy array into numerical features that can actually be fed to the algorithms for classification."
      ]
    },
    {
      "cell_type": "markdown",
      "metadata": {
        "id": "sj0jsZ9W65Yo"
      },
      "source": [
        "### Converting the Email Text Into Numbers"
      ]
    },
    {
      "cell_type": "markdown",
      "metadata": {
        "id": "ALmmE6Wo7A-6"
      },
      "source": [
        ""
      ]
    },
    {
      "cell_type": "code",
      "metadata": {
        "id": "ve_ovHA36tk2"
      },
      "source": [
        ""
      ],
      "execution_count": null,
      "outputs": []
    }
  ]
}