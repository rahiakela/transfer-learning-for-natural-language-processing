{
  "nbformat": 4,
  "nbformat_minor": 0,
  "metadata": {
    "colab": {
      "name": "2-linear-and-tree-based-models-for-movie-sentiment-classification.ipynb",
      "provenance": [],
      "toc_visible": true,
      "authorship_tag": "ABX9TyP2LmKWTBkAAc+5FAOPEG4y",
      "include_colab_link": true
    },
    "kernelspec": {
      "name": "python3",
      "display_name": "Python 3"
    }
  },
  "cells": [
    {
      "cell_type": "markdown",
      "metadata": {
        "id": "view-in-github",
        "colab_type": "text"
      },
      "source": [
        "<a href=\"https://colab.research.google.com/github/rahiakela/transfer-learning-for-natural-language-processing/blob/main/2-getting-started-with-baselines/2_linear_and_tree_based_models_for_movie_sentiment_classification.ipynb\" target=\"_parent\"><img src=\"https://colab.research.google.com/assets/colab-badge.svg\" alt=\"Open In Colab\"/></a>"
      ]
    },
    {
      "cell_type": "markdown",
      "metadata": {
        "id": "0syenf2nUMgZ"
      },
      "source": [
        "# Linear & Tree-based models for Movie Sentiment Classification"
      ]
    },
    {
      "cell_type": "markdown",
      "metadata": {
        "id": "0Tvj1R7TUOC2"
      },
      "source": [
        "Our goal is to establish a set of baselines for a pair of concrete NLP problems, which we will later be able to use to measure progressive improvements gained from leveraging increasingly sophisticated transfer learning\r\n",
        "approaches. In the process of doing this, we aim to advance your general NLP instincts and refresh your understanding of typical procedures involved in setting up problem-solving pipelines for such problems. You will review techniques ranging from tokenization to data structure and model selection. We first train some traditional machine learning models from scratch to establish some preliminary baselines for these problems.\r\n",
        "\r\n",
        "We will focus on a pair of important representative example NLP problems – spam\r\n",
        "classification of email, and sentiment classification of movie reviews. This exercise will arm you with a number of important skills, including some tips for obtaining, visualizing and preprocessing data. \r\n",
        "\r\n",
        "Three major model classes will be covered, namely linear models such as logistic regression, decision-tree-based models such as random forests, and neural-network-based models such as ELMo. These classes are additionally represented by support vector machines (SVMs) with linear kernels, gradient-boosting machines (GBMs) and BERT respectively. \r\n",
        "\r\n",
        "<img src='https://github.com/rahiakela/img-repo/blob/master/transfer-learning-for-natural-language-processing/content-classification-supervised-models.png?raw=1' width='800'/>\r\n",
        "\r\n"
      ]
    },
    {
      "cell_type": "markdown",
      "metadata": {
        "id": "inPFIdfP7n4K"
      },
      "source": [
        "## Setup"
      ]
    },
    {
      "cell_type": "code",
      "metadata": {
        "id": "Xlt8No657pZ_",
        "colab": {
          "base_uri": "https://localhost:8080/"
        },
        "outputId": "f5ed3e49-38f6-45d3-cf9f-02eaf01cb773"
      },
      "source": [
        "import numpy as np  # linear algebra\r\n",
        "import pandas as pd # data processing, CSV file I/O (e.g. pd.read_csv)\r\n",
        "import email        # email package for processing email messages\r\n",
        "import random\r\n",
        "import re\r\n",
        "import os\r\n",
        "import time\r\n",
        "\r\n",
        "from sklearn.feature_extraction.text import CountVectorizer, TfidfVectorizer, HashingVectorizer\r\n",
        "from sklearn.linear_model import LogisticRegression\r\n",
        "from sklearn.svm import SVC                              # Support Vector Classification model\r\n",
        "from sklearn.ensemble import RandomForestClassifier      # random forest classifier library\r\n",
        "from sklearn.ensemble import GradientBoostingClassifier  # GBM algorithm\r\n",
        "\r\n",
        "from sklearn.model_selection import GridSearchCV, cross_val_score         # for tune parameters systematically\r\n",
        "from sklearn import metrics                              #Additional scklearn functions\r\n",
        "from sklearn.metrics import accuracy_score\r\n",
        "\r\n",
        "import nltk\r\n",
        "nltk.download('stopwords')\r\n",
        "from nltk.corpus import stopwords\r\n",
        "\r\n",
        "import matplotlib.pyplot as plt"
      ],
      "execution_count": 1,
      "outputs": [
        {
          "output_type": "stream",
          "text": [
            "[nltk_data] Downloading package stopwords to /root/nltk_data...\n",
            "[nltk_data]   Unzipping corpora/stopwords.zip.\n"
          ],
          "name": "stdout"
        }
      ]
    },
    {
      "cell_type": "code",
      "metadata": {
        "id": "wJKVZMbo7va7",
        "colab": {
          "base_uri": "https://localhost:8080/"
        },
        "outputId": "df7c3b13-b881-4c89-89bc-64592c91e72a"
      },
      "source": [
        "%%shell\r\n",
        "\r\n",
        "wget -q \"http://ai.stanford.edu/~amaas/data/sentiment/aclImdb_v1.tar.gz\"\r\n",
        "tar xzf aclImdb_v1.tar.gz\r\n",
        "\r\n",
        "rm -rf aclImdb_v1.tar.gz\r\n",
        "rm -rf aclImdb/train/unsup"
      ],
      "execution_count": 2,
      "outputs": [
        {
          "output_type": "execute_result",
          "data": {
            "text/plain": [
              ""
            ]
          },
          "metadata": {
            "tags": []
          },
          "execution_count": 2
        }
      ]
    },
    {
      "cell_type": "markdown",
      "metadata": {
        "id": "zQbAbRM7Wtfs"
      },
      "source": [
        "## Preprocessing Movie Sentiment Classification Example Data"
      ]
    },
    {
      "cell_type": "markdown",
      "metadata": {
        "id": "HplaHzeVWwfg"
      },
      "source": [
        "This notebook is concerned with classifying movie reviews from IMDB into\r\n",
        "positive or negative sentiments expressed. This is a prototypical sentiment analysis example that has been used widely in the literature to study many algorithms.\r\n",
        "\r\n",
        "We will use a popular labeled dataset of 25000 reviews for this, which was assembled by scraping the popular movie review website IMDB and mapping the number of stars corresponding to each review to either 0 or 1 – depending on whether it was less than or greater than 5 out of 10 stars respectively.It has been used widely in prior NLP literature, and this familiarity is part of the reason we choose it as an illustrative example for baselining.\r\n",
        "\r\n",
        "The sequence of steps used to preprocess each IMDB movie review before analysis is very similar to the one presented for the email spam classification example.\r\n",
        "\r\n",
        "The first major difference is that no email headers are attached to these reviews, so the header extraction step is not applicable. \r\n",
        "\r\n",
        "Additionally, since some stopwords – including “no” and “not” – may\r\n",
        "change the sentiment of the message, the stopword removal step may need to be carried out with extra care, first making sure to drop such stopwords from the target list. We did experiment with dropping such words from the list, and saw little to no effect on the result. This is likely because other non-stopwords in the reviews are very predictive features, rendering this step irrelevant.\r\n",
        "\r\n",
        "<img src='https://github.com/rahiakela/img-repo/blob/master/transfer-learning-for-natural-language-processing/spam-email-preprocessing.png?raw=1' width='800'/>\r\n"
      ]
    },
    {
      "cell_type": "markdown",
      "metadata": {
        "id": "rsXoqMRdwC65"
      },
      "source": [
        "### IMDB Movie Review Dataset preprocessing"
      ]
    },
    {
      "cell_type": "markdown",
      "metadata": {
        "id": "UeeYY2_OuxYw"
      },
      "source": [
        "Before proceeding, we must decide how many samples to draw from each class. We must also decide the maximum number of tokens per email, and the maximum length of each token. This is done by setting the following overarching hyperparameters."
      ]
    },
    {
      "cell_type": "code",
      "metadata": {
        "id": "7_qzNMcNsGh-"
      },
      "source": [
        "n_sample = 1000   # number of samples to generate in each class\r\n",
        "maxtokens = 50    # the maximum number of tokens per document\r\n",
        "maxtokenlen = 20  # the maximum length of each token"
      ],
      "execution_count": 3,
      "outputs": []
    },
    {
      "cell_type": "markdown",
      "metadata": {
        "id": "QRVD-qopxT2f"
      },
      "source": [
        "With these hyperparameters specified, we can now create a single DataFrame for the overarching training dataset. Let’s take the opportunity to also perform remaining preprocessing tasks, namely removing stop words, punctuations and tokenizing."
      ]
    },
    {
      "cell_type": "markdown",
      "metadata": {
        "id": "I2OTWZJ6w9-J"
      },
      "source": [
        "#### Tokenization"
      ]
    },
    {
      "cell_type": "markdown",
      "metadata": {
        "id": "A-dJjXYvxaK9"
      },
      "source": [
        "Let’s proceed by defining a function to tokenize text by splitting them into \r\n",
        "words."
      ]
    },
    {
      "cell_type": "code",
      "metadata": {
        "id": "42b-458pwdRh"
      },
      "source": [
        "def tokenize(row):\r\n",
        "  if row is None or row is \"\":\r\n",
        "    tokens = \"\"\r\n",
        "  else:\r\n",
        "    tokens = row.split(\" \")[:maxtokens]\r\n",
        "  return tokens"
      ],
      "execution_count": 4,
      "outputs": []
    },
    {
      "cell_type": "markdown",
      "metadata": {
        "id": "5_viulZEyUNO"
      },
      "source": [
        "#### Remove punctuation and unnecessary characters"
      ]
    },
    {
      "cell_type": "markdown",
      "metadata": {
        "id": "4MOkUJbxyUeG"
      },
      "source": [
        "**In order to ensure that classification is done based on language content only, we have to remove punctuation marks and other non-word characters from the emails.** We do this by employing regular expressions with the Python regex library. We also normalize words by turning them into lower case."
      ]
    },
    {
      "cell_type": "code",
      "metadata": {
        "id": "2n-aNOVNx3mC"
      },
      "source": [
        "def reg_expressions(row):\r\n",
        "  tokens = []\r\n",
        "  try:\r\n",
        "    for token in row:\r\n",
        "      token = token.lower()          # make all characters lower case\r\n",
        "      token = re.sub(r\"[\\W\\d]\", \"\", token)\r\n",
        "      token = token[:maxtokenlen]    # truncate all tokens to hyperparameter maxtokenlen\r\n",
        "      tokens.append(token)\r\n",
        "  except:\r\n",
        "    token = \"\"\r\n",
        "    tokens.append(token)\r\n",
        "  return tokens"
      ],
      "execution_count": 5,
      "outputs": []
    },
    {
      "cell_type": "markdown",
      "metadata": {
        "id": "Ubr6_29dzvyA"
      },
      "source": [
        "#### Stop-word removal"
      ]
    },
    {
      "cell_type": "markdown",
      "metadata": {
        "id": "VjpNoFWhzwqu"
      },
      "source": [
        "Stop-words are also removed. Stop-words are words that are very common in text but offer no useful information that can be used to classify the text. Words such as is, and, the, are are examples of stop-words. The NLTK library contains a list of 127 English stop-words and can be used to filter our tokenized strings."
      ]
    },
    {
      "cell_type": "code",
      "metadata": {
        "id": "_fObPMgFUZ40",
        "colab": {
          "base_uri": "https://localhost:8080/"
        },
        "outputId": "fe0fbb27-0c3c-4f4b-87e5-5a79c8b14588"
      },
      "source": [
        "stop_words = stopwords.words(\"english\")\r\n",
        "print(stop_words)"
      ],
      "execution_count": 6,
      "outputs": [
        {
          "output_type": "stream",
          "text": [
            "['i', 'me', 'my', 'myself', 'we', 'our', 'ours', 'ourselves', 'you', \"you're\", \"you've\", \"you'll\", \"you'd\", 'your', 'yours', 'yourself', 'yourselves', 'he', 'him', 'his', 'himself', 'she', \"she's\", 'her', 'hers', 'herself', 'it', \"it's\", 'its', 'itself', 'they', 'them', 'their', 'theirs', 'themselves', 'what', 'which', 'who', 'whom', 'this', 'that', \"that'll\", 'these', 'those', 'am', 'is', 'are', 'was', 'were', 'be', 'been', 'being', 'have', 'has', 'had', 'having', 'do', 'does', 'did', 'doing', 'a', 'an', 'the', 'and', 'but', 'if', 'or', 'because', 'as', 'until', 'while', 'of', 'at', 'by', 'for', 'with', 'about', 'against', 'between', 'into', 'through', 'during', 'before', 'after', 'above', 'below', 'to', 'from', 'up', 'down', 'in', 'out', 'on', 'off', 'over', 'under', 'again', 'further', 'then', 'once', 'here', 'there', 'when', 'where', 'why', 'how', 'all', 'any', 'both', 'each', 'few', 'more', 'most', 'other', 'some', 'such', 'no', 'nor', 'not', 'only', 'own', 'same', 'so', 'than', 'too', 'very', 's', 't', 'can', 'will', 'just', 'don', \"don't\", 'should', \"should've\", 'now', 'd', 'll', 'm', 'o', 're', 've', 'y', 'ain', 'aren', \"aren't\", 'couldn', \"couldn't\", 'didn', \"didn't\", 'doesn', \"doesn't\", 'hadn', \"hadn't\", 'hasn', \"hasn't\", 'haven', \"haven't\", 'isn', \"isn't\", 'ma', 'mightn', \"mightn't\", 'mustn', \"mustn't\", 'needn', \"needn't\", 'shan', \"shan't\", 'shouldn', \"shouldn't\", 'wasn', \"wasn't\", 'weren', \"weren't\", 'won', \"won't\", 'wouldn', \"wouldn't\"]\n"
          ],
          "name": "stdout"
        }
      ]
    },
    {
      "cell_type": "code",
      "metadata": {
        "id": "qoJ-_4jZUr0N"
      },
      "source": [
        "# it may be beneficial to drop negation words from the removal list, as they can change the positive/negative meaning of a sentence\r\n",
        "stop_words.remove(\"no\")\r\n",
        "stop_words.remove(\"nor\")\r\n",
        "stop_words.remove(\"not\")"
      ],
      "execution_count": 7,
      "outputs": []
    },
    {
      "cell_type": "code",
      "metadata": {
        "id": "75fyCvyDzpFd"
      },
      "source": [
        "def stop_word_removal(row):\r\n",
        "  token = [token for token in row if token not in stop_words]\r\n",
        "  token = filter(None, token)\r\n",
        "\r\n",
        "  return token"
      ],
      "execution_count": 8,
      "outputs": []
    },
    {
      "cell_type": "markdown",
      "metadata": {
        "id": "sj0jsZ9W65Yo"
      },
      "source": [
        "### Converting the Sentiment Text Into Numbers"
      ]
    },
    {
      "cell_type": "markdown",
      "metadata": {
        "id": "ALmmE6Wo7A-6"
      },
      "source": [
        "We start by employing what is often considered the simplest method for vectorizing words, i.e., converting them into numerical vectors – the bag-of-words model. This model simply counts the frequency of word tokens contained in each email and thereby represents it as a vector of such frequency counts.\r\n",
        "\r\n",
        "Please observe that in doing this, we only retain tokens that appear more than once, as captured by the variable “used_tokens”. This enables us to keep the vector dimensions significantly lower than they would be otherwise. Please also\r\n",
        "note that one can achieve this using various in-built vectorizers in the popular library scikitlearn.\r\n",
        "\r\n",
        "We also note the scikit-learn vectorization methods include counting occurrences of sequences of any n words, or n-grams, as well as the tf-idf approach – important fundamental concepts you should brush on if rusty. For the problems looked at here, we did not notice an improvement when using these vectorization methods over the bag-of words approach.\r\n",
        "\r\n",
        "For the computer to make inferences of the sentiment, it has to be able to interpret the text by making a numerical representation of it. One way to do this is by using something called a \"bag-of-words\" model. This model simply counts the frequency of word tokens for each sentiment and thereby represents it as a vector of these counts.\r\n",
        "\r\n",
        "The assemble_bag() function assembles a new dataframe containing all the unique words found in the text documents. It counts the word frequency and then returns the new dataframe."
      ]
    },
    {
      "cell_type": "code",
      "metadata": {
        "id": "ve_ovHA36tk2"
      },
      "source": [
        "def assemble_bag(data):\r\n",
        "  used_tokens = []\r\n",
        "  all_tokens = []\r\n",
        "\r\n",
        "  for item in data:\r\n",
        "    for token in item:\r\n",
        "      if token in all_tokens:\r\n",
        "        # If token has been seen before, append it to output list used_tokens\r\n",
        "        if token not in used_tokens:\r\n",
        "          used_tokens.append(token)\r\n",
        "      else:\r\n",
        "        all_tokens.append(token)\r\n",
        "\r\n",
        "  df = pd.DataFrame(0, index=np.arange(len(data)), columns=used_tokens)\r\n",
        "\r\n",
        "  # Create a Pandas DataFrame counting frequencies of vocabulary words – corresponding to columns, in each email – corresponding to rows\r\n",
        "  for i, item in enumerate(data):\r\n",
        "    for token in item:\r\n",
        "      if token in used_tokens:\r\n",
        "        df.iloc[i][token] += 1\r\n",
        "\r\n",
        "  return df"
      ],
      "execution_count": 9,
      "outputs": []
    },
    {
      "cell_type": "markdown",
      "metadata": {
        "id": "9A9TQ-krYXH1"
      },
      "source": [
        "Having fully vectorized the dataset, we must remember that it is not shuffled with respect to classes, i.e., it contains Nsamp = 1000 spam emails followed by an equal number of nonspam emails. Depending on how this dataset is split, in our case by picking the first 70% for training and the remainder for testing, this could lead to a training set composed of spam only, which would obviously lead to failure. In order to create a randomized ordering of class samples in the dataset, we will need to shuffle the data in unison with the header/list of labels."
      ]
    },
    {
      "cell_type": "code",
      "metadata": {
        "id": "WPOqephWYXu6"
      },
      "source": [
        "# shuffle raw data first\r\n",
        "def unison_shuffle_data(data, header):\r\n",
        "  p = np.random.permutation(len(header))\r\n",
        "  data = data[p]\r\n",
        "  header = np.asarray(header)[p]\r\n",
        "\r\n",
        "  return data, header"
      ],
      "execution_count": 10,
      "outputs": []
    },
    {
      "cell_type": "markdown",
      "metadata": {
        "id": "M4w91A4yXqcc"
      },
      "source": [
        "Let's load dataset into a Numpy array after tokenizing, removing stopwords and punctuations, and shuffling."
      ]
    },
    {
      "cell_type": "code",
      "metadata": {
        "id": "mHgrPX9XX1Rr"
      },
      "source": [
        "# load data in appropriate form\r\n",
        "def load_data(path):\r\n",
        "  data, sentiments = [], []\r\n",
        "  for folder, sentiment in ((\"neg\", 0), (\"pos\", 1)):\r\n",
        "    folder = os.path.join(path, folder)\r\n",
        "    for name in os.listdir(folder):\r\n",
        "      with open(os.path.join(folder, name), \"r\") as reader:\r\n",
        "        text = reader.read()\r\n",
        "      text = tokenize(text)            # tokenizing\r\n",
        "      text = stop_word_removal(text)   # removing stopwords and punctuations\r\n",
        "      text = reg_expressions(text)\r\n",
        "      data.append(text)\r\n",
        "      sentiments.append(sentiment)     # Track corresponding sentiment labels\r\n",
        "\r\n",
        "  # converting to Numpy array\r\n",
        "  data_np = np.array(data)\r\n",
        "  # shuffling\r\n",
        "  data, sentiments = unison_shuffle_data(data_np, sentiments)\r\n",
        "\r\n",
        "  return data, sentiments"
      ],
      "execution_count": 11,
      "outputs": []
    },
    {
      "cell_type": "code",
      "metadata": {
        "id": "XLpNdWmlaYjB",
        "colab": {
          "base_uri": "https://localhost:8080/"
        },
        "outputId": "36ed35dc-2762-45f5-893d-a07da75bbd62"
      },
      "source": [
        "train_path = os.path.join(\"aclImdb\", \"train\")\r\n",
        "test_path = os.path.join(\"aclImdb\", \"test\")\r\n",
        "\r\n",
        "raw_data, raw_header = load_data(train_path)\r\n",
        "print(raw_data.shape)\r\n",
        "print(len(raw_header))"
      ],
      "execution_count": 12,
      "outputs": [
        {
          "output_type": "stream",
          "text": [
            "(25000,)\n",
            "25000\n"
          ],
          "name": "stdout"
        },
        {
          "output_type": "stream",
          "text": [
            "/usr/local/lib/python3.6/dist-packages/ipykernel_launcher.py:16: VisibleDeprecationWarning: Creating an ndarray from ragged nested sequences (which is a list-or-tuple of lists-or-tuples-or ndarrays with different lengths or shapes) is deprecated. If you meant to do this, you must specify 'dtype=object' when creating the ndarray\n",
            "  app.launch_new_instance()\n"
          ],
          "name": "stderr"
        }
      ]
    },
    {
      "cell_type": "markdown",
      "metadata": {
        "id": "Kzga3_25aXw3"
      },
      "source": [
        "Let's take n_sample*2 random entries of the loaded data for training:"
      ]
    },
    {
      "cell_type": "code",
      "metadata": {
        "id": "vUWw0t6fdhZf",
        "outputId": "5de448a1-1f6e-4150-b28e-af556f2d9f7b",
        "colab": {
          "base_uri": "https://localhost:8080/"
        }
      },
      "source": [
        "# Subsample required number of samples\r\n",
        "random_indices = np.random.choice(range(len(raw_header)), size=(n_sample * 2, ), replace=False)\r\n",
        "data_train = raw_data[random_indices]\r\n",
        "header = raw_header[random_indices]\r\n",
        "\r\n",
        "print(\"DEBUG::data_train::\")\r\n",
        "print(data_train[:5])"
      ],
      "execution_count": 13,
      "outputs": [
        {
          "output_type": "stream",
          "text": [
            "DEBUG::data_train::\n",
            "[list(['i', 'first', 'saw', 'movie', '', 'years', 'ago', 'never', 'forgotten', 'it', 'its', 'beautifully', 'filmed', 'story', 'keeps', 'one', 'riveted', 'entire', 'time', 'its', 'difficult', 'believe', 'made', '', 'tale', 'still', 'fresh', 'today', 'really', 'makes', 'one', 'think', 'im', 'not'])\n",
            " list(['dominion', 'tank', 'police', 'without', 'shell', 'doubt', 'one', 'amazing', 'shows', 'ever', 'produced', 'not', 'field', 'animation', 'while', 'first', 'part', 'acts', '', '', 'mostly', 'consists', 'action', 'fun', 'second', 'part', 'serious', 'one', 'not'])\n",
            " list(['this', 'anime', 'seriously', 'rocked', 'socks', 'when', 'anime', 'first', 'opened', 'itself', 'i', 'felt', 'slow', 'story', 'quite', 'moving', 'forward', 'shirou', 'quite', 'unimpressive', 'male', 'lead', 'once', 'learns', 'tracing', 'learn', 'saber', 'holy', 'grail', 'war', 'itself'])\n",
            " list(['what', 'poor', 'excuse', 'new', 'zealnd', 'movie', 'making', 'im', 'ashamed', 'call', 'new', 'zealander', 'movie', 'exists', 'currently', 'playing', 'new', 'zealand', 'satellite', 'tv', 'aug', '', 'the', 'cast', 'made', 'large', 'number', 'local', 'soap', 'stars', 'the', 'ship', 'real', 'life'])\n",
            " list(['movie', 'offers', 'nothing', 'dumbest', 'conversations', 'possible', 'matter', 'fact', 'probably', 'could', 'not', 'imagined', 'meaningless', 'film', 'synthetic', 'dialogs', 'could', 'hour', 'ago', 'saw', 'video', 'movie', 'not', 'depend'])]\n"
          ],
          "name": "stdout"
        }
      ]
    },
    {
      "cell_type": "markdown",
      "metadata": {
        "id": "htBzFn8Bgb7N"
      },
      "source": [
        "Before proceeding, we need to check the balance of the resulting data with regards to class. In general, we don’t want one of the labels to represent most of the dataset, unless that is the distribution expected in practice."
      ]
    },
    {
      "cell_type": "code",
      "metadata": {
        "id": "ADYCfHfsgegJ",
        "colab": {
          "base_uri": "https://localhost:8080/"
        },
        "outputId": "7bfbffcc-99a0-4c85-bce5-6cc33e614320"
      },
      "source": [
        "# Display sentiments and their frequencies in the dataset, to ensure it is roughly balanced between classes\r\n",
        "unique_elements, counts_elements = np.unique(header, return_counts=True)\r\n",
        "print(\"Sentiments and their frequencies:\")\r\n",
        "print(unique_elements)\r\n",
        "print(counts_elements)"
      ],
      "execution_count": 14,
      "outputs": [
        {
          "output_type": "stream",
          "text": [
            "Sentiments and their frequencies:\n",
            "[0 1]\n",
            "[1051  949]\n"
          ],
          "name": "stdout"
        }
      ]
    },
    {
      "cell_type": "markdown",
      "metadata": {
        "id": "kCJpbAgNUChs"
      },
      "source": [
        "We are now ready to convert these into numerical vectors!!\r\n",
        "\r\n",
        "Having satisfied ourselves that the data is roughly balanced between the two classes, with each class representing roughly half of the dataset, assemble and visualize the bag-of-words representation."
      ]
    },
    {
      "cell_type": "code",
      "metadata": {
        "id": "bPvtszzgTaz5",
        "colab": {
          "base_uri": "https://localhost:8080/",
          "height": 431
        },
        "outputId": "f60e6d52-e5ea-4180-e196-8f1f31b760da"
      },
      "source": [
        "# create bag-of-words model\r\n",
        "mixed_bag_reviews  = assemble_bag(data_train) \r\n",
        "\r\n",
        "# this is the list of words in our bag-of-words model\r\n",
        "predictors = [column for column in mixed_bag_reviews.columns]\r\n",
        "\r\n",
        "# expand default pandas display options to make emails more clearly visible when printed\r\n",
        "pd.set_option(\"display.max_colwidth\", 300)\r\n",
        "\r\n",
        "mixed_bag_reviews"
      ],
      "execution_count": 15,
      "outputs": [
        {
          "output_type": "execute_result",
          "data": {
            "text/html": [
              "<div>\n",
              "<style scoped>\n",
              "    .dataframe tbody tr th:only-of-type {\n",
              "        vertical-align: middle;\n",
              "    }\n",
              "\n",
              "    .dataframe tbody tr th {\n",
              "        vertical-align: top;\n",
              "    }\n",
              "\n",
              "    .dataframe thead th {\n",
              "        text-align: right;\n",
              "    }\n",
              "</style>\n",
              "<table border=\"1\" class=\"dataframe\">\n",
              "  <thead>\n",
              "    <tr style=\"text-align: right;\">\n",
              "      <th></th>\n",
              "      <th>its</th>\n",
              "      <th></th>\n",
              "      <th>one</th>\n",
              "      <th>not</th>\n",
              "      <th>first</th>\n",
              "      <th>part</th>\n",
              "      <th>anime</th>\n",
              "      <th>i</th>\n",
              "      <th>story</th>\n",
              "      <th>quite</th>\n",
              "      <th>itself</th>\n",
              "      <th>movie</th>\n",
              "      <th>im</th>\n",
              "      <th>new</th>\n",
              "      <th>made</th>\n",
              "      <th>the</th>\n",
              "      <th>could</th>\n",
              "      <th>ago</th>\n",
              "      <th>saw</th>\n",
              "      <th>dialogs</th>\n",
              "      <th>what</th>\n",
              "      <th>this</th>\n",
              "      <th>film</th>\n",
              "      <th>tale</th>\n",
              "      <th>lincoln</th>\n",
              "      <th>really</th>\n",
              "      <th>bad</th>\n",
              "      <th>time</th>\n",
              "      <th>playing</th>\n",
              "      <th>never</th>\n",
              "      <th>superman</th>\n",
              "      <th>br</th>\n",
              "      <th>making</th>\n",
              "      <th>thought</th>\n",
              "      <th>well</th>\n",
              "      <th>video</th>\n",
              "      <th>makes</th>\n",
              "      <th>third</th>\n",
              "      <th>probably</th>\n",
              "      <th>it</th>\n",
              "      <th>...</th>\n",
              "      <th>sentence</th>\n",
              "      <th>dreck</th>\n",
              "      <th>minimum</th>\n",
              "      <th>oldest</th>\n",
              "      <th>overused</th>\n",
              "      <th>bite</th>\n",
              "      <th>lone</th>\n",
              "      <th>chasing</th>\n",
              "      <th>coproduction</th>\n",
              "      <th>arquette</th>\n",
              "      <th>prior</th>\n",
              "      <th>chief</th>\n",
              "      <th>stereotype</th>\n",
              "      <th>jay</th>\n",
              "      <th>karate</th>\n",
              "      <th>interwoven</th>\n",
              "      <th>suck</th>\n",
              "      <th>merit</th>\n",
              "      <th>carrere</th>\n",
              "      <th>glasses</th>\n",
              "      <th>astounding</th>\n",
              "      <th>picking</th>\n",
              "      <th>skip</th>\n",
              "      <th>puffy</th>\n",
              "      <th>booze</th>\n",
              "      <th>mall</th>\n",
              "      <th>fluff</th>\n",
              "      <th>instant</th>\n",
              "      <th>transformation</th>\n",
              "      <th>mais</th>\n",
              "      <th>disappearing</th>\n",
              "      <th>moviethe</th>\n",
              "      <th>govinda</th>\n",
              "      <th>allstar</th>\n",
              "      <th>load</th>\n",
              "      <th>hasbeens</th>\n",
              "      <th>wannabes</th>\n",
              "      <th>astaires</th>\n",
              "      <th>tour</th>\n",
              "      <th>straighttodvd</th>\n",
              "    </tr>\n",
              "  </thead>\n",
              "  <tbody>\n",
              "    <tr>\n",
              "      <th>0</th>\n",
              "      <td>2</td>\n",
              "      <td>2</td>\n",
              "      <td>2</td>\n",
              "      <td>1</td>\n",
              "      <td>1</td>\n",
              "      <td>0</td>\n",
              "      <td>0</td>\n",
              "      <td>1</td>\n",
              "      <td>1</td>\n",
              "      <td>0</td>\n",
              "      <td>0</td>\n",
              "      <td>1</td>\n",
              "      <td>1</td>\n",
              "      <td>0</td>\n",
              "      <td>1</td>\n",
              "      <td>0</td>\n",
              "      <td>0</td>\n",
              "      <td>1</td>\n",
              "      <td>1</td>\n",
              "      <td>0</td>\n",
              "      <td>0</td>\n",
              "      <td>0</td>\n",
              "      <td>0</td>\n",
              "      <td>1</td>\n",
              "      <td>0</td>\n",
              "      <td>1</td>\n",
              "      <td>0</td>\n",
              "      <td>1</td>\n",
              "      <td>0</td>\n",
              "      <td>1</td>\n",
              "      <td>0</td>\n",
              "      <td>0</td>\n",
              "      <td>0</td>\n",
              "      <td>0</td>\n",
              "      <td>0</td>\n",
              "      <td>0</td>\n",
              "      <td>1</td>\n",
              "      <td>0</td>\n",
              "      <td>0</td>\n",
              "      <td>1</td>\n",
              "      <td>...</td>\n",
              "      <td>0</td>\n",
              "      <td>0</td>\n",
              "      <td>0</td>\n",
              "      <td>0</td>\n",
              "      <td>0</td>\n",
              "      <td>0</td>\n",
              "      <td>0</td>\n",
              "      <td>0</td>\n",
              "      <td>0</td>\n",
              "      <td>0</td>\n",
              "      <td>0</td>\n",
              "      <td>0</td>\n",
              "      <td>0</td>\n",
              "      <td>0</td>\n",
              "      <td>0</td>\n",
              "      <td>0</td>\n",
              "      <td>0</td>\n",
              "      <td>0</td>\n",
              "      <td>0</td>\n",
              "      <td>0</td>\n",
              "      <td>0</td>\n",
              "      <td>0</td>\n",
              "      <td>0</td>\n",
              "      <td>0</td>\n",
              "      <td>0</td>\n",
              "      <td>0</td>\n",
              "      <td>0</td>\n",
              "      <td>0</td>\n",
              "      <td>0</td>\n",
              "      <td>0</td>\n",
              "      <td>0</td>\n",
              "      <td>0</td>\n",
              "      <td>0</td>\n",
              "      <td>0</td>\n",
              "      <td>0</td>\n",
              "      <td>0</td>\n",
              "      <td>0</td>\n",
              "      <td>0</td>\n",
              "      <td>0</td>\n",
              "      <td>0</td>\n",
              "    </tr>\n",
              "    <tr>\n",
              "      <th>1</th>\n",
              "      <td>0</td>\n",
              "      <td>2</td>\n",
              "      <td>2</td>\n",
              "      <td>2</td>\n",
              "      <td>1</td>\n",
              "      <td>2</td>\n",
              "      <td>0</td>\n",
              "      <td>0</td>\n",
              "      <td>0</td>\n",
              "      <td>0</td>\n",
              "      <td>0</td>\n",
              "      <td>0</td>\n",
              "      <td>0</td>\n",
              "      <td>0</td>\n",
              "      <td>0</td>\n",
              "      <td>0</td>\n",
              "      <td>0</td>\n",
              "      <td>0</td>\n",
              "      <td>0</td>\n",
              "      <td>0</td>\n",
              "      <td>0</td>\n",
              "      <td>0</td>\n",
              "      <td>0</td>\n",
              "      <td>0</td>\n",
              "      <td>0</td>\n",
              "      <td>0</td>\n",
              "      <td>0</td>\n",
              "      <td>0</td>\n",
              "      <td>0</td>\n",
              "      <td>0</td>\n",
              "      <td>0</td>\n",
              "      <td>0</td>\n",
              "      <td>0</td>\n",
              "      <td>0</td>\n",
              "      <td>0</td>\n",
              "      <td>0</td>\n",
              "      <td>0</td>\n",
              "      <td>0</td>\n",
              "      <td>0</td>\n",
              "      <td>0</td>\n",
              "      <td>...</td>\n",
              "      <td>0</td>\n",
              "      <td>0</td>\n",
              "      <td>0</td>\n",
              "      <td>0</td>\n",
              "      <td>0</td>\n",
              "      <td>0</td>\n",
              "      <td>0</td>\n",
              "      <td>0</td>\n",
              "      <td>0</td>\n",
              "      <td>0</td>\n",
              "      <td>0</td>\n",
              "      <td>0</td>\n",
              "      <td>0</td>\n",
              "      <td>0</td>\n",
              "      <td>0</td>\n",
              "      <td>0</td>\n",
              "      <td>0</td>\n",
              "      <td>0</td>\n",
              "      <td>0</td>\n",
              "      <td>0</td>\n",
              "      <td>0</td>\n",
              "      <td>0</td>\n",
              "      <td>0</td>\n",
              "      <td>0</td>\n",
              "      <td>0</td>\n",
              "      <td>0</td>\n",
              "      <td>0</td>\n",
              "      <td>0</td>\n",
              "      <td>0</td>\n",
              "      <td>0</td>\n",
              "      <td>0</td>\n",
              "      <td>0</td>\n",
              "      <td>0</td>\n",
              "      <td>0</td>\n",
              "      <td>0</td>\n",
              "      <td>0</td>\n",
              "      <td>0</td>\n",
              "      <td>0</td>\n",
              "      <td>0</td>\n",
              "      <td>0</td>\n",
              "    </tr>\n",
              "    <tr>\n",
              "      <th>2</th>\n",
              "      <td>0</td>\n",
              "      <td>0</td>\n",
              "      <td>0</td>\n",
              "      <td>0</td>\n",
              "      <td>1</td>\n",
              "      <td>0</td>\n",
              "      <td>2</td>\n",
              "      <td>1</td>\n",
              "      <td>1</td>\n",
              "      <td>2</td>\n",
              "      <td>2</td>\n",
              "      <td>0</td>\n",
              "      <td>0</td>\n",
              "      <td>0</td>\n",
              "      <td>0</td>\n",
              "      <td>0</td>\n",
              "      <td>0</td>\n",
              "      <td>0</td>\n",
              "      <td>0</td>\n",
              "      <td>0</td>\n",
              "      <td>0</td>\n",
              "      <td>1</td>\n",
              "      <td>0</td>\n",
              "      <td>0</td>\n",
              "      <td>0</td>\n",
              "      <td>0</td>\n",
              "      <td>0</td>\n",
              "      <td>0</td>\n",
              "      <td>0</td>\n",
              "      <td>0</td>\n",
              "      <td>0</td>\n",
              "      <td>0</td>\n",
              "      <td>0</td>\n",
              "      <td>0</td>\n",
              "      <td>0</td>\n",
              "      <td>0</td>\n",
              "      <td>0</td>\n",
              "      <td>0</td>\n",
              "      <td>0</td>\n",
              "      <td>0</td>\n",
              "      <td>...</td>\n",
              "      <td>0</td>\n",
              "      <td>0</td>\n",
              "      <td>0</td>\n",
              "      <td>0</td>\n",
              "      <td>0</td>\n",
              "      <td>0</td>\n",
              "      <td>0</td>\n",
              "      <td>0</td>\n",
              "      <td>0</td>\n",
              "      <td>0</td>\n",
              "      <td>0</td>\n",
              "      <td>0</td>\n",
              "      <td>0</td>\n",
              "      <td>0</td>\n",
              "      <td>0</td>\n",
              "      <td>0</td>\n",
              "      <td>0</td>\n",
              "      <td>0</td>\n",
              "      <td>0</td>\n",
              "      <td>0</td>\n",
              "      <td>0</td>\n",
              "      <td>0</td>\n",
              "      <td>0</td>\n",
              "      <td>0</td>\n",
              "      <td>0</td>\n",
              "      <td>0</td>\n",
              "      <td>0</td>\n",
              "      <td>0</td>\n",
              "      <td>0</td>\n",
              "      <td>0</td>\n",
              "      <td>0</td>\n",
              "      <td>0</td>\n",
              "      <td>0</td>\n",
              "      <td>0</td>\n",
              "      <td>0</td>\n",
              "      <td>0</td>\n",
              "      <td>0</td>\n",
              "      <td>0</td>\n",
              "      <td>0</td>\n",
              "      <td>0</td>\n",
              "    </tr>\n",
              "    <tr>\n",
              "      <th>3</th>\n",
              "      <td>0</td>\n",
              "      <td>1</td>\n",
              "      <td>0</td>\n",
              "      <td>0</td>\n",
              "      <td>0</td>\n",
              "      <td>0</td>\n",
              "      <td>0</td>\n",
              "      <td>0</td>\n",
              "      <td>0</td>\n",
              "      <td>0</td>\n",
              "      <td>0</td>\n",
              "      <td>2</td>\n",
              "      <td>1</td>\n",
              "      <td>3</td>\n",
              "      <td>1</td>\n",
              "      <td>2</td>\n",
              "      <td>0</td>\n",
              "      <td>0</td>\n",
              "      <td>0</td>\n",
              "      <td>0</td>\n",
              "      <td>1</td>\n",
              "      <td>0</td>\n",
              "      <td>0</td>\n",
              "      <td>0</td>\n",
              "      <td>0</td>\n",
              "      <td>0</td>\n",
              "      <td>0</td>\n",
              "      <td>0</td>\n",
              "      <td>1</td>\n",
              "      <td>0</td>\n",
              "      <td>0</td>\n",
              "      <td>0</td>\n",
              "      <td>1</td>\n",
              "      <td>0</td>\n",
              "      <td>0</td>\n",
              "      <td>0</td>\n",
              "      <td>0</td>\n",
              "      <td>0</td>\n",
              "      <td>0</td>\n",
              "      <td>0</td>\n",
              "      <td>...</td>\n",
              "      <td>0</td>\n",
              "      <td>0</td>\n",
              "      <td>0</td>\n",
              "      <td>0</td>\n",
              "      <td>0</td>\n",
              "      <td>0</td>\n",
              "      <td>0</td>\n",
              "      <td>0</td>\n",
              "      <td>0</td>\n",
              "      <td>0</td>\n",
              "      <td>0</td>\n",
              "      <td>0</td>\n",
              "      <td>0</td>\n",
              "      <td>0</td>\n",
              "      <td>0</td>\n",
              "      <td>0</td>\n",
              "      <td>0</td>\n",
              "      <td>0</td>\n",
              "      <td>0</td>\n",
              "      <td>0</td>\n",
              "      <td>0</td>\n",
              "      <td>0</td>\n",
              "      <td>0</td>\n",
              "      <td>0</td>\n",
              "      <td>0</td>\n",
              "      <td>0</td>\n",
              "      <td>0</td>\n",
              "      <td>0</td>\n",
              "      <td>0</td>\n",
              "      <td>0</td>\n",
              "      <td>0</td>\n",
              "      <td>0</td>\n",
              "      <td>0</td>\n",
              "      <td>0</td>\n",
              "      <td>0</td>\n",
              "      <td>0</td>\n",
              "      <td>0</td>\n",
              "      <td>0</td>\n",
              "      <td>0</td>\n",
              "      <td>0</td>\n",
              "    </tr>\n",
              "    <tr>\n",
              "      <th>4</th>\n",
              "      <td>0</td>\n",
              "      <td>0</td>\n",
              "      <td>0</td>\n",
              "      <td>2</td>\n",
              "      <td>0</td>\n",
              "      <td>0</td>\n",
              "      <td>0</td>\n",
              "      <td>0</td>\n",
              "      <td>0</td>\n",
              "      <td>0</td>\n",
              "      <td>0</td>\n",
              "      <td>2</td>\n",
              "      <td>0</td>\n",
              "      <td>0</td>\n",
              "      <td>0</td>\n",
              "      <td>0</td>\n",
              "      <td>2</td>\n",
              "      <td>1</td>\n",
              "      <td>1</td>\n",
              "      <td>1</td>\n",
              "      <td>0</td>\n",
              "      <td>0</td>\n",
              "      <td>1</td>\n",
              "      <td>0</td>\n",
              "      <td>0</td>\n",
              "      <td>0</td>\n",
              "      <td>0</td>\n",
              "      <td>0</td>\n",
              "      <td>0</td>\n",
              "      <td>0</td>\n",
              "      <td>0</td>\n",
              "      <td>0</td>\n",
              "      <td>0</td>\n",
              "      <td>0</td>\n",
              "      <td>0</td>\n",
              "      <td>1</td>\n",
              "      <td>0</td>\n",
              "      <td>0</td>\n",
              "      <td>1</td>\n",
              "      <td>0</td>\n",
              "      <td>...</td>\n",
              "      <td>0</td>\n",
              "      <td>0</td>\n",
              "      <td>0</td>\n",
              "      <td>0</td>\n",
              "      <td>0</td>\n",
              "      <td>0</td>\n",
              "      <td>0</td>\n",
              "      <td>0</td>\n",
              "      <td>0</td>\n",
              "      <td>0</td>\n",
              "      <td>0</td>\n",
              "      <td>0</td>\n",
              "      <td>0</td>\n",
              "      <td>0</td>\n",
              "      <td>0</td>\n",
              "      <td>0</td>\n",
              "      <td>0</td>\n",
              "      <td>0</td>\n",
              "      <td>0</td>\n",
              "      <td>0</td>\n",
              "      <td>0</td>\n",
              "      <td>0</td>\n",
              "      <td>0</td>\n",
              "      <td>0</td>\n",
              "      <td>0</td>\n",
              "      <td>0</td>\n",
              "      <td>0</td>\n",
              "      <td>0</td>\n",
              "      <td>0</td>\n",
              "      <td>0</td>\n",
              "      <td>0</td>\n",
              "      <td>0</td>\n",
              "      <td>0</td>\n",
              "      <td>0</td>\n",
              "      <td>0</td>\n",
              "      <td>0</td>\n",
              "      <td>0</td>\n",
              "      <td>0</td>\n",
              "      <td>0</td>\n",
              "      <td>0</td>\n",
              "    </tr>\n",
              "    <tr>\n",
              "      <th>...</th>\n",
              "      <td>...</td>\n",
              "      <td>...</td>\n",
              "      <td>...</td>\n",
              "      <td>...</td>\n",
              "      <td>...</td>\n",
              "      <td>...</td>\n",
              "      <td>...</td>\n",
              "      <td>...</td>\n",
              "      <td>...</td>\n",
              "      <td>...</td>\n",
              "      <td>...</td>\n",
              "      <td>...</td>\n",
              "      <td>...</td>\n",
              "      <td>...</td>\n",
              "      <td>...</td>\n",
              "      <td>...</td>\n",
              "      <td>...</td>\n",
              "      <td>...</td>\n",
              "      <td>...</td>\n",
              "      <td>...</td>\n",
              "      <td>...</td>\n",
              "      <td>...</td>\n",
              "      <td>...</td>\n",
              "      <td>...</td>\n",
              "      <td>...</td>\n",
              "      <td>...</td>\n",
              "      <td>...</td>\n",
              "      <td>...</td>\n",
              "      <td>...</td>\n",
              "      <td>...</td>\n",
              "      <td>...</td>\n",
              "      <td>...</td>\n",
              "      <td>...</td>\n",
              "      <td>...</td>\n",
              "      <td>...</td>\n",
              "      <td>...</td>\n",
              "      <td>...</td>\n",
              "      <td>...</td>\n",
              "      <td>...</td>\n",
              "      <td>...</td>\n",
              "      <td>...</td>\n",
              "      <td>...</td>\n",
              "      <td>...</td>\n",
              "      <td>...</td>\n",
              "      <td>...</td>\n",
              "      <td>...</td>\n",
              "      <td>...</td>\n",
              "      <td>...</td>\n",
              "      <td>...</td>\n",
              "      <td>...</td>\n",
              "      <td>...</td>\n",
              "      <td>...</td>\n",
              "      <td>...</td>\n",
              "      <td>...</td>\n",
              "      <td>...</td>\n",
              "      <td>...</td>\n",
              "      <td>...</td>\n",
              "      <td>...</td>\n",
              "      <td>...</td>\n",
              "      <td>...</td>\n",
              "      <td>...</td>\n",
              "      <td>...</td>\n",
              "      <td>...</td>\n",
              "      <td>...</td>\n",
              "      <td>...</td>\n",
              "      <td>...</td>\n",
              "      <td>...</td>\n",
              "      <td>...</td>\n",
              "      <td>...</td>\n",
              "      <td>...</td>\n",
              "      <td>...</td>\n",
              "      <td>...</td>\n",
              "      <td>...</td>\n",
              "      <td>...</td>\n",
              "      <td>...</td>\n",
              "      <td>...</td>\n",
              "      <td>...</td>\n",
              "      <td>...</td>\n",
              "      <td>...</td>\n",
              "      <td>...</td>\n",
              "      <td>...</td>\n",
              "    </tr>\n",
              "    <tr>\n",
              "      <th>1995</th>\n",
              "      <td>0</td>\n",
              "      <td>0</td>\n",
              "      <td>1</td>\n",
              "      <td>0</td>\n",
              "      <td>0</td>\n",
              "      <td>0</td>\n",
              "      <td>0</td>\n",
              "      <td>0</td>\n",
              "      <td>0</td>\n",
              "      <td>0</td>\n",
              "      <td>0</td>\n",
              "      <td>1</td>\n",
              "      <td>0</td>\n",
              "      <td>0</td>\n",
              "      <td>0</td>\n",
              "      <td>0</td>\n",
              "      <td>0</td>\n",
              "      <td>0</td>\n",
              "      <td>1</td>\n",
              "      <td>0</td>\n",
              "      <td>0</td>\n",
              "      <td>0</td>\n",
              "      <td>1</td>\n",
              "      <td>0</td>\n",
              "      <td>0</td>\n",
              "      <td>0</td>\n",
              "      <td>0</td>\n",
              "      <td>0</td>\n",
              "      <td>0</td>\n",
              "      <td>0</td>\n",
              "      <td>0</td>\n",
              "      <td>0</td>\n",
              "      <td>0</td>\n",
              "      <td>0</td>\n",
              "      <td>0</td>\n",
              "      <td>0</td>\n",
              "      <td>0</td>\n",
              "      <td>0</td>\n",
              "      <td>0</td>\n",
              "      <td>0</td>\n",
              "      <td>...</td>\n",
              "      <td>0</td>\n",
              "      <td>0</td>\n",
              "      <td>0</td>\n",
              "      <td>0</td>\n",
              "      <td>0</td>\n",
              "      <td>0</td>\n",
              "      <td>0</td>\n",
              "      <td>0</td>\n",
              "      <td>0</td>\n",
              "      <td>0</td>\n",
              "      <td>0</td>\n",
              "      <td>0</td>\n",
              "      <td>0</td>\n",
              "      <td>0</td>\n",
              "      <td>0</td>\n",
              "      <td>0</td>\n",
              "      <td>0</td>\n",
              "      <td>0</td>\n",
              "      <td>0</td>\n",
              "      <td>0</td>\n",
              "      <td>0</td>\n",
              "      <td>0</td>\n",
              "      <td>0</td>\n",
              "      <td>0</td>\n",
              "      <td>0</td>\n",
              "      <td>0</td>\n",
              "      <td>0</td>\n",
              "      <td>0</td>\n",
              "      <td>0</td>\n",
              "      <td>0</td>\n",
              "      <td>2</td>\n",
              "      <td>0</td>\n",
              "      <td>0</td>\n",
              "      <td>0</td>\n",
              "      <td>0</td>\n",
              "      <td>0</td>\n",
              "      <td>0</td>\n",
              "      <td>0</td>\n",
              "      <td>0</td>\n",
              "      <td>0</td>\n",
              "    </tr>\n",
              "    <tr>\n",
              "      <th>1996</th>\n",
              "      <td>0</td>\n",
              "      <td>0</td>\n",
              "      <td>0</td>\n",
              "      <td>1</td>\n",
              "      <td>0</td>\n",
              "      <td>0</td>\n",
              "      <td>0</td>\n",
              "      <td>0</td>\n",
              "      <td>0</td>\n",
              "      <td>0</td>\n",
              "      <td>0</td>\n",
              "      <td>0</td>\n",
              "      <td>0</td>\n",
              "      <td>0</td>\n",
              "      <td>0</td>\n",
              "      <td>0</td>\n",
              "      <td>0</td>\n",
              "      <td>0</td>\n",
              "      <td>1</td>\n",
              "      <td>0</td>\n",
              "      <td>0</td>\n",
              "      <td>0</td>\n",
              "      <td>0</td>\n",
              "      <td>0</td>\n",
              "      <td>0</td>\n",
              "      <td>0</td>\n",
              "      <td>0</td>\n",
              "      <td>0</td>\n",
              "      <td>0</td>\n",
              "      <td>0</td>\n",
              "      <td>0</td>\n",
              "      <td>0</td>\n",
              "      <td>0</td>\n",
              "      <td>0</td>\n",
              "      <td>1</td>\n",
              "      <td>0</td>\n",
              "      <td>0</td>\n",
              "      <td>0</td>\n",
              "      <td>0</td>\n",
              "      <td>0</td>\n",
              "      <td>...</td>\n",
              "      <td>0</td>\n",
              "      <td>0</td>\n",
              "      <td>0</td>\n",
              "      <td>0</td>\n",
              "      <td>0</td>\n",
              "      <td>0</td>\n",
              "      <td>0</td>\n",
              "      <td>0</td>\n",
              "      <td>0</td>\n",
              "      <td>0</td>\n",
              "      <td>0</td>\n",
              "      <td>0</td>\n",
              "      <td>0</td>\n",
              "      <td>0</td>\n",
              "      <td>0</td>\n",
              "      <td>0</td>\n",
              "      <td>0</td>\n",
              "      <td>0</td>\n",
              "      <td>0</td>\n",
              "      <td>0</td>\n",
              "      <td>0</td>\n",
              "      <td>0</td>\n",
              "      <td>0</td>\n",
              "      <td>0</td>\n",
              "      <td>0</td>\n",
              "      <td>0</td>\n",
              "      <td>0</td>\n",
              "      <td>0</td>\n",
              "      <td>0</td>\n",
              "      <td>0</td>\n",
              "      <td>0</td>\n",
              "      <td>1</td>\n",
              "      <td>2</td>\n",
              "      <td>0</td>\n",
              "      <td>0</td>\n",
              "      <td>0</td>\n",
              "      <td>0</td>\n",
              "      <td>0</td>\n",
              "      <td>0</td>\n",
              "      <td>0</td>\n",
              "    </tr>\n",
              "    <tr>\n",
              "      <th>1997</th>\n",
              "      <td>0</td>\n",
              "      <td>0</td>\n",
              "      <td>0</td>\n",
              "      <td>0</td>\n",
              "      <td>0</td>\n",
              "      <td>0</td>\n",
              "      <td>0</td>\n",
              "      <td>0</td>\n",
              "      <td>0</td>\n",
              "      <td>0</td>\n",
              "      <td>0</td>\n",
              "      <td>0</td>\n",
              "      <td>0</td>\n",
              "      <td>0</td>\n",
              "      <td>0</td>\n",
              "      <td>0</td>\n",
              "      <td>0</td>\n",
              "      <td>0</td>\n",
              "      <td>0</td>\n",
              "      <td>0</td>\n",
              "      <td>0</td>\n",
              "      <td>0</td>\n",
              "      <td>0</td>\n",
              "      <td>0</td>\n",
              "      <td>0</td>\n",
              "      <td>0</td>\n",
              "      <td>0</td>\n",
              "      <td>0</td>\n",
              "      <td>0</td>\n",
              "      <td>0</td>\n",
              "      <td>0</td>\n",
              "      <td>0</td>\n",
              "      <td>0</td>\n",
              "      <td>0</td>\n",
              "      <td>0</td>\n",
              "      <td>0</td>\n",
              "      <td>0</td>\n",
              "      <td>0</td>\n",
              "      <td>0</td>\n",
              "      <td>0</td>\n",
              "      <td>...</td>\n",
              "      <td>0</td>\n",
              "      <td>0</td>\n",
              "      <td>0</td>\n",
              "      <td>0</td>\n",
              "      <td>0</td>\n",
              "      <td>0</td>\n",
              "      <td>0</td>\n",
              "      <td>0</td>\n",
              "      <td>0</td>\n",
              "      <td>0</td>\n",
              "      <td>0</td>\n",
              "      <td>0</td>\n",
              "      <td>0</td>\n",
              "      <td>0</td>\n",
              "      <td>0</td>\n",
              "      <td>0</td>\n",
              "      <td>0</td>\n",
              "      <td>0</td>\n",
              "      <td>0</td>\n",
              "      <td>0</td>\n",
              "      <td>0</td>\n",
              "      <td>0</td>\n",
              "      <td>0</td>\n",
              "      <td>0</td>\n",
              "      <td>0</td>\n",
              "      <td>0</td>\n",
              "      <td>0</td>\n",
              "      <td>0</td>\n",
              "      <td>0</td>\n",
              "      <td>0</td>\n",
              "      <td>0</td>\n",
              "      <td>0</td>\n",
              "      <td>0</td>\n",
              "      <td>1</td>\n",
              "      <td>1</td>\n",
              "      <td>1</td>\n",
              "      <td>1</td>\n",
              "      <td>0</td>\n",
              "      <td>0</td>\n",
              "      <td>0</td>\n",
              "    </tr>\n",
              "    <tr>\n",
              "      <th>1998</th>\n",
              "      <td>0</td>\n",
              "      <td>0</td>\n",
              "      <td>1</td>\n",
              "      <td>1</td>\n",
              "      <td>0</td>\n",
              "      <td>0</td>\n",
              "      <td>0</td>\n",
              "      <td>0</td>\n",
              "      <td>0</td>\n",
              "      <td>0</td>\n",
              "      <td>0</td>\n",
              "      <td>0</td>\n",
              "      <td>0</td>\n",
              "      <td>0</td>\n",
              "      <td>0</td>\n",
              "      <td>0</td>\n",
              "      <td>0</td>\n",
              "      <td>0</td>\n",
              "      <td>0</td>\n",
              "      <td>0</td>\n",
              "      <td>0</td>\n",
              "      <td>0</td>\n",
              "      <td>0</td>\n",
              "      <td>0</td>\n",
              "      <td>0</td>\n",
              "      <td>0</td>\n",
              "      <td>1</td>\n",
              "      <td>0</td>\n",
              "      <td>0</td>\n",
              "      <td>0</td>\n",
              "      <td>0</td>\n",
              "      <td>1</td>\n",
              "      <td>0</td>\n",
              "      <td>0</td>\n",
              "      <td>0</td>\n",
              "      <td>0</td>\n",
              "      <td>0</td>\n",
              "      <td>0</td>\n",
              "      <td>0</td>\n",
              "      <td>0</td>\n",
              "      <td>...</td>\n",
              "      <td>0</td>\n",
              "      <td>0</td>\n",
              "      <td>0</td>\n",
              "      <td>0</td>\n",
              "      <td>0</td>\n",
              "      <td>0</td>\n",
              "      <td>0</td>\n",
              "      <td>0</td>\n",
              "      <td>0</td>\n",
              "      <td>0</td>\n",
              "      <td>0</td>\n",
              "      <td>0</td>\n",
              "      <td>0</td>\n",
              "      <td>0</td>\n",
              "      <td>0</td>\n",
              "      <td>0</td>\n",
              "      <td>0</td>\n",
              "      <td>0</td>\n",
              "      <td>0</td>\n",
              "      <td>0</td>\n",
              "      <td>0</td>\n",
              "      <td>0</td>\n",
              "      <td>0</td>\n",
              "      <td>0</td>\n",
              "      <td>0</td>\n",
              "      <td>0</td>\n",
              "      <td>0</td>\n",
              "      <td>0</td>\n",
              "      <td>0</td>\n",
              "      <td>0</td>\n",
              "      <td>0</td>\n",
              "      <td>0</td>\n",
              "      <td>0</td>\n",
              "      <td>0</td>\n",
              "      <td>0</td>\n",
              "      <td>0</td>\n",
              "      <td>0</td>\n",
              "      <td>2</td>\n",
              "      <td>1</td>\n",
              "      <td>0</td>\n",
              "    </tr>\n",
              "    <tr>\n",
              "      <th>1999</th>\n",
              "      <td>0</td>\n",
              "      <td>2</td>\n",
              "      <td>0</td>\n",
              "      <td>0</td>\n",
              "      <td>0</td>\n",
              "      <td>0</td>\n",
              "      <td>0</td>\n",
              "      <td>0</td>\n",
              "      <td>0</td>\n",
              "      <td>0</td>\n",
              "      <td>0</td>\n",
              "      <td>0</td>\n",
              "      <td>0</td>\n",
              "      <td>0</td>\n",
              "      <td>0</td>\n",
              "      <td>1</td>\n",
              "      <td>0</td>\n",
              "      <td>0</td>\n",
              "      <td>0</td>\n",
              "      <td>0</td>\n",
              "      <td>0</td>\n",
              "      <td>0</td>\n",
              "      <td>0</td>\n",
              "      <td>0</td>\n",
              "      <td>0</td>\n",
              "      <td>0</td>\n",
              "      <td>0</td>\n",
              "      <td>1</td>\n",
              "      <td>0</td>\n",
              "      <td>0</td>\n",
              "      <td>0</td>\n",
              "      <td>2</td>\n",
              "      <td>0</td>\n",
              "      <td>0</td>\n",
              "      <td>0</td>\n",
              "      <td>0</td>\n",
              "      <td>0</td>\n",
              "      <td>0</td>\n",
              "      <td>0</td>\n",
              "      <td>0</td>\n",
              "      <td>...</td>\n",
              "      <td>0</td>\n",
              "      <td>0</td>\n",
              "      <td>0</td>\n",
              "      <td>0</td>\n",
              "      <td>0</td>\n",
              "      <td>0</td>\n",
              "      <td>0</td>\n",
              "      <td>0</td>\n",
              "      <td>0</td>\n",
              "      <td>0</td>\n",
              "      <td>0</td>\n",
              "      <td>0</td>\n",
              "      <td>0</td>\n",
              "      <td>0</td>\n",
              "      <td>0</td>\n",
              "      <td>0</td>\n",
              "      <td>0</td>\n",
              "      <td>0</td>\n",
              "      <td>0</td>\n",
              "      <td>0</td>\n",
              "      <td>0</td>\n",
              "      <td>0</td>\n",
              "      <td>0</td>\n",
              "      <td>0</td>\n",
              "      <td>0</td>\n",
              "      <td>0</td>\n",
              "      <td>0</td>\n",
              "      <td>0</td>\n",
              "      <td>0</td>\n",
              "      <td>0</td>\n",
              "      <td>0</td>\n",
              "      <td>0</td>\n",
              "      <td>0</td>\n",
              "      <td>0</td>\n",
              "      <td>0</td>\n",
              "      <td>0</td>\n",
              "      <td>0</td>\n",
              "      <td>0</td>\n",
              "      <td>0</td>\n",
              "      <td>2</td>\n",
              "    </tr>\n",
              "  </tbody>\n",
              "</table>\n",
              "<p>2000 rows × 5109 columns</p>\n",
              "</div>"
            ],
            "text/plain": [
              "      its     one  not  ...  wannabes  astaires  tour  straighttodvd\n",
              "0       2  2    2    1  ...         0         0     0              0\n",
              "1       0  2    2    2  ...         0         0     0              0\n",
              "2       0  0    0    0  ...         0         0     0              0\n",
              "3       0  1    0    0  ...         0         0     0              0\n",
              "4       0  0    0    2  ...         0         0     0              0\n",
              "...   ... ..  ...  ...  ...       ...       ...   ...            ...\n",
              "1995    0  0    1    0  ...         0         0     0              0\n",
              "1996    0  0    0    1  ...         0         0     0              0\n",
              "1997    0  0    0    0  ...         1         0     0              0\n",
              "1998    0  0    1    1  ...         0         2     1              0\n",
              "1999    0  2    0    0  ...         0         0     0              2\n",
              "\n",
              "[2000 rows x 5109 columns]"
            ]
          },
          "metadata": {
            "tags": []
          },
          "execution_count": 15
        }
      ]
    },
    {
      "cell_type": "markdown",
      "metadata": {
        "id": "etyyQh-ZWWXf"
      },
      "source": [
        "With this numerical representation ready, we now proceed to building out our baseline classifiers in the subsequent sections for the two presented example datasets."
      ]
    },
    {
      "cell_type": "markdown",
      "metadata": {
        "id": "TIGDs4kZYCIr"
      },
      "source": [
        "As the very last step of preparing the sentiment dataset for training by our baseline classifiers, we split it into independent training and testing or validation sets. This will allow us to evaluate the performance of the classifier on a set of data that was not used for training, an important thing\r\n",
        "to ensure in machine learning practice. We elect to use 70% of the data for training, and 30% for testing/validation afterwards."
      ]
    },
    {
      "cell_type": "code",
      "metadata": {
        "id": "h2bJ0TlTX3FW",
        "colab": {
          "base_uri": "https://localhost:8080/"
        },
        "outputId": "a00e613f-e66f-4be1-df07-2cf7faab08fd"
      },
      "source": [
        "# split into independent 70% training and 30% testing sets\r\n",
        "data = mixed_bag_reviews.values\r\n",
        "\r\n",
        "idx = int(0.7 * data.shape[0])  # get 70% index value\r\n",
        "\r\n",
        "# 70% of data for training\r\n",
        "train_x = data[:idx, :]\r\n",
        "train_y = header[:idx]\r\n",
        "\r\n",
        "# remaining 30% for testing\r\n",
        "test_x = data[idx:, :]\r\n",
        "test_y = header[idx:]\r\n",
        "\r\n",
        "print(\"train_x/train_y list details, to make sure they are of the right form:\")\r\n",
        "print(len(train_x))\r\n",
        "print(train_x)\r\n",
        "print(len(train_y))\r\n",
        "print(train_y[:5])"
      ],
      "execution_count": 16,
      "outputs": [
        {
          "output_type": "stream",
          "text": [
            "train_x/train_y list details, to make sure they are of the right form:\n",
            "1400\n",
            "[[2 2 2 ... 0 0 0]\n",
            " [0 2 2 ... 0 0 0]\n",
            " [0 0 0 ... 0 0 0]\n",
            " ...\n",
            " [0 0 0 ... 0 0 0]\n",
            " [0 0 1 ... 0 0 0]\n",
            " [0 0 0 ... 0 0 0]]\n",
            "1400\n",
            "[1 1 1 0 0]\n"
          ],
          "name": "stdout"
        }
      ]
    },
    {
      "cell_type": "markdown",
      "metadata": {
        "id": "7HQRPMa4Z8RB"
      },
      "source": [
        "Since 70% of 2000 is 1400, looks good! (for n_sample=1000)"
      ]
    },
    {
      "cell_type": "markdown",
      "metadata": {
        "id": "uRlxXUoKkD5x"
      },
      "source": [
        "### How about other vectorization strategies?"
      ]
    },
    {
      "cell_type": "markdown",
      "metadata": {
        "id": "FxAWeJ3MkFW-"
      },
      "source": [
        "Let's check some other vectorization strategies."
      ]
    },
    {
      "cell_type": "code",
      "metadata": {
        "id": "LnOrtEeOkR8P"
      },
      "source": [
        "# create the transform - uncomment the one you want to focus on\r\n",
        "# vectorizer = CountVectorizer()    # this is equivalent to the bag of words\r\n",
        "vectorizer = TfidfVectorizer()    # tf-idf vectorizer\r\n",
        "# vectorizer = HashingVectorizer(n_features=3000)  # hashing vectorizer"
      ],
      "execution_count": 17,
      "outputs": []
    },
    {
      "cell_type": "code",
      "metadata": {
        "id": "kdtXJQzTkzPS",
        "colab": {
          "base_uri": "https://localhost:8080/"
        },
        "outputId": "5deb7f2a-ec32-44e3-e08f-7920ad0fc208"
      },
      "source": [
        "# build vocabulary\r\n",
        "vectorizer.fit([\" \".join(sublist) for sublist in data_train])\r\n",
        "# summarize\r\n",
        "print(len(vectorizer.vocabulary_))\r\n",
        "print(vectorizer.idf_)\r\n",
        "\r\n",
        "# encode one document\r\n",
        "vector = vectorizer.transform([\" \".join(data_train[0])])\r\n",
        "# summarize encoded vector\r\n",
        "print(vector.shape)\r\n",
        "print(vector.toarray())\r\n",
        "\r\n",
        "# set this to 'True' if you want to use the vectorizer featurizers instead of the bag-of-words done before\r\n",
        "USE = False\r\n",
        "if USE:\r\n",
        "  data = vectorizer.transform([\" \".join(sublist) for sublist in data_train]).toarray()\r\n",
        "  # 70% of data for training\r\n",
        "  train_x = data[:idx, :]\r\n",
        "  # remaining 30% for testing\r\n",
        "  test_x = data[idx, :]\r\n",
        "\r\n",
        "  print(\"train_x/train_y list details, to make sure it is of the right form:\")\r\n",
        "  print(train_x.shape[0])\r\n",
        "  print(train_x)\r\n",
        "  print(train_y[:5])\r\n",
        "  print(len(train_y))\r\n",
        "  predictors = [column for column in vectorizer.vocabulary_]"
      ],
      "execution_count": 18,
      "outputs": [
        {
          "output_type": "stream",
          "text": [
            "12035\n",
            "[7.90825515 7.90825515 7.90825515 ... 7.90825515 7.90825515 7.90825515]\n",
            "(1, 12035)\n",
            "[[0. 0. 0. ... 0. 0. 0.]]\n"
          ],
          "name": "stdout"
        }
      ]
    },
    {
      "cell_type": "markdown",
      "metadata": {
        "id": "yAdf-aVkadDa"
      },
      "source": [
        "## Generalized Linear Models"
      ]
    },
    {
      "cell_type": "markdown",
      "metadata": {
        "id": "lyHf2bhnaeI8"
      },
      "source": [
        "Traditionally, the development of models in any area of applied mathematics has started with linear models. These models are mappings that preserve addition and multiplication in the input and output spaces. In other words, the net response from a pair of inputs will be the sum of the responses to each individual input. This property enables a significant reduction in associated\r\n",
        "statistical and mathematical theory.\r\n",
        "\r\n",
        "In this section, we will apply a pair of the most widely-used generalized linear machine learning algorithms to the pair of example problems that were introduced in the previous section– logistic regression and support vector machines (SVMs) with linear kernel. Other popular generalized linear machine learning models that will not be applied include the simple perceptron\r\n",
        "neural architecture with a linear activation function, latent dirichlet allocation (LDA) and Naive Bayes."
      ]
    },
    {
      "cell_type": "markdown",
      "metadata": {
        "id": "-jjcLejes1ec"
      },
      "source": [
        "### Logistic Regression"
      ]
    },
    {
      "cell_type": "markdown",
      "metadata": {
        "id": "9yFR-Vm2s7AW"
      },
      "source": [
        "Logistic regression models the relationship between a categorical output variable and a set of input variables by estimating probabilities with the logistic function. Assuming the existence of a single input variables x, and a single output binary variable y with associated probability $P(y=1)=p$.\r\n",
        "\r\n",
        "Now, let’s go ahead and build our classifier using the popular library scikit-learn."
      ]
    },
    {
      "cell_type": "code",
      "metadata": {
        "id": "LUorbYbDZw8b"
      },
      "source": [
        "def fit_model(train_x, train_y):\r\n",
        "  model = LogisticRegression()  # Instantiate model\r\n",
        "\r\n",
        "  try:\r\n",
        "    model.fit(train_x, train_y)  # Fit model to prepared labeled data\r\n",
        "  except:\r\n",
        "    pass\r\n",
        "\r\n",
        "  return model"
      ],
      "execution_count": 20,
      "outputs": []
    },
    {
      "cell_type": "markdown",
      "metadata": {
        "id": "n8Bea7LfuR2p"
      },
      "source": [
        "Now let's fit this model to our data for IMDB classification example."
      ]
    },
    {
      "cell_type": "code",
      "metadata": {
        "id": "p7wQ7yZSt_Z7"
      },
      "source": [
        "model = fit_model(train_x, train_y)"
      ],
      "execution_count": 21,
      "outputs": []
    },
    {
      "cell_type": "markdown",
      "metadata": {
        "id": "Lnhjbl2huiSa"
      },
      "source": [
        "To evaluate performance, we must test on the “hold out” test/validation sets that were put together for each example."
      ]
    },
    {
      "cell_type": "code",
      "metadata": {
        "id": "XZbT774wuqZk",
        "outputId": "c376558a-52c0-4bfe-df94-6fe81931d09e",
        "colab": {
          "base_uri": "https://localhost:8080/"
        }
      },
      "source": [
        "predicted_labels = model.predict(test_x)\r\n",
        "\r\n",
        "# print all labels for full trasparency\r\n",
        "print(\"DEBUG::The logistic regression predicted labels are::\")\r\n",
        "print(predicted_labels)"
      ],
      "execution_count": 22,
      "outputs": [
        {
          "output_type": "stream",
          "text": [
            "DEBUG::The logistic regression predicted labels are::\n",
            "[1 0 0 1 1 0 1 0 0 1 1 1 0 0 0 1 1 0 0 0 1 1 1 1 1 1 0 0 1 0 1 0 1 1 0 1 0\n",
            " 1 1 0 1 0 1 0 1 1 1 0 1 0 1 1 1 1 0 1 0 0 0 1 0 0 1 1 1 0 1 1 0 0 1 1 1 0\n",
            " 0 0 1 1 0 0 0 0 0 0 0 1 0 1 0 0 1 0 0 0 0 1 1 0 0 0 1 1 0 1 0 1 1 0 1 1 1\n",
            " 0 0 0 0 1 1 1 1 1 1 1 1 0 1 0 0 1 1 0 1 0 0 0 0 0 0 1 1 0 1 0 1 0 0 1 0 1\n",
            " 1 0 1 0 1 1 0 0 1 1 1 0 0 1 0 0 0 0 0 1 1 1 1 1 0 1 1 1 1 0 1 0 1 1 1 0 0\n",
            " 1 0 1 1 1 0 1 1 1 0 1 1 0 0 0 1 0 1 0 1 1 1 1 0 0 1 0 0 1 0 0 0 1 1 1 0 1\n",
            " 1 1 0 1 1 1 1 1 1 1 1 0 0 1 1 1 1 0 1 0 1 1 0 1 0 1 0 0 1 0 1 1 0 0 0 1 0\n",
            " 0 1 0 1 0 0 0 1 0 0 1 0 1 0 1 1 0 0 0 0 1 1 0 0 0 0 1 0 1 0 1 1 0 0 1 1 1\n",
            " 0 0 0 1 0 0 0 0 0 1 1 1 1 1 1 0 0 1 0 0 0 0 0 1 1 1 1 0 0 1 0 1 0 1 0 1 0\n",
            " 0 1 0 1 0 0 0 0 0 0 0 0 0 1 0 1 0 1 0 0 1 0 1 1 1 0 1 1 1 0 1 1 1 1 0 1 0\n",
            " 1 1 1 1 0 1 1 1 0 0 0 0 1 1 1 0 0 1 1 0 0 1 0 1 0 0 0 1 1 1 0 1 1 1 0 1 0\n",
            " 0 1 0 0 1 1 0 1 1 0 0 0 0 0 0 0 0 0 1 0 0 0 0 1 0 0 1 0 0 1 0 0 0 0 0 1 0\n",
            " 1 0 1 0 0 0 0 0 0 0 1 0 1 1 0 1 0 1 1 1 0 1 0 0 0 0 0 0 1 0 0 1 1 1 1 0 0\n",
            " 1 0 0 1 0 0 0 0 1 1 1 1 0 1 1 0 0 0 1 1 0 1 0 1 0 0 1 0 1 1 0 1 1 1 1 0 0\n",
            " 1 0 1 1 1 0 1 1 0 0 0 1 0 1 0 1 1 1 1 0 1 0 1 0 0 0 0 1 0 0 1 0 1 0 0 0 1\n",
            " 1 0 0 1 1 0 1 0 1 0 0 0 0 0 0 1 0 1 1 0 0 1 0 1 1 0 0 1 1 0 0 0 0 0 0 0 0\n",
            " 1 1 0 0 1 0 0 1]\n"
          ],
          "name": "stdout"
        }
      ]
    },
    {
      "cell_type": "code",
      "metadata": {
        "id": "9iDbb0fUu6Mc",
        "outputId": "18988883-0748-468d-99ca-4586faf844f4",
        "colab": {
          "base_uri": "https://localhost:8080/"
        }
      },
      "source": [
        "acc_score = accuracy_score(test_y, predicted_labels)\r\n",
        "\r\n",
        "print(\"The logistic regression accuracy score is::\")\r\n",
        "print(acc_score)"
      ],
      "execution_count": 23,
      "outputs": [
        {
          "output_type": "stream",
          "text": [
            "The logistic regression accuracy score is::\n",
            "0.665\n"
          ],
          "name": "stdout"
        }
      ]
    },
    {
      "cell_type": "markdown",
      "metadata": {
        "id": "IT4erYR1v710"
      },
      "source": [
        "Before proceeding, it is important to address the use of accuracy as the metric for evaluating performance. Accuracy is defined as the ratio of correctly identified samples, i.e., the ratio of the number of true positives and negatives to the total number of samples. \r\n",
        "\r\n",
        "Other potential metrics that could be used here include precision – the ratio of the number of true positives to all predicted positives, and recall – the ratio of the number of true positives to all actual positives. These two measures could be useful if the costs of false positives and false negatives\r\n",
        "(respectively) are particularly important. \r\n",
        "\r\n",
        "Crucially, the F1-score – the harmonic mean of precision and recall – strikes a balance between the two, and is particularly useful for imbalanced datasets. This is the most common situation in practice, making this metric very important.\r\n"
      ]
    },
    {
      "cell_type": "markdown",
      "metadata": {
        "id": "labw3hJWvgg4"
      },
      "source": [
        "### Support Vector Machine Classifier"
      ]
    },
    {
      "cell_type": "markdown",
      "metadata": {
        "id": "_u30dfFtvhk2"
      },
      "source": [
        "SVMs has traditionally been the most popular kind of kernel method.\r\n",
        "These methods attempt to find good decision boundaries by mapping data to a high dimensional space, using hyperplanes as decision boundaries and the kernel trick to reduce computing cost. When the kernel function is a linear function, SVMs are not only generalized linear models, but are indeed linear models.\r\n",
        "\r\n",
        "Note that because this classifier takes a bit longer to train than the logistic regression one, we employ the inbuilt Python library time to determine the training time."
      ]
    },
    {
      "cell_type": "code",
      "metadata": {
        "id": "SbPxza8CvPR3",
        "outputId": "2532c5dd-41e6-4328-ca39-e9308e94be00",
        "colab": {
          "base_uri": "https://localhost:8080/"
        }
      },
      "source": [
        "# Create a support vector classifier\r\n",
        "clf = SVC(C=1, gamma=\"auto\", kernel=\"linear\", probability=False)\r\n",
        "\r\n",
        "# Fit the classifier using the training data\r\n",
        "start_time = time.time()\r\n",
        "clf.fit(train_x, train_y)\r\n",
        "end_time = time.time()\r\n",
        "print(\"Training the SVC Classifier took %3d seconds\" % (end_time - start_time))\r\n",
        "\r\n",
        "# test and evaluate\r\n",
        "predicted_labels = clf.predict(test_x)\r\n",
        "print(\"DEBUG::The SVC Classifier predicted labels are::\")\r\n",
        "print(predicted_labels)\r\n",
        "\r\n",
        "acc_score = accuracy_score(test_y, predicted_labels)\r\n",
        "print(\"The SVC Classifier testing accuracy score is::\")\r\n",
        "print(acc_score)"
      ],
      "execution_count": 24,
      "outputs": [
        {
          "output_type": "stream",
          "text": [
            "Training the SVC Classifier took  15 seconds\n",
            "DEBUG::The SVC Classifier predicted labels are::\n",
            "[1 0 0 1 1 0 1 0 1 1 1 1 0 0 0 1 1 0 0 0 1 1 1 0 1 1 0 0 1 0 1 0 1 1 0 1 0\n",
            " 1 1 0 1 0 1 0 1 1 1 0 1 0 1 1 1 1 0 1 0 0 0 1 0 0 1 1 1 0 1 1 0 0 1 1 1 0\n",
            " 1 0 1 1 0 0 0 0 0 0 1 1 0 1 0 0 1 1 0 0 0 1 1 0 0 0 1 1 0 1 0 1 1 0 1 0 1\n",
            " 0 0 0 0 1 1 1 1 1 0 1 1 0 1 1 0 0 1 0 1 0 0 0 1 0 0 1 1 0 1 0 1 0 0 1 0 1\n",
            " 1 1 1 0 1 1 0 0 1 1 1 0 0 1 0 0 0 0 1 0 1 1 1 1 0 1 0 1 1 1 1 0 1 1 1 0 0\n",
            " 1 0 1 0 1 0 1 1 0 0 1 1 0 0 0 1 0 1 0 1 1 1 1 1 0 1 0 0 0 0 0 0 1 0 1 0 1\n",
            " 1 1 0 1 1 1 1 1 1 1 1 0 0 1 1 1 1 0 1 0 1 1 1 1 0 1 0 0 1 0 1 1 1 0 0 1 0\n",
            " 0 1 0 1 0 0 0 1 0 0 0 0 1 0 1 1 0 0 0 0 1 1 0 0 0 0 1 0 1 0 1 0 0 0 1 1 1\n",
            " 0 0 0 1 0 0 1 0 0 1 1 1 1 1 1 0 0 1 1 0 0 0 0 1 1 1 1 0 0 1 0 1 0 1 0 1 0\n",
            " 0 1 0 1 0 1 0 0 0 0 0 0 0 0 0 1 0 1 0 0 1 0 1 1 1 0 1 1 0 0 1 1 1 1 0 0 0\n",
            " 1 1 1 1 0 1 1 1 0 0 0 0 1 1 1 0 0 0 1 0 0 1 0 1 0 0 0 1 1 1 0 1 1 1 0 1 0\n",
            " 0 1 0 0 1 1 0 1 1 0 0 0 0 0 0 0 0 1 1 0 0 0 0 1 1 0 1 0 0 1 0 0 0 0 0 1 0\n",
            " 1 1 1 0 0 0 1 0 0 1 1 0 1 1 0 1 0 1 1 1 1 1 0 0 0 0 0 0 1 0 0 1 1 1 1 0 1\n",
            " 0 0 0 1 0 0 0 1 1 0 1 1 0 1 1 0 0 0 1 1 0 1 0 0 0 0 1 0 1 1 0 1 1 1 1 0 0\n",
            " 1 0 1 1 1 0 1 1 0 0 0 1 0 1 0 1 1 1 1 0 1 0 1 0 0 0 0 1 0 0 1 0 1 0 0 0 1\n",
            " 1 0 0 1 1 0 1 0 1 0 0 0 0 0 0 1 0 1 1 0 0 1 0 1 1 0 0 1 1 0 0 0 0 0 0 0 0\n",
            " 1 1 0 0 1 1 0 1]\n",
            "The SVC Classifier testing accuracy score is::\n",
            "0.6566666666666666\n"
          ],
          "name": "stdout"
        }
      ]
    },
    {
      "cell_type": "markdown",
      "metadata": {
        "id": "r6uyF5ekyIrF"
      },
      "source": [
        "Training the classifier on the IMDB data took 36 seconds and yielded an accuracy score of 0.656. We see that SVM significantly underperforms logistic regression for the email spam classification problem, while achieving lower but nearly comparable performance for the IMDB problem."
      ]
    },
    {
      "cell_type": "markdown",
      "metadata": {
        "id": "pzRVGKJjyZcM"
      },
      "source": [
        "## Decision-Tree-Based Models"
      ]
    },
    {
      "cell_type": "markdown",
      "metadata": {
        "id": "FHwhq2rfycyw"
      },
      "source": [
        ""
      ]
    }
  ]
}