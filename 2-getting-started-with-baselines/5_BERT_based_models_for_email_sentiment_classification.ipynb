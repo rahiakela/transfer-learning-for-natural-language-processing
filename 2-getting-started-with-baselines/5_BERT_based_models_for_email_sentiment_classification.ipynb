{
  "nbformat": 4,
  "nbformat_minor": 0,
  "metadata": {
    "colab": {
      "name": "5-BERT-based-models-for-email-sentiment-classification.ipynb",
      "provenance": [],
      "toc_visible": true,
      "authorship_tag": "ABX9TyNOkg0EOY9YAmLeR8Mna1WN",
      "include_colab_link": true
    },
    "kernelspec": {
      "name": "python3",
      "display_name": "Python 3"
    },
    "accelerator": "GPU"
  },
  "cells": [
    {
      "cell_type": "markdown",
      "metadata": {
        "id": "view-in-github",
        "colab_type": "text"
      },
      "source": [
        "<a href=\"https://colab.research.google.com/github/rahiakela/transfer-learning-for-natural-language-processing/blob/main/2-getting-started-with-baselines/5_BERT_based_models_for_email_sentiment_classification.ipynb\" target=\"_parent\"><img src=\"https://colab.research.google.com/assets/colab-badge.svg\" alt=\"Open In Colab\"/></a>"
      ]
    },
    {
      "cell_type": "markdown",
      "metadata": {
        "id": "0syenf2nUMgZ"
      },
      "source": [
        "# BERT based models for Email Sentiment Classification"
      ]
    },
    {
      "cell_type": "markdown",
      "metadata": {
        "id": "0Tvj1R7TUOC2"
      },
      "source": [
        "Our goal is to establish a set of baselines for a pair of concrete NLP problems, which we will later be able to use to measure progressive improvements gained from leveraging increasingly sophisticated transfer learning\r\n",
        "approaches. In the process of doing this, we aim to advance your general NLP instincts and refresh your understanding of typical procedures involved in setting up problem-solving pipelines for such problems. You will review techniques ranging from tokenization to data structure and model selection. We first train some traditional machine learning models from scratch to establish some preliminary baselines for these problems.\r\n",
        "\r\n",
        "We will focus on a pair of important representative example NLP problems – spam\r\n",
        "classification of email, and sentiment classification of movie reviews. This exercise will arm you with a number of important skills, including some tips for obtaining, visualizing and preprocessing data. \r\n",
        "\r\n",
        "Three major model classes will be covered, namely linear models such as logistic regression, decision-tree-based models such as random forests, and neural-network-based models such as ELMo. These classes are additionally represented by support vector machines (SVMs) with linear kernels, gradient-boosting machines (GBMs) and BERT respectively. \r\n",
        "\r\n",
        "<img src='https://github.com/rahiakela/img-repo/blob/master/transfer-learning-for-natural-language-processing/content-classification-supervised-models.png?raw=1' width='800'/>\r\n",
        "\r\n"
      ]
    },
    {
      "cell_type": "markdown",
      "metadata": {
        "id": "inPFIdfP7n4K"
      },
      "source": [
        "## Setup"
      ]
    },
    {
      "cell_type": "markdown",
      "metadata": {
        "id": "I-Pp-FuGn8Ej"
      },
      "source": [
        "Ref: https://stackoverflow.com/questions/57742410/error-on-scope-variable-while-using-tensorflow-hub"
      ]
    },
    {
      "cell_type": "code",
      "metadata": {
        "id": "f7SakR1eElHP"
      },
      "source": [
        "%%shell\r\n",
        "\r\n",
        "pip install keras==2.2.4 # critical dependency\r\n",
        "pip install tensorflow==1.15\r\n",
        "pip install \"tensorflow_hub>=0.6.0\"\r\n",
        "pip install -q bert-tensorflow"
      ],
      "execution_count": null,
      "outputs": []
    },
    {
      "cell_type": "code",
      "metadata": {
        "id": "Xlt8No657pZ_",
        "colab": {
          "base_uri": "https://localhost:8080/"
        },
        "outputId": "a17cee70-988b-4cfc-96ad-9ce30b9a4a33"
      },
      "source": [
        "import numpy as np  # linear algebra\r\n",
        "import pandas as pd # data processing, CSV file I/O (e.g. pd.read_csv)\r\n",
        "import email        # email package for processing email messages\r\n",
        "import random\r\n",
        "import re\r\n",
        "import time\r\n",
        "from tqdm import tqdm\r\n",
        "\r\n",
        "\r\n",
        "import tensorflow as tf\r\n",
        "import tensorflow_hub as hub\r\n",
        "from tensorflow.keras import backend as K\r\n",
        "\r\n",
        "from bert.tokenization import FullTokenizer\r\n",
        "\r\n",
        "import nltk\r\n",
        "nltk.download('stopwords')\r\n",
        "from nltk.corpus import stopwords\r\n",
        "\r\n",
        "import matplotlib.pyplot as plt"
      ],
      "execution_count": 2,
      "outputs": [
        {
          "output_type": "stream",
          "text": [
            "[nltk_data] Downloading package stopwords to /root/nltk_data...\n",
            "[nltk_data]   Unzipping corpora/stopwords.zip.\n"
          ],
          "name": "stdout"
        }
      ]
    },
    {
      "cell_type": "code",
      "metadata": {
        "id": "tzDJNq2Xkz29"
      },
      "source": [
        "# Initialize tensorflow session\r\n",
        "sess = tf.Session()"
      ],
      "execution_count": 3,
      "outputs": []
    },
    {
      "cell_type": "code",
      "metadata": {
        "id": "JQ8un4hI7uw1",
        "colab": {
          "resources": {
            "http://localhost:8080/nbextensions/google.colab/files.js": {
              "data": "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",
              "ok": true,
              "headers": [
                [
                  "content-type",
                  "application/javascript"
                ]
              ],
              "status": 200,
              "status_text": ""
            }
          },
          "base_uri": "https://localhost:8080/",
          "height": 91
        },
        "outputId": "95a693a1-8462-495c-9344-2588af7b9d93"
      },
      "source": [
        "from google.colab import files\r\n",
        "files.upload() # upload kaggle.json file"
      ],
      "execution_count": 4,
      "outputs": [
        {
          "output_type": "display_data",
          "data": {
            "text/html": [
              "\n",
              "     <input type=\"file\" id=\"files-1828c6bf-6869-4768-90ca-f98571f1bde3\" name=\"files[]\" multiple disabled\n",
              "        style=\"border:none\" />\n",
              "     <output id=\"result-1828c6bf-6869-4768-90ca-f98571f1bde3\">\n",
              "      Upload widget is only available when the cell has been executed in the\n",
              "      current browser session. Please rerun this cell to enable.\n",
              "      </output>\n",
              "      <script src=\"/nbextensions/google.colab/files.js\"></script> "
            ],
            "text/plain": [
              "<IPython.core.display.HTML object>"
            ]
          },
          "metadata": {
            "tags": []
          }
        },
        {
          "output_type": "stream",
          "text": [
            "Saving kaggle.json to kaggle.json\n"
          ],
          "name": "stdout"
        },
        {
          "output_type": "execute_result",
          "data": {
            "text/plain": [
              "{'kaggle.json': b'{\"username\":\"rahiakela\",\"key\":\"484f91b2ebc194b0bff8ab8777c1ebff\"}'}"
            ]
          },
          "metadata": {
            "tags": []
          },
          "execution_count": 4
        }
      ]
    },
    {
      "cell_type": "code",
      "metadata": {
        "id": "wJKVZMbo7va7",
        "colab": {
          "base_uri": "https://localhost:8080/"
        },
        "outputId": "a50d9d94-65fc-4116-8357-15a726af6ff9"
      },
      "source": [
        "%%shell\r\n",
        "\r\n",
        "mkdir -p ~/.kaggle\r\n",
        "mv kaggle.json ~/.kaggle/\r\n",
        "ls ~/.kaggle\r\n",
        "chmod 600 /root/.kaggle/kaggle.json\r\n",
        "\r\n",
        "# download dataset from kaggle\r\n",
        "kaggle datasets download -d wcukierski/enron-email-dataset\r\n",
        "unzip -qq enron-email-dataset.zip\r\n",
        "\r\n",
        "kaggle datasets download -d rtatman/fraudulent-email-corpus\r\n",
        "unzip -qq fraudulent-email-corpus.zip\r\n",
        "\r\n",
        "rm -rf enron-email-dataset.zip fraudulent-email-corpus.zip"
      ],
      "execution_count": 5,
      "outputs": [
        {
          "output_type": "stream",
          "text": [
            "kaggle.json\n",
            "Downloading enron-email-dataset.zip to /content\n",
            " 94% 338M/358M [00:04<00:00, 61.1MB/s]\n",
            "100% 358M/358M [00:04<00:00, 78.6MB/s]\n",
            "Downloading fraudulent-email-corpus.zip to /content\n",
            " 91% 5.00M/5.52M [00:00<00:00, 26.9MB/s]\n",
            "100% 5.52M/5.52M [00:00<00:00, 27.0MB/s]\n"
          ],
          "name": "stdout"
        },
        {
          "output_type": "execute_result",
          "data": {
            "text/plain": [
              ""
            ]
          },
          "metadata": {
            "tags": []
          },
          "execution_count": 5
        }
      ]
    },
    {
      "cell_type": "code",
      "metadata": {
        "id": "Srh_wOUmwefT"
      },
      "source": [
        "def extract_messages(df):\r\n",
        "  messages = []\r\n",
        "  for item in df[\"message\"]:\r\n",
        "    # Return a message object structure from a string\r\n",
        "    e = email.message_from_string(item)\r\n",
        "    # get message body\r\n",
        "    message_body = e.get_payload()\r\n",
        "    messages.append(message_body)\r\n",
        "  print(\"Successfully retrieved message body from e-mails!\")\r\n",
        "  return messages"
      ],
      "execution_count": 6,
      "outputs": []
    },
    {
      "cell_type": "markdown",
      "metadata": {
        "id": "zQbAbRM7Wtfs"
      },
      "source": [
        "## Preprocessing Email Spam Data"
      ]
    },
    {
      "cell_type": "markdown",
      "metadata": {
        "id": "HplaHzeVWwfg"
      },
      "source": [
        "Here, we are interested in developing an algorithm that can detect whether any given email is spam or not, at scale. To do this, we will build a dataset from two separate sources – the popular Enron email corpus as a proxy for email that is not spam, and a collection of “419” fraudulent emails as a proxy for email that is spam.\r\n",
        "\r\n",
        "We will view this as a supervised classification task, where we will first train a classifier on a collection of emails labeled as either spam or not spam. \r\n",
        "\r\n",
        "In particular, we will sample the Enron Corpus – the largest public email collection, related to the notorious Enron financial scandal – as a proxy for email that are not spam, and sample “419” fraudulent emails, representing the best known type of spam, as a proxy for email that is spam. Both of these types of emails are openly available on [Kaggle](https://www.kaggle.com/wcukierski/enron-email-dataset).\r\n",
        "\r\n",
        "The Enron corpus contains about half a million emails written by employees of the Enron Corporation, as collected by the Federal Energy Commission for the purposes of investigating the collapse of the company. It has been used extensively in the literature to study machine learning methods for email applications and is often the first data source researchers working with emails look to for initial experimentation with algorithm prototypes. On Kaggle, it is\r\n",
        "available as a single-column .csv file with one email per row. Note that this data is still cleaner than one can expect to typically find in many practical applications in the wild.\r\n",
        "\r\n",
        "<img src='https://github.com/rahiakela/img-repo/blob/master/transfer-learning-for-natural-language-processing/spam-email-preprocessing.png?raw=1' width='800'/>\r\n",
        "\r\n",
        "The body of the email will first be separated from the headers of the email, some statistics about the dataset will be teased out to get a sense for the data, stopwords will be removed from the email, and it will then be classified as either spam or not spam."
      ]
    },
    {
      "cell_type": "markdown",
      "metadata": {
        "id": "Yl9EgWVOay5R"
      },
      "source": [
        "### Loading and Visualizing the Fraudulent Email Corpus"
      ]
    },
    {
      "cell_type": "markdown",
      "metadata": {
        "id": "U6g1Yz69a-w7"
      },
      "source": [
        "Let’s load the “419” fraudulent email corpus, so that we can have some example data in our training set representing the “spam” class.\r\n",
        "\r\n",
        "> Since this dataset comes as a .txt file, versus a .csv, the preprocessing steps are slightly different. First\r\n",
        "of all, we have to specify the encoding when reading the file as latin1, otherwise the default encoding option of\r\n",
        "utf-8 will fail. It is often the case in practice that one needs to experiment with a number of different encodings,\r\n",
        "with the aforementioned two being the most popular ones, to get some datasets to read correctly. Additionally,\r\n",
        "note that because this .txt file is one big column of emails (with headers) separated by line breaks and white\r\n",
        "space, and is not separated nicely into rows with one email per row – as was the case for the Enron corpus – we\r\n",
        "can’t use Pandas to neatly load it as was done before. We will read all the emails into a single string, and split\r\n",
        "the string on a code word that appears close to the beginning of each email’s header, i.e, “From r”."
      ]
    },
    {
      "cell_type": "code",
      "metadata": {
        "id": "KoaktA_bbB7e"
      },
      "source": [
        "filepath = \"./fradulent_emails.txt\"\r\n",
        "with open(filepath, \"r\", encoding=\"latin1\") as file:\r\n",
        "  data = file.read()"
      ],
      "execution_count": 7,
      "outputs": []
    },
    {
      "cell_type": "markdown",
      "metadata": {
        "id": "4bmdi9UxbHDo"
      },
      "source": [
        "Split on the code word From r appearing close to the beginning of each email"
      ]
    },
    {
      "cell_type": "code",
      "metadata": {
        "id": "DydgG-oQbJcL",
        "colab": {
          "base_uri": "https://localhost:8080/"
        },
        "outputId": "dae676be-3ff3-4fd9-9142-0ba5fea02939"
      },
      "source": [
        "fraud_emails = data.split(\"From r\")\r\n",
        "print(\"Successfully loaded {} spam emails!\".format(len(fraud_emails)))"
      ],
      "execution_count": 8,
      "outputs": [
        {
          "output_type": "stream",
          "text": [
            "Successfully loaded 3978 spam emails!\n"
          ],
          "name": "stdout"
        }
      ]
    },
    {
      "cell_type": "markdown",
      "metadata": {
        "id": "IqSaPXPlbLfb"
      },
      "source": [
        "Now that the fraudulent data is loaded as a list, we can convert it into a Pandas DataFrame."
      ]
    },
    {
      "cell_type": "code",
      "metadata": {
        "id": "boolbOhybOhv",
        "colab": {
          "base_uri": "https://localhost:8080/",
          "height": 218
        },
        "outputId": "1c21beae-1bdd-4149-99da-321dd7667b40"
      },
      "source": [
        "fraud_bodies = extract_messages(pd.DataFrame(fraud_emails, columns=[\"message\"], dtype=str))\r\n",
        "fraud_bodies_df = pd.DataFrame(fraud_bodies[1:])\r\n",
        "\r\n",
        "fraud_bodies_df.head()"
      ],
      "execution_count": 9,
      "outputs": [
        {
          "output_type": "stream",
          "text": [
            "Successfully retrieved message body from e-mails!\n"
          ],
          "name": "stdout"
        },
        {
          "output_type": "execute_result",
          "data": {
            "text/html": [
              "<div>\n",
              "<style scoped>\n",
              "    .dataframe tbody tr th:only-of-type {\n",
              "        vertical-align: middle;\n",
              "    }\n",
              "\n",
              "    .dataframe tbody tr th {\n",
              "        vertical-align: top;\n",
              "    }\n",
              "\n",
              "    .dataframe thead th {\n",
              "        text-align: right;\n",
              "    }\n",
              "</style>\n",
              "<table border=\"1\" class=\"dataframe\">\n",
              "  <thead>\n",
              "    <tr style=\"text-align: right;\">\n",
              "      <th></th>\n",
              "      <th>0</th>\n",
              "    </tr>\n",
              "  </thead>\n",
              "  <tbody>\n",
              "    <tr>\n",
              "      <th>0</th>\n",
              "      <td>FROM:MR. JAMES NGOLA.\\nCONFIDENTIAL TEL: 233-2...</td>\n",
              "    </tr>\n",
              "    <tr>\n",
              "      <th>1</th>\n",
              "      <td>Dear Friend,\\n\\nI am Mr. Ben Suleman a custom ...</td>\n",
              "    </tr>\n",
              "    <tr>\n",
              "      <th>2</th>\n",
              "      <td>FROM HIS ROYAL MAJESTY (HRM) CROWN RULER OF EL...</td>\n",
              "    </tr>\n",
              "    <tr>\n",
              "      <th>3</th>\n",
              "      <td>FROM HIS ROYAL MAJESTY (HRM) CROWN RULER OF EL...</td>\n",
              "    </tr>\n",
              "    <tr>\n",
              "      <th>4</th>\n",
              "      <td>Dear sir, \\n \\nIt is with a heart full of hope...</td>\n",
              "    </tr>\n",
              "  </tbody>\n",
              "</table>\n",
              "</div>"
            ],
            "text/plain": [
              "                                                   0\n",
              "0  FROM:MR. JAMES NGOLA.\\nCONFIDENTIAL TEL: 233-2...\n",
              "1  Dear Friend,\\n\\nI am Mr. Ben Suleman a custom ...\n",
              "2  FROM HIS ROYAL MAJESTY (HRM) CROWN RULER OF EL...\n",
              "3  FROM HIS ROYAL MAJESTY (HRM) CROWN RULER OF EL...\n",
              "4  Dear sir, \\n \\nIt is with a heart full of hope..."
            ]
          },
          "metadata": {
            "tags": []
          },
          "execution_count": 9
        }
      ]
    },
    {
      "cell_type": "markdown",
      "metadata": {
        "id": "ZFjsooY28CFg"
      },
      "source": [
        "### Loading and Visualizing the Enron Corpus"
      ]
    },
    {
      "cell_type": "markdown",
      "metadata": {
        "id": "K9JO_OyeelZC"
      },
      "source": [
        "The first thing we need to do is load the data with the popular Pandas library, and to take a peek at a slice of the data to make sure we have a good sense of what it looks like."
      ]
    },
    {
      "cell_type": "code",
      "metadata": {
        "id": "5qxnwX82fZAE",
        "colab": {
          "base_uri": "https://localhost:8080/"
        },
        "outputId": "0422c3d9-e281-4c11-897d-00f681f5b2d2"
      },
      "source": [
        "filepath = \"./emails.csv\"\r\n",
        "\r\n",
        "# Read the enron data into a pandas.DataFrame called emails\r\n",
        "emails = pd.read_csv(filepath)\r\n",
        "print(\"Successfully loaded {} rows and {} columns!\".format(emails.shape[0], emails.shape[1]))\r\n",
        "print(emails.head())"
      ],
      "execution_count": 10,
      "outputs": [
        {
          "output_type": "stream",
          "text": [
            "Successfully loaded 517401 rows and 2 columns!\n",
            "                       file                                            message\n",
            "0     allen-p/_sent_mail/1.  Message-ID: <18782981.1075855378110.JavaMail.e...\n",
            "1    allen-p/_sent_mail/10.  Message-ID: <15464986.1075855378456.JavaMail.e...\n",
            "2   allen-p/_sent_mail/100.  Message-ID: <24216240.1075855687451.JavaMail.e...\n",
            "3  allen-p/_sent_mail/1000.  Message-ID: <13505866.1075863688222.JavaMail.e...\n",
            "4  allen-p/_sent_mail/1001.  Message-ID: <30922949.1075863688243.JavaMail.e...\n"
          ],
          "name": "stdout"
        }
      ]
    },
    {
      "cell_type": "code",
      "metadata": {
        "id": "-rYJUDMShrGg",
        "colab": {
          "base_uri": "https://localhost:8080/"
        },
        "outputId": "21e76ee1-68bc-49e5-9fbe-38e86309bb73"
      },
      "source": [
        "# take a closer look at the first email\r\n",
        "print(emails.loc[0][\"message\"])"
      ],
      "execution_count": 11,
      "outputs": [
        {
          "output_type": "stream",
          "text": [
            "Message-ID: <18782981.1075855378110.JavaMail.evans@thyme>\n",
            "Date: Mon, 14 May 2001 16:39:00 -0700 (PDT)\n",
            "From: phillip.allen@enron.com\n",
            "To: tim.belden@enron.com\n",
            "Subject: \n",
            "Mime-Version: 1.0\n",
            "Content-Type: text/plain; charset=us-ascii\n",
            "Content-Transfer-Encoding: 7bit\n",
            "X-From: Phillip K Allen\n",
            "X-To: Tim Belden <Tim Belden/Enron@EnronXGate>\n",
            "X-cc: \n",
            "X-bcc: \n",
            "X-Folder: \\Phillip_Allen_Jan2002_1\\Allen, Phillip K.\\'Sent Mail\n",
            "X-Origin: Allen-P\n",
            "X-FileName: pallen (Non-Privileged).pst\n",
            "\n",
            "Here is our forecast\n",
            "\n",
            " \n"
          ],
          "name": "stdout"
        }
      ]
    },
    {
      "cell_type": "markdown",
      "metadata": {
        "id": "ZG5cG3UpiqNs"
      },
      "source": [
        "We see that the messages are contained within the message column of the resulting DataFrame, with the extra fields at the beginning of each message – including Message ID, To, From, etc.,– being referred to as the message’s header information or simply header.\r\n",
        "\r\n",
        "Traditional spam classification methods derive features from the header information for classifying the message as spam or not. Here, we would like to perform the same task based on the content of the message only. One possible motivation for this approach is the fact that email training data may often be de-identified in practice due to privacy concerns and regulations, thereby making header info unavailable. Thus, we need to separate the headers from the messages in our dataset."
      ]
    },
    {
      "cell_type": "code",
      "metadata": {
        "id": "m3t4cgehjw3t",
        "colab": {
          "base_uri": "https://localhost:8080/"
        },
        "outputId": "d6a7291f-003c-4efc-d67d-a6e8a353a7cd"
      },
      "source": [
        "bodies = extract_messages(emails)"
      ],
      "execution_count": 12,
      "outputs": [
        {
          "output_type": "stream",
          "text": [
            "Successfully retrieved message body from e-mails!\n"
          ],
          "name": "stdout"
        }
      ]
    },
    {
      "cell_type": "code",
      "metadata": {
        "id": "sp43leIyj6iB",
        "colab": {
          "base_uri": "https://localhost:8080/"
        },
        "outputId": "8ab514c1-2d48-44d0-eec6-9e65b1f49056"
      },
      "source": [
        "# We then can display some processed emails\r\n",
        "bodies_df = pd.DataFrame(bodies)\r\n",
        "print(bodies_df.head())"
      ],
      "execution_count": 13,
      "outputs": [
        {
          "output_type": "stream",
          "text": [
            "                                                   0\n",
            "0                          Here is our forecast\\n\\n \n",
            "1  Traveling to have a business meeting takes the...\n",
            "2                     test successful.  way to go!!!\n",
            "3  Randy,\\n\\n Can you send me a schedule of the s...\n",
            "4                Let's shoot for Tuesday at 11:45.  \n"
          ],
          "name": "stdout"
        }
      ]
    },
    {
      "cell_type": "code",
      "metadata": {
        "id": "m8b-w2r3kbRK",
        "colab": {
          "base_uri": "https://localhost:8080/",
          "height": 0
        },
        "outputId": "481ff296-965e-41d9-a5fc-fe4241d5ac94"
      },
      "source": [
        "# extract random 10000 enron email bodies for building dataset\r\n",
        "bodies_df = pd.DataFrame(random.sample(bodies, 10000))\r\n",
        "\r\n",
        "# expand default pandas display options to make emails more clearly visible when printed\r\n",
        "pd.set_option(\"display.max_colwidth\", 300)\r\n",
        "# you could do print(bodies_df.head()), but Jupyter displays this nicer for pandas DataFrames\r\n",
        "bodies_df.head()"
      ],
      "execution_count": 14,
      "outputs": [
        {
          "output_type": "execute_result",
          "data": {
            "text/html": [
              "<div>\n",
              "<style scoped>\n",
              "    .dataframe tbody tr th:only-of-type {\n",
              "        vertical-align: middle;\n",
              "    }\n",
              "\n",
              "    .dataframe tbody tr th {\n",
              "        vertical-align: top;\n",
              "    }\n",
              "\n",
              "    .dataframe thead th {\n",
              "        text-align: right;\n",
              "    }\n",
              "</style>\n",
              "<table border=\"1\" class=\"dataframe\">\n",
              "  <thead>\n",
              "    <tr style=\"text-align: right;\">\n",
              "      <th></th>\n",
              "      <th>0</th>\n",
              "    </tr>\n",
              "  </thead>\n",
              "  <tbody>\n",
              "    <tr>\n",
              "      <th>0</th>\n",
              "      <td>hotel info included at the bottom\\n---------------------- Forwarded by Kay Mann/Corp/Enron on 02/26/2001 05:03 \\nPM ---------------------------\\n\\n\\nLaura R Pena@ECT\\n02/26/2001 05:00 PM\\nTo: Jeffery Ader/HOU/ECT@ECT, Heather Kroll/HOU/ECT@ECT, Kay \\nMann/Corp/Enron@Enron, Steve Montovano/NA/Enr...</td>\n",
              "    </tr>\n",
              "    <tr>\n",
              "      <th>1</th>\n",
              "      <td>Drew, here's my first stab at a rehearing argument.  I did not go as far as I \\ncould have because I really think we should argue that there should be no \\nlimitation at all and that TW should be able to decide for itself what \\ncapacity it can sell as firm.  Instead, I've proposed a solution th...</td>\n",
              "    </tr>\n",
              "    <tr>\n",
              "      <th>2</th>\n",
              "      <td>From Midland\\n\\ngo west on I-20\\ntake the first Monahans exit (should be Business 20 exit)\\ngo thru town, thru the one stop light\\n4 blocks past the light is a Kent Tire Center on the left\\n\\nTW office is behind the Tire Center\\n\\naddress: 109 South Gail Street\\nphone: 915-943-3297\\n\\nKevin Hyat...</td>\n",
              "    </tr>\n",
              "    <tr>\n",
              "      <th>3</th>\n",
              "      <td>Mark, my question has been answered, so you can disregard my previous e-mail request to you for information.  Jim</td>\n",
              "    </tr>\n",
              "    <tr>\n",
              "      <th>4</th>\n",
              "      <td>17:56:06 Synchronizing Mailbox 'Perlingiere, Debra'\\n17:56:06 Synchronizing Hierarchy\\n17:56:06 Synchronizing Favorites\\n17:56:06 Synchronizing Folder 'Inbox'\\n17:56:13 \\t   7 item(s) added to offline folder\\n17:56:13 \\t   2 item(s) updated in offline folder\\n17:56:13 \\t   9 item(s) deleted in o...</td>\n",
              "    </tr>\n",
              "  </tbody>\n",
              "</table>\n",
              "</div>"
            ],
            "text/plain": [
              "                                                                                                                                                                                                                                                                                                             0\n",
              "0  hotel info included at the bottom\\n---------------------- Forwarded by Kay Mann/Corp/Enron on 02/26/2001 05:03 \\nPM ---------------------------\\n\\n\\nLaura R Pena@ECT\\n02/26/2001 05:00 PM\\nTo: Jeffery Ader/HOU/ECT@ECT, Heather Kroll/HOU/ECT@ECT, Kay \\nMann/Corp/Enron@Enron, Steve Montovano/NA/Enr...\n",
              "1  Drew, here's my first stab at a rehearing argument.  I did not go as far as I \\ncould have because I really think we should argue that there should be no \\nlimitation at all and that TW should be able to decide for itself what \\ncapacity it can sell as firm.  Instead, I've proposed a solution th...\n",
              "2  From Midland\\n\\ngo west on I-20\\ntake the first Monahans exit (should be Business 20 exit)\\ngo thru town, thru the one stop light\\n4 blocks past the light is a Kent Tire Center on the left\\n\\nTW office is behind the Tire Center\\n\\naddress: 109 South Gail Street\\nphone: 915-943-3297\\n\\nKevin Hyat...\n",
              "3                                                                                                                                                                                            Mark, my question has been answered, so you can disregard my previous e-mail request to you for information.  Jim\n",
              "4  17:56:06 Synchronizing Mailbox 'Perlingiere, Debra'\\n17:56:06 Synchronizing Hierarchy\\n17:56:06 Synchronizing Favorites\\n17:56:06 Synchronizing Folder 'Inbox'\\n17:56:13 \\t   7 item(s) added to offline folder\\n17:56:13 \\t   2 item(s) updated in offline folder\\n17:56:13 \\t   9 item(s) deleted in o..."
            ]
          },
          "metadata": {
            "tags": []
          },
          "execution_count": 14
        }
      ]
    },
    {
      "cell_type": "markdown",
      "metadata": {
        "id": "HjzHW02yni9B"
      },
      "source": [
        "The following (commented out) code is arguably the more \"pythonic\" way of achieving the extraction of bodies from messages. It is only 2 lines long and achieves the same result."
      ]
    },
    {
      "cell_type": "code",
      "metadata": {
        "id": "3g87bYPnnjNe"
      },
      "source": [
        "#messages = emails[\"message\"].apply(email.message_from_string)\r\n",
        "#bodies_df = messages.apply(lambda x: x.get_payload()).sample(10000)"
      ],
      "execution_count": 15,
      "outputs": []
    },
    {
      "cell_type": "markdown",
      "metadata": {
        "id": "rsXoqMRdwC65"
      },
      "source": [
        "### Email text preprocessing"
      ]
    },
    {
      "cell_type": "markdown",
      "metadata": {
        "id": "UeeYY2_OuxYw"
      },
      "source": [
        "Having loaded both datasets, we are now ready to sample emails from each one into a single DataFrame that will represent the overall dataset covering both classes of emails. Before doing this, we must decide how many samples to draw from each class. Ideally, the number of samples in each class will represent the natural distribution of emails in the wild, i.e, if we expect our classifier to encounter 60% spam emails and 40% nonspam emails when deployed, then a ratio such as 600 to 400 respectively might make sense.\r\n",
        "\r\n",
        "**Note that a severe imbalance in the data, such as 99% for nonspam and 1% for spam may overfit to predict nonspam most of the time, an issue than needs to be considered when building datasets.** Since this is an idealized experiment, and we do not have any information on natural distributions of classes, we will\r\n",
        "assume a 50/50 split. \r\n",
        "\r\n",
        "We also need to give some thought to how we are going to tokenize the emails, i.e., split emails into subunits of text - words, sentences, etc. To start off, we will tokenize into words, as this is the most common approach. \r\n",
        "\r\n",
        "We must also decide the maximum number of tokens per email, and the maximum length of each token, to ensure that the occasional “extremely long” email does not bog down the performance of our classifier. \r\n",
        "\r\n",
        "We do all these by specifying the following general hyperparameters, which will later be tuned experimentally to enhance performance as needed:"
      ]
    },
    {
      "cell_type": "code",
      "metadata": {
        "id": "7_qzNMcNsGh-"
      },
      "source": [
        "n_sample = 1000   # number of samples to generate in each class - 'spam', 'not spam'\r\n",
        "maxtokens = 200    # the maximum number of tokens per document\r\n",
        "maxtokenlen = 100  # the maximum length of each token"
      ],
      "execution_count": 16,
      "outputs": []
    },
    {
      "cell_type": "markdown",
      "metadata": {
        "id": "QRVD-qopxT2f"
      },
      "source": [
        "With these hyperparameters specified, we can now create a single DataFrame for the overarching training dataset. Let’s take the opportunity to also perform remaining preprocessing tasks, namely removing stop words, punctuations and tokenizing."
      ]
    },
    {
      "cell_type": "markdown",
      "metadata": {
        "id": "I2OTWZJ6w9-J"
      },
      "source": [
        "#### Tokenization"
      ]
    },
    {
      "cell_type": "markdown",
      "metadata": {
        "id": "A-dJjXYvxaK9"
      },
      "source": [
        "Let’s proceed by defining a function to tokenize emails by splitting them into words."
      ]
    },
    {
      "cell_type": "code",
      "metadata": {
        "id": "42b-458pwdRh"
      },
      "source": [
        "def tokenize(row):\r\n",
        "  if row is None or row is \"\":\r\n",
        "    tokens = \"\"\r\n",
        "  else:\r\n",
        "    tokens = str(row).split(\" \")[:maxtokens]\r\n",
        "  return tokens"
      ],
      "execution_count": 17,
      "outputs": []
    },
    {
      "cell_type": "markdown",
      "metadata": {
        "id": "5_viulZEyUNO"
      },
      "source": [
        "#### Remove punctuation and unnecessary characters"
      ]
    },
    {
      "cell_type": "markdown",
      "metadata": {
        "id": "4MOkUJbxyUeG"
      },
      "source": [
        "Taking another look at the emails on the previous pair of pages, we see that they contain a lot of punctuation characters, and the spam emails tend to be capitalized. \r\n",
        "\r\n",
        "**In order to ensure that classification is done based on language content only, we have to remove punctuation marks and other non-word characters from the emails.** We do this by employing regular expressions with the Python regex library. We also normalize words by turning them into lower case."
      ]
    },
    {
      "cell_type": "code",
      "metadata": {
        "id": "2n-aNOVNx3mC"
      },
      "source": [
        "def reg_expressions(row):\r\n",
        "  tokens = []\r\n",
        "  try:\r\n",
        "    for token in row:\r\n",
        "      token = token.lower()          # make all characters lower case\r\n",
        "      token = re.sub(r\"[\\W\\d]\", \"\", token)\r\n",
        "      token = token[:maxtokenlen]    # truncate all tokens to hyperparameter maxtokenlen\r\n",
        "      tokens.append(token)\r\n",
        "  except:\r\n",
        "    token = \"\"\r\n",
        "    tokens.append(token)\r\n",
        "  return tokens"
      ],
      "execution_count": 18,
      "outputs": []
    },
    {
      "cell_type": "markdown",
      "metadata": {
        "id": "Ubr6_29dzvyA"
      },
      "source": [
        "#### Stop-word removal"
      ]
    },
    {
      "cell_type": "markdown",
      "metadata": {
        "id": "VjpNoFWhzwqu"
      },
      "source": [
        "Finally, let’s define a function to remove stopwords - words that occur so frequently in language that they offer no useful information for classification. This includes words such as “the” and “are”, and the popular library NLTK provides a heavily used list that we will employ."
      ]
    },
    {
      "cell_type": "code",
      "metadata": {
        "id": "75fyCvyDzpFd"
      },
      "source": [
        "stop_words = stopwords.words(\"english\")\r\n",
        "\r\n",
        "def stop_word_removal(row):\r\n",
        "  token = [token for token in row if token not in stop_words]\r\n",
        "  token = filter(None, token)\r\n",
        "\r\n",
        "  return token"
      ],
      "execution_count": 19,
      "outputs": []
    },
    {
      "cell_type": "markdown",
      "metadata": {
        "id": "2A14TaVP2Rro"
      },
      "source": [
        "### Assemble both Datasets"
      ]
    },
    {
      "cell_type": "markdown",
      "metadata": {
        "id": "BwhmZaVb2VDS"
      },
      "source": [
        "We are now going to put all these functions together to build the single dataset representing both classes. Most methods expect this dataset to be a Numpy array in order to process it, so we convert it to that form after combining the emails.\r\n",
        "\r\n",
        "Now, putting all the preprocessing steps together we assemble our dataset..."
      ]
    },
    {
      "cell_type": "code",
      "metadata": {
        "id": "V2rjwJFC0i7U"
      },
      "source": [
        "# Convert everything to lower-case, truncate to maxtokens and truncate each token to maxtokenlen\r\n",
        "\r\n",
        "# Apply predefined processing functions\r\n",
        "enron_emails = bodies_df.iloc[:, 0].apply(tokenize)\r\n",
        "enron_emails = enron_emails.apply(stop_word_removal)\r\n",
        "enron_emails = enron_emails.apply(reg_expressions)\r\n",
        "# sample the right number of emails from each class.\r\n",
        "enron_emails = enron_emails.sample(n_sample)\r\n",
        "\r\n",
        "# Apply predefined processing functions\r\n",
        "spam_emails = fraud_bodies_df.iloc[:, 0].apply(tokenize)\r\n",
        "spam_emails = spam_emails.apply(stop_word_removal)\r\n",
        "spam_emails = spam_emails.apply(reg_expressions)\r\n",
        "# sample the right number of emails from each class.\r\n",
        "spam_emails = spam_emails.sample(n_sample)\r\n",
        "\r\n",
        "# convert to Numpy array\r\n",
        "raw_data = pd.concat([enron_emails, spam_emails], axis=0).values"
      ],
      "execution_count": 20,
      "outputs": []
    },
    {
      "cell_type": "markdown",
      "metadata": {
        "id": "siEiJQvp4Q29"
      },
      "source": [
        "Now, let’s take a peek at the result to make sure things are proceeding as expected:"
      ]
    },
    {
      "cell_type": "code",
      "metadata": {
        "id": "YSd-Yfri4KaB",
        "colab": {
          "base_uri": "https://localhost:8080/"
        },
        "outputId": "8ad90128-45da-43da-8b71-48d93a9df8f6"
      },
      "source": [
        "print(\"Shape of combined data is:\", raw_data.shape)\r\n",
        "print(\"Data is:\")\r\n",
        "print(raw_data)"
      ],
      "execution_count": 21,
      "outputs": [
        {
          "output_type": "stream",
          "text": [
            "Shape of combined data is: (2000,)\n",
            "Data is:\n",
            "[list(['peggyis', '', 'points', 'eau', 'claire', 'sheraton', 'im', 'trying', 'book', 'room', 'tuesday', 'eveningthankspatti', 'xpeggy', 'hedstrom', '', 'amto', 'sally', 'beckhouectectcc', 'subject', 'operational', 'risk', 'meetingwe', 'set', 'meeting', 'operational', 'risk', 'february', 'th', '', 'pm', 'we', 'room', 'booked', 'sheraton', 'set', 'similar', 'houston', 'meeting', 'i', 'invited', 'three', 'people', 'accounting', 'department', 'to', 'attend', 'well', 'laura', 'scott', 'cheryl', 'dawes', 'dave', 'hanslip', 'attendees', 'accounting', 'everyone', 'looking', 'forward', 'meeting', 'to', 'discuss', 'issue', 'so', 'far', 'weather', 'still', 'mild', 'talk', 'soonpeggy'])\n",
            " list(['everyone', 'list', '', 'likely', 'actively', 'involved', 'negotiating', 'swap', 'docs', 'highlghted', 'bluebill', 'bradforddebbie', 'bracketttanya', 'rohauermolly', 'harrissue', 'vasanpaul', 'radousjane', 'wilhitewendy', 'conwelled', 'sackstracy', 'ngojay', 'williamsrussell', 'diamondbrant', 'revesveronica', 'espinozarudwell', 'johnsondarren', 'vanektom', 'morannidia', 'mendozawalter', 'guidrozwendi', 'lebrocqveronica', 'gonzalezken', 'curryaparna', 'rajaramcarol', 'northteresa', 'seibelandrew', 'greerjames', 'copelandmartin', 'olearylesli', 'campbellangela', 'brown'])\n",
            " list(['vincei', 'made', 'bold', 'face', 'edits', 'attached', 'document', 'i', 'still', 'two', 'edits', 'to', 'make', 'concerned', 'reading', 'recent', 'version', 'sorry', 'confusion', 'editor', 'use', 'edit', 'function', 'word', 'so', 'i', 'ended', 'making', 'edits', 'new', 'versions', 'paper', 'i', 'still', 'made', 'change', 'regarding', 'takeorpay', 'problem', 'i', 'left', 'that', 'paper', 'home', 'briefcase', 'make', 'change', 'tomorrow', 'morning', 'also', 'i', 'added', 'anything', 'regarding', 'conflict', 'arose', 'over', 'pay', 'new', 'hires', 'i', 'received', 'business', 'week', 'email', 'youhowever', 'paper', 'looks', 'ok', 'mark', 'palmer', 'make', 'minor', 'edits', 'on', 'galley', 'pages', 'article', 'thanksjohnps', 'disappointed', 'scheduling', 'conflict', 'feb', 'rd', 'greatly', 'missed', 'certainly', 'understand', 'john', 'd', 'martincarr', 'p', 'collins', 'chair', 'financefinance', 'departmentbaylor', 'universitypo', 'box', 'waco', 'tx', '', 'office', 'faxj_martinbayloreduweb', 'httphsbbayloreduhtmlmartinjhomehtml'])\n",
            " ...\n",
            " list(['froma', 'john', 'duf', 'bendakarc', 'senegalafricaeemailajohndufkatamailecomdear', 'beloved', 'onee', 'thank', 'giving', 'timebplease', 'patient', 'read', 'email', 'youc', 'letter', 'might', 'come', 'surprise', 'youcand', 'could', 'wondering', 'i', 'got', 'contactei', 'got', 'address', 'personal', 'search', 'internet', 'someone', 'relaible', 'trustworthycso', 'decided', 'contact', 'assistantc', 'i', 'hope', 'take', 'time', 'considere', 'my', 'name', 'john', 'duf', 'benc', 'eldest', 'son', 'dreenagua', 'benc', 'zimbabweeduring', 'current', 'war', 'farmers', 'zimbabwe', 'supporters', 'president', 'robert', 'mugabe', 'claim', 'whiteowned', 'farms', 'party', 'members', 'followersc', 'ordered', 'all', 'white', 'farmers', 'surrender', 'farms', 'party', 'members', 'his', 'followerse', 'my', 'father', 'one', 'biggest', 'farmers', 'country', 'and', 'strongly', 'opposed', 'mugabes', 'ideasc', 'mugabes', 'supporters', 'invaded', 'fathers', 'farm', 'burnt', 'everything', 'farmc', 'killing', 'father', 'incident', 'made', 'away', 'lot', 'items', 'fathers', 'farmebefore', 'fathers', 'deathche', 'made', 'deposite', 'security', 'company', 'in', 'europec', 'sum'])\n",
            " list(['', 'from', 'mr', 'a', 'b', 'solarinotreat', 'with', 'utmost', 'confidentialitydear', 'friendi', 'apologized', 'using', 'medium', 'reach', 'deal', 'like', 'this', 'since', 'donot', 'know', 'before', 'this', 'due', 'confidentiality', 'i', 'got', 'contact', 'detailsthrough', 'private', 'search', 'internet', 'after', 'going', 'details', 'idecided', 'contact', 'believing', 'work', 'hands', 'achieve', 'thisgoalas', 'stated', 'above', 'i', 'mr', 'alexandro', 'benjamino', 'solarino', 'chief', 'auditordepartment', 'mineral', 'resources', 'falkland', 'island', 'south', 'atlantic', 'i', 'begrateful', 'foreign', 'partner', 'enable', 'us', 'carry', 'deal', 'ofeight', 'million', 'two', 'hundred', 'thousand', 'great', 'britain', 'pounds', 'ai', 'know', 'astonished', 'i', 'got', 'money', 'i', 'choose', 'youto', 'carry', 'deal', 'able', 'carry', 'dealas', 'involve', 'lot', 'money', 'well', 'since', 'i', 'need', 'partner', 'outside', 'countryand', 'outside', 'uk', 'receive', 'transfer', 'funds', 'here', 'ihave', 'look', 'someone', 'abroad', 'security', 'reasons', 'since', 'i', 'anybody', 'overseas', 'i', 'decided', 'search', 'internet', 'since', 'thefirst', 'person'])\n",
            " list(['mrse', 'sambu', 'lizzy', 'danani', 'refugee', 'camp', 'cfo', 'rock', 'of', 'ages', 'evangelical', 'ministry', 'accracghana', 'hello', 'pleasec', 'with', 'best', 'compliments', 'yearc', 'i', 'wish', 'solicit', 'help', 'migrating', 'country', 'investing', 'fundse', 'i', 'sierra', 'leonean', 'national', 'wife', 'late', 'dre', 'simon', 'sambue', 'until', 'deathc', 'husband', 'general', 'overseer', 'gold', 'diamond', 'mining', 'corporation', 'kanema', 'sierra', 'leonee', 'during', 'crisis', 'militaryforces', 'loyal', 'government', 'ahmed', 'tijan', 'kabbah', 'invaded', 'diamond', 'and', 'gold', 'mine', 'assassinated', 'husbandc', 'mistaking', 'brothermremike', 'sambu', 'deputy', 'leader', 'revolutionary', 'united', 'front', 'ruf', '', 'foday', 'sankohe', 'when', 'news', 'reached', 'mec', 'i', 'hurriedly', 'gathered', 'valuables', 'family', 'villa', 'escaped', 'dear', 'life', 'company', 'my', 'son', 'silas', 'sambu', 'left', 'valuables', 'since', 'i', 'haste', 'lost', 'somee', 'among', 'valuables', 'i', 'collected', 'file', 'contained', 'details', 'deposit', 'vault', 'husband', 'made', 'security', 'company', 'europee', 'he', 'deposited', 'usm', 'eight', 'million', 'ues', 'dollars', 'contained', 'one', 'box', 'name'])]\n"
          ],
          "name": "stdout"
        }
      ]
    },
    {
      "cell_type": "markdown",
      "metadata": {
        "id": "NXy7SLuV44Xw"
      },
      "source": [
        "We see that the resulting array has divided the text into word units, as we intended to.\r\n",
        "\r\n",
        "Let’s create the headers corresponding to these emails, consisting of n_sample=1000 of spam emails followed by n_sample=1000 of non-spam emails:"
      ]
    },
    {
      "cell_type": "code",
      "metadata": {
        "id": "o2hCPV3z4qXn"
      },
      "source": [
        "categories = [\"spam\", \"notspam\"]\r\n",
        "header = ([1] * n_sample)\r\n",
        "header.extend(([0] * n_sample)) "
      ],
      "execution_count": 22,
      "outputs": []
    },
    {
      "cell_type": "markdown",
      "metadata": {
        "id": "v9La125o61fZ"
      },
      "source": [
        "We are now ready to convert this Numpy array into numerical features that can actually be fed to the algorithms for classification."
      ]
    },
    {
      "cell_type": "markdown",
      "metadata": {
        "id": "sj0jsZ9W65Yo"
      },
      "source": [
        "### Converting the data to the form expected by Bert"
      ]
    },
    {
      "cell_type": "markdown",
      "metadata": {
        "id": "ALmmE6Wo7A-6"
      },
      "source": [
        "Before using this function to train a model, we will need to adapt our preprocessed data a bit for this model architecture.\r\n",
        "\r\n",
        "We use the below function to combine each such list into a single text string. This is the format in which the BERT TensorFlow hub model expects the input, and we are glad to oblige.\r\n",
        "\r\n",
        "> **NOTE**: The combined string in this case has stopwords removed – steps that are often not required in deep learning practice due to the uncanny ability of artificial neural networks to figure out what is important and isn’t,\r\n",
        "i.e., feature engineering, automatically. In our case, since we are trying to compare the strengths and weaknesses of the different model types for this problem, applying the same kind of preprocessing for all algorithms makes sense and is arguably the right approach. We note however that ELMo was pretrained on a corpus containing stopwords, as was BERT."
      ]
    },
    {
      "cell_type": "markdown",
      "metadata": {
        "id": "etyyQh-ZWWXf"
      },
      "source": [
        "Having fully vectorized the dataset, we must remember that it is not shuffled with respect to classes, i.e., it contains Nsamp = 1000 spam emails followed by an equal number of nonspam emails. Depending on how this dataset is split, in our case by picking the first 70% for training and the remainder for testing, this could lead to a training set composed of spam only, which would obviously lead to failure. In order to create a randomized ordering of class samples in the dataset, we will need to shuffle the data in unison with the header/list of labels.\r\n"
      ]
    },
    {
      "cell_type": "code",
      "metadata": {
        "id": "O1jUL1YnVBQN"
      },
      "source": [
        "# shuffle raw data first\r\n",
        "def unison_shuffle_data(data, header):\r\n",
        "  p = np.random.permutation(len(header))\r\n",
        "  data = data[p]\r\n",
        "  header = np.asarray(header)[p]\r\n",
        "\r\n",
        "  return data, header"
      ],
      "execution_count": 23,
      "outputs": []
    },
    {
      "cell_type": "code",
      "metadata": {
        "id": "6-Fy3piLUjSq"
      },
      "source": [
        "# we expect a single string per email here, versus a list of tokens for the sklearn models previously explored\r\n",
        "def convert_data(raw_data, header):\r\n",
        "  converted_data, labels = [], []\r\n",
        "  for i in range(raw_data.shape[0]):\r\n",
        "    # combine list of tokens representing each email into single string\r\n",
        "    out = \" \".join(raw_data[i])\r\n",
        "    converted_data.append(out)\r\n",
        "    labels.append(header[i])\r\n",
        "  converted_data = np.array(converted_data, dtype=object)[:, np.newaxis]\r\n",
        "\r\n",
        "  return converted_data, np.array(labels)"
      ],
      "execution_count": 24,
      "outputs": []
    },
    {
      "cell_type": "markdown",
      "metadata": {
        "id": "TIGDs4kZYCIr"
      },
      "source": [
        "As the very last step of preparing the email dataset for training by our baseline classifiers, we split it into independent training and testing or validation sets. This will allow us to evaluate the performance of the classifier on a set of data that was not used for training, an important thing\r\n",
        "to ensure in machine learning practice. We elect to use 70% of the data for training, and 30% for testing/validation afterwards."
      ]
    },
    {
      "cell_type": "code",
      "metadata": {
        "id": "h2bJ0TlTX3FW",
        "colab": {
          "base_uri": "https://localhost:8080/"
        },
        "outputId": "a697f1b7-f8b0-48a2-917a-5fc6c61cbad2"
      },
      "source": [
        "raw_data, header = unison_shuffle_data(raw_data, header)\r\n",
        "\r\n",
        "# split into independent 70% training and 30% testing sets\r\n",
        "idx = int(0.7 * raw_data.shape[0])  # get 70% index value\r\n",
        "\r\n",
        "# 70% of data for training\r\n",
        "train_x, train_y = convert_data(raw_data[:idx], header[:idx])\r\n",
        "\r\n",
        "# remaining 30% for testing\r\n",
        "test_x, test_y = convert_data(raw_data[idx:], header[idx:])\r\n",
        "\r\n",
        "print(\"train_x/train_y list details, to make sure they are of the right form:\")\r\n",
        "print(len(train_x))\r\n",
        "print(train_x)\r\n",
        "print(len(train_y))\r\n",
        "print(train_y[:5])"
      ],
      "execution_count": 25,
      "outputs": [
        {
          "output_type": "stream",
          "text": [
            "train_x/train_y list details, to make sure they are of the right form:\n",
            "1400\n",
            "[['emailmessagemessage object xfeef']\n",
            " ['my dearestwith due regard respect i emailing although wrong seeksuch assistance without prior knowledge person involved i hope iam mistaking i also believe end day willnever betray i family projecti princess fayad w bolkiah wife prince jefri bolkiah formerfinance minister brunei tiny oilrich sultanate gulfisland i mean amplify extended royal family history whichhas already disseminated international media thecontroversial dispute erupted husband stepbrotherthe sultan brunei his majesty sultan hassanal bolkiah muizzadinwaddaulahas may know international media sultan his majestysultan hassanal bolkiah muizzadin waddaulah accused husband offinancial mismanagement impropriety us million dollars thiswas result asian financial crisis made husbandscompany amedeo development company government owned brunei investmentcompany declared bankrupt tenure office however myhusband jail now bank accounts private properties includinga crude oil export refinery confiscated sultanatefurthermore unfortunate period i advised evacuate']\n",
            " ['emailmessagemessage object xfedaf']\n",
            " ...\n",
            " [' ahmedmpg']\n",
            " ['john i know touch instinet holding documents instinet could find ect investments inc executed  agreements which i resent them i lawyer agreed amend agreement add london terminalthis minor itemcan put pressure new yorksara']\n",
            " [' tour  houston october    in edition   great rates groups  nov  dec  umbrella club    days left receive  pricing   eclub weekly specials  arnold palmer golf academy orlando fl do know anyone would interested exclusive offering if so please forward newsletter friends or address added list please reply tourhoustonpalmergolfcom word add subject line include new email addressyou book reservation online httptourhoustongolfreservecom ask fall group rates  more play monday  thursday november  december   receive great package pricing offer valid groups booked special promotion window listed above restrictions apply contact kim inman book group event booking details  ext  kinmanpalmergolfcom umbrella clubas umbrella club member receive another level savings advantages including discounts']]\n",
            "1400\n",
            "[0 0 0 1 1]\n"
          ],
          "name": "stdout"
        }
      ]
    },
    {
      "cell_type": "markdown",
      "metadata": {
        "id": "7HQRPMa4Z8RB"
      },
      "source": [
        "Since 70% of 2000 is 1400, looks good! (for n_sample=1000)"
      ]
    },
    {
      "cell_type": "markdown",
      "metadata": {
        "id": "yAdf-aVkadDa"
      },
      "source": [
        "## Neural Network Models"
      ]
    },
    {
      "cell_type": "markdown",
      "metadata": {
        "id": "lyHf2bhnaeI8"
      },
      "source": [
        "Neural networks are the most important class of machine learning algorithms for handling perceptual problems such as computer vision and NLP.\r\n",
        "\r\n",
        "we will train two representative pretrained neural network language models\r\n",
        "on the two illustrative example problems we have been baselining.\r\n",
        "\r\n",
        "The two models we will consider here are:\r\n",
        "\r\n",
        "- **ELMo** – Embeddings from Language Models, and\r\n",
        "- **BERT** – Bidirectional Encoder Representations from Transformers.\r\n",
        "\r\n",
        "ELMo includes elements of convolutional and recurrent (specifically LSTM) elements, while the appropriately named BERT is transformer-based.\r\n",
        "\r\n",
        "The simplest form of transfer learning fine-tuning will be employed, where a single dense classification layer is trained on top of the corresponding pretrained embedding over our dataset of labels.\r\n"
      ]
    },
    {
      "cell_type": "markdown",
      "metadata": {
        "id": "wHMpH7umylgU"
      },
      "source": [
        "### Bidirectional Encoder Representations from Transformers (BERT)"
      ]
    },
    {
      "cell_type": "markdown",
      "metadata": {
        "id": "gL3uRvZsyl91"
      },
      "source": [
        "**Bidirectional Encoder Representations from Transformers (BERT) model** was also named after a popular Sesame Street character as a nod to the trend started by ELMo. BERT variants achieve some of the best performance in transferring pretrained language model knowledge to downstream NLP tasks. The model was similarly trained to predict words in a sequence of words, although the exact masking procedure is somewhat different. It can also be done in an unsupervised manner on very large corpuses, and the resulting weights similarly\r\n",
        "generalize to a variety of other NLP tasks. **Arguably, to familiarize oneself with transfer learning in NLP, it is indispensable for one to familiarize oneself with BERT.**\r\n",
        "\r\n",
        "It will suffice to mention here that the model employs character-level convolutions to build up preliminary embeddings of word tokens, followed by transformer-based encoders with selfattention layers that provide the model with a context of surrounding words. **The transformer functionally replaced the role of the bidirectional LSTMs employed by ELMo. Transformers have some advantages versus LSTMs with respect to training scalability as well.**. Again, we will use Keras with Tensorflow backend to build our model.\r\n"
      ]
    },
    {
      "cell_type": "markdown",
      "metadata": {
        "id": "AZQZ0weNfaJY"
      },
      "source": [
        "### Define BERT layer"
      ]
    },
    {
      "cell_type": "markdown",
      "metadata": {
        "id": "vYjdm_U-fcNM"
      },
      "source": [
        "The BERT model is also available through the Tensorflow Hub. In order to\r\n",
        "make the hub model usable by Keras, we similarly define a custom Keras layer that instantiates it in the right format."
      ]
    },
    {
      "cell_type": "code",
      "metadata": {
        "id": "LUorbYbDZw8b"
      },
      "source": [
        "class BertLayer(tf.keras.layers.Layer):\r\n",
        "\r\n",
        "  def __init__(self, n_fine_tune_layers=10, pooling=\"mean\", bert_path=\"https://tfhub.dev/google/bert_uncased_L-12_H-768_A-12/1\", **kwargs):\r\n",
        "    self.n_fine_tune_layers = n_fine_tune_layers    # Default number of top layers to unfreeze for training\r\n",
        "    self.trainable = True\r\n",
        "    self.output_size = 768      # BERT embedding dimension, i.e., size of resulting output semantic vectors\r\n",
        "    self.pooling = pooling      # Choice of regularization type\r\n",
        "    self.bert_path = bert_path  # Pretrained model to use, this is the large uncased original version of the model\r\n",
        "\r\n",
        "    if self.pooling not in [\"first\", \"mean\"]:\r\n",
        "      raise NameError(f\"Undefined pooling type (must be either first or mean, but is {self.pooling}\")\r\n",
        "\r\n",
        "    super(BertLayer, self).__init__(**kwargs)\r\n",
        "\r\n",
        "  def build(self, input_shape):\r\n",
        "    \"\"\"function for building BERT embedding\"\"\"\r\n",
        "    # Download pretrained BERT model from Tensorflow Hub\r\n",
        "    self.bert = hub.Module(self.bert_path, trainable=self.trainable, name=f\"{self.name}_module\") \r\n",
        "\r\n",
        "    # Remove unused layers\r\n",
        "    trainable_vars = self.bert.variables\r\n",
        "    if self.pooling == \"first\":\r\n",
        "      trainable_vars = [var for var in trainable_vars if not \"/cls/\" in var.name]\r\n",
        "      trainable_vars = [\"pooler/dense\"]\r\n",
        "    elif self.pooling == \"mean\":\r\n",
        "      trainable_vars = [var for var in trainable_vars if not \"/cls/\" in var.name and not \"/pooler/\" in var.name]\r\n",
        "      trainable_vars = []\r\n",
        "    else:\r\n",
        "      raise NameError(f\"Undefined pooling type (must be either first or mean, but is {self.pooling}\")\r\n",
        "    \r\n",
        "    # Select how many layers to fine tune\r\n",
        "    for i in range(self.n_fine_tune_layers):\r\n",
        "      trainable_layers.append(f\"encoder/layer_{str(11 - i)}\")\r\n",
        "\r\n",
        "    # Update trainable vars to contain only the specified layers\r\n",
        "    trainable_vars = [var for var in trainable_vars if any([layer in var.name for layer in trainable_vars])]\r\n",
        "\r\n",
        "    # Add to trainable weights\r\n",
        "    for var in trainable_vars:\r\n",
        "      self._trainable_weights.append(var)\r\n",
        "\r\n",
        "    for var in self.bert.variables:\r\n",
        "      if var not in self._trainable_weights:\r\n",
        "        self._non_trainable_weights.append(var)\r\n",
        "\r\n",
        "    super(BertLayer, self).build(input_shape)\r\n",
        "\r\n",
        "  def call(self, inputs):\r\n",
        "    \"\"\"specify function for calling embedding\"\"\"\r\n",
        "    inputs = [K.cast(x, dtype=\"int32\") for x in inputs]\r\n",
        "    input_ids, input_mask, segment_ids = inputs\r\n",
        "    # Inputs to BERT take a very specific triplet form\r\n",
        "    bert_inputs = dict(\r\n",
        "        input_ids = input_ids,\r\n",
        "        input_mask = input_mask,\r\n",
        "        segment_ids = segment_ids\r\n",
        "    )\r\n",
        "    \r\n",
        "    if self.pooling == \"first\":\r\n",
        "      pooled = self.bert(inputs=bert_inputs, signature=\"tokens\", as_dict=True)[\"pooled_output\"]\r\n",
        "    elif self.pooling == \"mean\":\r\n",
        "      result = self.bert(inputs=bert_inputs, signature=\"tokens\", as_dict=True)[\"sequence_output\"]\r\n",
        "      # BERT “masks” some words and then attempts to predict them as learning target\r\n",
        "      mul_mask = lambda x, m: x * tf.expand_dims(m, axis=-1)\r\n",
        "      masked_reduce_mean = lambda x, m: tf.reduce_sum(mul_mask(x, m), axis=1) / (tf.reduce_sum(m, axis=1, keepdims=True) + 1e-10)\r\n",
        "      input_mask = tf.cast(input_mask, tf.float32)\r\n",
        "      pooled = masked_reduce_mean(result, input_mask)\r\n",
        "    else:\r\n",
        "      raise NameError(f\"Undefined pooling type (must be either first or mean, but is {self.pooling}\")\r\n",
        "\r\n",
        "    return pooled\r\n",
        "\r\n",
        "  def compute_output_shape(self, input_shape):\r\n",
        "    \"\"\"specify output shape\"\"\"\r\n",
        "    return (input_shape[0], self.output_size)"
      ],
      "execution_count": 26,
      "outputs": []
    },
    {
      "cell_type": "markdown",
      "metadata": {
        "id": "V7Cg9jShftQj"
      },
      "source": [
        "### Build BERT model"
      ]
    },
    {
      "cell_type": "markdown",
      "metadata": {
        "id": "Hed2Z4FrysZV"
      },
      "source": [
        "Similarly to what we did for ELMo, we performed a sequence of analogous post-processing steps on the data from the prior sections to put it into the format required by the BERT model. In addition to what was done to concatenate the bag-of-words token representations into a list of strings, we subsequently need to convert each concatenated string into 3 arrays – **input ids, input masks and segment ids** – prior to feeding them to the BERT model."
      ]
    },
    {
      "cell_type": "code",
      "metadata": {
        "id": "9Vobk4LfyqQ9"
      },
      "source": [
        "def build_model(max_seq_length):\r\n",
        "  input_ids = tf.keras.layers.Input(shape=(max_seq_length, ), name=\"input_ids\")\r\n",
        "  input_masks = tf.keras.layers.Input(shape=(max_seq_length, ), name=\"input_masks\")\r\n",
        "  segment_ids = tf.keras.layers.Input(shape=(max_seq_length, ), name=\"segment_ids\")\r\n",
        "  bert_inputs = [input_ids, input_masks, segment_ids]\r\n",
        "\r\n",
        "  # We do not retrain any BERT layers, but rather use the pretrained model as an embedding and retrain some new\r\n",
        "  # layers on top of it so just extract BERT features, don't fine-tune\r\n",
        "  bert_output = BertLayer(n_fine_tune_layers=0)(bert_inputs)\r\n",
        "\r\n",
        "  # train dense classification layer on top of extracted features\r\n",
        "  dense = tf.keras.layers.Dense(256, activation=\"relu\")(bert_output)      # new layer outputting 256-dimensional feature vectors\r\n",
        "  prediction = tf.keras.layers.Dense(1, activation=\"sigmoid\")(dense)\r\n",
        "\r\n",
        "  # we could use sigmoid activation as well, but we choose softmax\r\n",
        "  # to enable us use sparse_categorical_crossentropy and sparse_categorical_accuracy below\r\n",
        "  model = tf.keras.models.Model(inputs=bert_inputs, outputs=prediction)\r\n",
        "  # use sparse_categorical_crossentropy and sparse_categorical_accuracy do avoid having to one-hot encode the labels\r\n",
        "  model.compile(loss=\"binary_crossentropy\", optimizer=\"adam\", metrics=[\"accuracy\"])\r\n",
        "\r\n",
        "  model.summary()\r\n",
        "\r\n",
        "  return model"
      ],
      "execution_count": 29,
      "outputs": []
    },
    {
      "cell_type": "code",
      "metadata": {
        "id": "OmLLc59gYMVU"
      },
      "source": [
        "# initialize tensorflow variables correctly\r\n",
        "def initialize_vars(sess):\r\n",
        "  sess.run(tf.local_variables_initializer())\r\n",
        "  sess.run(tf.global_variables_initializer())\r\n",
        "  sess.run(tf.tables_initializer())\r\n",
        "  K.set_session(sess)"
      ],
      "execution_count": 30,
      "outputs": []
    },
    {
      "cell_type": "markdown",
      "metadata": {
        "id": "x7jjzep8Z4-y"
      },
      "source": [
        "Now let's first define critical functions that define various components of the BERT model."
      ]
    },
    {
      "cell_type": "code",
      "metadata": {
        "id": "9qmvd5bThBLK"
      },
      "source": [
        "class InputExample(object):\r\n",
        "  \"\"\"A single training/test example for simple sequence classification.\"\"\"\r\n",
        "\r\n",
        "  def __init__(self, guid, text_a, text_b=None, label=None):\r\n",
        "    \"\"\"\r\n",
        "    Constructs a InputExample.\r\n",
        "    Args:\r\n",
        "      guid: Unique id for the example.\r\n",
        "      text_a: string. The untokenized text of the first sequence. For single\r\n",
        "        sequence tasks, only this sequence must be specified.\r\n",
        "      text_b: (Optional) string. The untokenized text of the second sequence.\r\n",
        "        Only must be specified for sequence pair tasks.\r\n",
        "      label: (Optional) string. The label of the example. This should be\r\n",
        "        specified for train examples, but not for test examples.\r\n",
        "    \"\"\"\r\n",
        "    self.guid = guid\r\n",
        "    self.text_a = text_a\r\n",
        "    self.text_b = text_b\r\n",
        "    self.label = label"
      ],
      "execution_count": 31,
      "outputs": []
    },
    {
      "cell_type": "code",
      "metadata": {
        "id": "wj2NGhaGnOLa"
      },
      "source": [
        "def create_tokenizer_from_hub_module(bert_path):\r\n",
        "  \"\"\"Get the vocab file and casing info from the Hub module.\"\"\"\r\n",
        "  bert_module = hub.Module(bert_path)\r\n",
        "  tokenization_info = bert_module(signature=\"tokenization_info\", as_dict=True)\r\n",
        "  vocab_file, do_lower_case = sess.run([tokenization_info[\"vocab_file\"], tokenization_info[\"do_lower_case\"]])\r\n",
        "\r\n",
        "  return FullTokenizer(vocab_file=vocab_file, do_lower_case=do_lower_case)"
      ],
      "execution_count": 32,
      "outputs": []
    },
    {
      "cell_type": "code",
      "metadata": {
        "id": "Sa4-ClNIbYp1"
      },
      "source": [
        "def convert_single_example(tokenizer, example, max_seq_length=256):\r\n",
        "  \"\"\"Converts a single `InputExample` into a single `InputFeatures`.\"\"\"\r\n",
        "  tokens_a = tokenizer.tokenize(example.text_a)\r\n",
        "  if len(tokens_a) > max_seq_length - 2:\r\n",
        "    tokens_a = tokens_a[0: (max_seq_length - 2)]\r\n",
        "\r\n",
        "  tokens = []\r\n",
        "  segment_ids = []\r\n",
        "  tokens.append(\"[CLS]\")\r\n",
        "  segment_ids.append(0)\r\n",
        "  for token in tokens_a:\r\n",
        "    tokens.append(token)\r\n",
        "    segment_ids.append(0)\r\n",
        "  tokens.append(\"[SEP]\")\r\n",
        "  segment_ids.append(0)\r\n",
        "\r\n",
        "  input_ids = tokenizer.convert_tokens_to_ids(tokens)\r\n",
        "\r\n",
        "  # The mask has 1 for real tokens and 0 for padding tokens. Only real tokens are attended to.\r\n",
        "  input_mask = [1] * len(input_ids)\r\n",
        "\r\n",
        "  # Zero-pad up to the sequence length.\r\n",
        "  while len(input_ids) < max_seq_length:\r\n",
        "    input_ids.append(0)\r\n",
        "    input_mask.append(0)\r\n",
        "    segment_ids.append(0)\r\n",
        "\r\n",
        "  assert len(input_ids) == max_seq_length\r\n",
        "  assert len(input_mask) == max_seq_length\r\n",
        "  assert len(segment_ids) == max_seq_length\r\n",
        "\r\n",
        "  return input_ids, input_mask, segment_ids, example.label"
      ],
      "execution_count": 33,
      "outputs": []
    },
    {
      "cell_type": "code",
      "metadata": {
        "id": "5aMhN765l_S5"
      },
      "source": [
        "def convert_examples_to_features(tokenizer, examples, max_seq_length=256):\r\n",
        "  \"\"\"Convert a set of `InputExample`s to a list of `InputFeatures`.\"\"\"\r\n",
        "  input_ids, input_masks, segment_ids, labels = [], [], [], []\r\n",
        "  for example in tqdm(examples, desc=\"Converting examples to features\"):\r\n",
        "    input_id, input_mask, segment_id, label = convert_single_example(tokenizer, example, max_seq_length)\r\n",
        "    input_ids.append(input_id)\r\n",
        "    input_masks.append(input_mask)\r\n",
        "    segment_ids.append(segment_id)\r\n",
        "    labels.append(label)\r\n",
        "\r\n",
        "  return (np.array(input_ids), np.array(input_masks), np.array(segment_ids), np.array(labels).reshape(-1, 1))"
      ],
      "execution_count": 35,
      "outputs": []
    },
    {
      "cell_type": "code",
      "metadata": {
        "id": "gNCYJbBgnBPb"
      },
      "source": [
        "def convert_text_to_examples(texts, labels):\r\n",
        "  InputExamples = []\r\n",
        "  for text, label in zip(texts, labels):\r\n",
        "    InputExample.append(InputExample(guid=None, text_a=\" \".join(text), text_b=None, label=label))\r\n",
        "\r\n",
        "  return InputExamples"
      ],
      "execution_count": 36,
      "outputs": []
    },
    {
      "cell_type": "markdown",
      "metadata": {
        "id": "lHcg9vEhoZhc"
      },
      "source": [
        "### Train BERT model"
      ]
    },
    {
      "cell_type": "code",
      "metadata": {
        "id": "eZ_Iw2ijobyN"
      },
      "source": [
        ""
      ],
      "execution_count": null,
      "outputs": []
    },
    {
      "cell_type": "markdown",
      "metadata": {
        "id": "ijD8G8DVyw7_"
      },
      "source": [
        "We note that most of the trainable parameters in this case (approximately 260 thousand of them) are coming from the layers we added on top of the custom ELMo model. In other words, this is our first instance of transfer learning – learning a pair of new layers on top of the pretrained model shared by ELMo’s creators.\r\n",
        "\r\n",
        "In practice, one can increase the value of this parameter until the speed of convergence of a typical problem instance does not benefit from the increase, or whenever the GPU memory is no longer large enough for a single data batch to\r\n",
        "fit on it during an iteration of the algorithm, whichever happens first. Additionally, when dealing with a multi-GPU scenario, some evidence that the optimal scaling-up schedule of the batch size is linear in the number of GPUs, has been presented."
      ]
    },
    {
      "cell_type": "code",
      "metadata": {
        "id": "Ts1BU2mQmkT6"
      },
      "source": [
        "df_history = pd.DataFrame(history.history)\r\n",
        "\r\n",
        "fig,ax = plt.subplots()\r\n",
        "plt.plot(range(df_history.shape[0]),df_history['val_acc'],'bs--',label='validation')\r\n",
        "plt.plot(range(df_history.shape[0]),df_history['acc'],'r^--',label='training')\r\n",
        "plt.xlabel('epoch')\r\n",
        "plt.ylabel('accuracy')\r\n",
        "plt.title('ELMo Email Classification Training')\r\n",
        "plt.legend(loc='best')\r\n",
        "plt.grid()\r\n",
        "plt.show()\r\n",
        "# Save figures\r\n",
        "fig.savefig('ELMoConvergence.eps', format='eps')\r\n",
        "fig.savefig('ELMoConvergence.pdf', format='pdf')\r\n",
        "fig.savefig('ELMoConvergence.png', format='png')\r\n",
        "fig.savefig('ELMoConvergence.svg', format='svg')"
      ],
      "execution_count": null,
      "outputs": []
    },
    {
      "cell_type": "markdown",
      "metadata": {
        "id": "uZe6rKw7mkxq"
      },
      "source": [
        "We see that a validation accuracy of approximately 98.83% is attained at the 4th epoch, i.e., in under a minute. This performance is comparable to the performance of the logistic regression approach, which is only slightly better at 98.8%. We note that the behavior of the algorithm is stochastic, i.e., it behaves differently from run to run.\r\n",
        "\r\n",
        "Finally, we note that the divergence of training and validation accuracies is suggestive of the beginning of overfitting as indicative in the figure. This\r\n",
        "lends credence to the hypothesis that increasing the amount of signal by increasing the length of tokens, as specified by hyper-parameter maxtokenlen, and the number of tokens per email, as specified by maxtokens, may increase performance further. Naturally, increasing the number of samples per class by cranking up Nsamp should also work to improve performance.\r\n",
        "\r\n",
        "Each epoch again takes approximately 10 seconds and a validation accuracy of approximately 70% is achieved in under a minute at the 2nd epoch.\r\n",
        "\r\n",
        "**Note that some evidence of overfitting can be observed at the 3rd and later epochs, as the training accuracy continues to improve, i.e., the fit to the data improves, while the validation accuracy remains lower.**"
      ]
    }
  ]
}